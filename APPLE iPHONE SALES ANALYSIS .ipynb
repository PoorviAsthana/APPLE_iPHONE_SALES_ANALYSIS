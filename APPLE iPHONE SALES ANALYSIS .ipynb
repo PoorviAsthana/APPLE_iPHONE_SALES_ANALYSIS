{
 "cells": [
  {
   "cell_type": "markdown",
   "id": "bc3082f8-5029-46c5-a11d-51a40ede013d",
   "metadata": {},
   "source": [
    "# APPLE iPHONE SALES ANALYSIS "
   ]
  },
  {
   "cell_type": "code",
   "execution_count": 1,
   "id": "2dec6f6b-2c5e-4aeb-8177-889440eee7e4",
   "metadata": {},
   "outputs": [],
   "source": [
    "#importing libraries\n",
    "\n",
    "import numpy as np \n",
    "import pandas as pd \n",
    "import plotly.express as px \n",
    "import plotly.graph_objects as go"
   ]
  },
  {
   "cell_type": "code",
   "execution_count": 2,
   "id": "04d7bc69-c702-4015-9d0d-e4afce45c45d",
   "metadata": {},
   "outputs": [
    {
     "data": {
      "text/html": [
       "<div>\n",
       "<style scoped>\n",
       "    .dataframe tbody tr th:only-of-type {\n",
       "        vertical-align: middle;\n",
       "    }\n",
       "\n",
       "    .dataframe tbody tr th {\n",
       "        vertical-align: top;\n",
       "    }\n",
       "\n",
       "    .dataframe thead th {\n",
       "        text-align: right;\n",
       "    }\n",
       "</style>\n",
       "<table border=\"1\" class=\"dataframe\">\n",
       "  <thead>\n",
       "    <tr style=\"text-align: right;\">\n",
       "      <th></th>\n",
       "      <th>Product Name</th>\n",
       "      <th>Product URL</th>\n",
       "      <th>Brand</th>\n",
       "      <th>Sale Price</th>\n",
       "      <th>Mrp</th>\n",
       "      <th>Discount Percentage</th>\n",
       "      <th>Number Of Ratings</th>\n",
       "      <th>Number Of Reviews</th>\n",
       "      <th>Upc</th>\n",
       "      <th>Star Rating</th>\n",
       "      <th>Ram</th>\n",
       "    </tr>\n",
       "  </thead>\n",
       "  <tbody>\n",
       "    <tr>\n",
       "      <th>0</th>\n",
       "      <td>APPLE iPhone 8 Plus (Gold, 64 GB)</td>\n",
       "      <td>https://www.flipkart.com/apple-iphone-8-plus-g...</td>\n",
       "      <td>Apple</td>\n",
       "      <td>49900</td>\n",
       "      <td>49900</td>\n",
       "      <td>0</td>\n",
       "      <td>3431</td>\n",
       "      <td>356</td>\n",
       "      <td>MOBEXRGV7EHHTGUH</td>\n",
       "      <td>4.6</td>\n",
       "      <td>2 GB</td>\n",
       "    </tr>\n",
       "    <tr>\n",
       "      <th>1</th>\n",
       "      <td>APPLE iPhone 8 Plus (Space Grey, 256 GB)</td>\n",
       "      <td>https://www.flipkart.com/apple-iphone-8-plus-s...</td>\n",
       "      <td>Apple</td>\n",
       "      <td>84900</td>\n",
       "      <td>84900</td>\n",
       "      <td>0</td>\n",
       "      <td>3431</td>\n",
       "      <td>356</td>\n",
       "      <td>MOBEXRGVAC6TJT4F</td>\n",
       "      <td>4.6</td>\n",
       "      <td>2 GB</td>\n",
       "    </tr>\n",
       "    <tr>\n",
       "      <th>2</th>\n",
       "      <td>APPLE iPhone 8 Plus (Silver, 256 GB)</td>\n",
       "      <td>https://www.flipkart.com/apple-iphone-8-plus-s...</td>\n",
       "      <td>Apple</td>\n",
       "      <td>84900</td>\n",
       "      <td>84900</td>\n",
       "      <td>0</td>\n",
       "      <td>3431</td>\n",
       "      <td>356</td>\n",
       "      <td>MOBEXRGVGETABXWZ</td>\n",
       "      <td>4.6</td>\n",
       "      <td>2 GB</td>\n",
       "    </tr>\n",
       "    <tr>\n",
       "      <th>3</th>\n",
       "      <td>APPLE iPhone 8 (Silver, 256 GB)</td>\n",
       "      <td>https://www.flipkart.com/apple-iphone-8-silver...</td>\n",
       "      <td>Apple</td>\n",
       "      <td>77000</td>\n",
       "      <td>77000</td>\n",
       "      <td>0</td>\n",
       "      <td>11202</td>\n",
       "      <td>794</td>\n",
       "      <td>MOBEXRGVMZWUHCBA</td>\n",
       "      <td>4.5</td>\n",
       "      <td>2 GB</td>\n",
       "    </tr>\n",
       "    <tr>\n",
       "      <th>4</th>\n",
       "      <td>APPLE iPhone 8 (Gold, 256 GB)</td>\n",
       "      <td>https://www.flipkart.com/apple-iphone-8-gold-2...</td>\n",
       "      <td>Apple</td>\n",
       "      <td>77000</td>\n",
       "      <td>77000</td>\n",
       "      <td>0</td>\n",
       "      <td>11202</td>\n",
       "      <td>794</td>\n",
       "      <td>MOBEXRGVPK7PFEJZ</td>\n",
       "      <td>4.5</td>\n",
       "      <td>2 GB</td>\n",
       "    </tr>\n",
       "    <tr>\n",
       "      <th>...</th>\n",
       "      <td>...</td>\n",
       "      <td>...</td>\n",
       "      <td>...</td>\n",
       "      <td>...</td>\n",
       "      <td>...</td>\n",
       "      <td>...</td>\n",
       "      <td>...</td>\n",
       "      <td>...</td>\n",
       "      <td>...</td>\n",
       "      <td>...</td>\n",
       "      <td>...</td>\n",
       "    </tr>\n",
       "    <tr>\n",
       "      <th>57</th>\n",
       "      <td>APPLE iPhone SE (Black, 64 GB)</td>\n",
       "      <td>https://www.flipkart.com/apple-iphone-se-black...</td>\n",
       "      <td>Apple</td>\n",
       "      <td>29999</td>\n",
       "      <td>39900</td>\n",
       "      <td>24</td>\n",
       "      <td>95909</td>\n",
       "      <td>8161</td>\n",
       "      <td>MOBFWQ6BR3MK7AUG</td>\n",
       "      <td>4.5</td>\n",
       "      <td>4 GB</td>\n",
       "    </tr>\n",
       "    <tr>\n",
       "      <th>58</th>\n",
       "      <td>APPLE iPhone 11 (Purple, 64 GB)</td>\n",
       "      <td>https://www.flipkart.com/apple-iphone-11-purpl...</td>\n",
       "      <td>Apple</td>\n",
       "      <td>46999</td>\n",
       "      <td>54900</td>\n",
       "      <td>14</td>\n",
       "      <td>43470</td>\n",
       "      <td>3331</td>\n",
       "      <td>MOBFWQ6BTFFJKGKE</td>\n",
       "      <td>4.6</td>\n",
       "      <td>4 GB</td>\n",
       "    </tr>\n",
       "    <tr>\n",
       "      <th>59</th>\n",
       "      <td>APPLE iPhone 11 (White, 64 GB)</td>\n",
       "      <td>https://www.flipkart.com/apple-iphone-11-white...</td>\n",
       "      <td>Apple</td>\n",
       "      <td>46999</td>\n",
       "      <td>54900</td>\n",
       "      <td>14</td>\n",
       "      <td>43470</td>\n",
       "      <td>3331</td>\n",
       "      <td>MOBFWQ6BVWVEH3XE</td>\n",
       "      <td>4.6</td>\n",
       "      <td>4 GB</td>\n",
       "    </tr>\n",
       "    <tr>\n",
       "      <th>60</th>\n",
       "      <td>APPLE iPhone 11 (Black, 64 GB)</td>\n",
       "      <td>https://www.flipkart.com/apple-iphone-11-black...</td>\n",
       "      <td>Apple</td>\n",
       "      <td>46999</td>\n",
       "      <td>54900</td>\n",
       "      <td>14</td>\n",
       "      <td>43470</td>\n",
       "      <td>3331</td>\n",
       "      <td>MOBFWQ6BXGJCEYNY</td>\n",
       "      <td>4.6</td>\n",
       "      <td>4 GB</td>\n",
       "    </tr>\n",
       "    <tr>\n",
       "      <th>61</th>\n",
       "      <td>APPLE iPhone 11 (Red, 64 GB)</td>\n",
       "      <td>https://www.flipkart.com/apple-iphone-11-red-6...</td>\n",
       "      <td>Apple</td>\n",
       "      <td>46999</td>\n",
       "      <td>54900</td>\n",
       "      <td>14</td>\n",
       "      <td>43470</td>\n",
       "      <td>3331</td>\n",
       "      <td>MOBFWQ6BYYV3FCU7</td>\n",
       "      <td>4.6</td>\n",
       "      <td>4 GB</td>\n",
       "    </tr>\n",
       "  </tbody>\n",
       "</table>\n",
       "<p>62 rows × 11 columns</p>\n",
       "</div>"
      ],
      "text/plain": [
       "                                Product Name  \\\n",
       "0          APPLE iPhone 8 Plus (Gold, 64 GB)   \n",
       "1   APPLE iPhone 8 Plus (Space Grey, 256 GB)   \n",
       "2       APPLE iPhone 8 Plus (Silver, 256 GB)   \n",
       "3            APPLE iPhone 8 (Silver, 256 GB)   \n",
       "4              APPLE iPhone 8 (Gold, 256 GB)   \n",
       "..                                       ...   \n",
       "57            APPLE iPhone SE (Black, 64 GB)   \n",
       "58           APPLE iPhone 11 (Purple, 64 GB)   \n",
       "59            APPLE iPhone 11 (White, 64 GB)   \n",
       "60            APPLE iPhone 11 (Black, 64 GB)   \n",
       "61              APPLE iPhone 11 (Red, 64 GB)   \n",
       "\n",
       "                                          Product URL  Brand  Sale Price  \\\n",
       "0   https://www.flipkart.com/apple-iphone-8-plus-g...  Apple       49900   \n",
       "1   https://www.flipkart.com/apple-iphone-8-plus-s...  Apple       84900   \n",
       "2   https://www.flipkart.com/apple-iphone-8-plus-s...  Apple       84900   \n",
       "3   https://www.flipkart.com/apple-iphone-8-silver...  Apple       77000   \n",
       "4   https://www.flipkart.com/apple-iphone-8-gold-2...  Apple       77000   \n",
       "..                                                ...    ...         ...   \n",
       "57  https://www.flipkart.com/apple-iphone-se-black...  Apple       29999   \n",
       "58  https://www.flipkart.com/apple-iphone-11-purpl...  Apple       46999   \n",
       "59  https://www.flipkart.com/apple-iphone-11-white...  Apple       46999   \n",
       "60  https://www.flipkart.com/apple-iphone-11-black...  Apple       46999   \n",
       "61  https://www.flipkart.com/apple-iphone-11-red-6...  Apple       46999   \n",
       "\n",
       "      Mrp  Discount Percentage  Number Of Ratings  Number Of Reviews  \\\n",
       "0   49900                    0               3431                356   \n",
       "1   84900                    0               3431                356   \n",
       "2   84900                    0               3431                356   \n",
       "3   77000                    0              11202                794   \n",
       "4   77000                    0              11202                794   \n",
       "..    ...                  ...                ...                ...   \n",
       "57  39900                   24              95909               8161   \n",
       "58  54900                   14              43470               3331   \n",
       "59  54900                   14              43470               3331   \n",
       "60  54900                   14              43470               3331   \n",
       "61  54900                   14              43470               3331   \n",
       "\n",
       "                 Upc  Star Rating   Ram  \n",
       "0   MOBEXRGV7EHHTGUH          4.6  2 GB  \n",
       "1   MOBEXRGVAC6TJT4F          4.6  2 GB  \n",
       "2   MOBEXRGVGETABXWZ          4.6  2 GB  \n",
       "3   MOBEXRGVMZWUHCBA          4.5  2 GB  \n",
       "4   MOBEXRGVPK7PFEJZ          4.5  2 GB  \n",
       "..               ...          ...   ...  \n",
       "57  MOBFWQ6BR3MK7AUG          4.5  4 GB  \n",
       "58  MOBFWQ6BTFFJKGKE          4.6  4 GB  \n",
       "59  MOBFWQ6BVWVEH3XE          4.6  4 GB  \n",
       "60  MOBFWQ6BXGJCEYNY          4.6  4 GB  \n",
       "61  MOBFWQ6BYYV3FCU7          4.6  4 GB  \n",
       "\n",
       "[62 rows x 11 columns]"
      ]
     },
     "execution_count": 2,
     "metadata": {},
     "output_type": "execute_result"
    }
   ],
   "source": [
    "df=pd.read_csv(r\"C:\\Users\\Poorvi Asthana\\Desktop\\Jupyter Files\\Data Analytics previous files\\Projects\\Datasets\\apple_products.csv\")\n",
    "df "
   ]
  },
  {
   "cell_type": "markdown",
   "id": "ab4b3868-6227-432e-89f5-142ffd370a4e",
   "metadata": {},
   "source": [
    "## (I) Data cleaning "
   ]
  },
  {
   "cell_type": "code",
   "execution_count": 3,
   "id": "ebf9b685-11ea-4181-926c-5ab6fce8ad46",
   "metadata": {},
   "outputs": [
    {
     "data": {
      "text/plain": [
       "Product Name           0\n",
       "Product URL            0\n",
       "Brand                  0\n",
       "Sale Price             0\n",
       "Mrp                    0\n",
       "Discount Percentage    0\n",
       "Number Of Ratings      0\n",
       "Number Of Reviews      0\n",
       "Upc                    0\n",
       "Star Rating            0\n",
       "Ram                    0\n",
       "dtype: int64"
      ]
     },
     "execution_count": 3,
     "metadata": {},
     "output_type": "execute_result"
    }
   ],
   "source": [
    "df.isnull().sum() "
   ]
  },
  {
   "cell_type": "markdown",
   "id": "3ec45204-f289-4b7c-9cde-e5a476968f50",
   "metadata": {},
   "source": [
    "## (I) Data analysis"
   ]
  },
  {
   "cell_type": "code",
   "execution_count": 27,
   "id": "8405bbf1-7908-4fa0-bea1-87f34e2423e9",
   "metadata": {},
   "outputs": [
    {
     "data": {
      "text/html": [
       "<div>\n",
       "<style scoped>\n",
       "    .dataframe tbody tr th:only-of-type {\n",
       "        vertical-align: middle;\n",
       "    }\n",
       "\n",
       "    .dataframe tbody tr th {\n",
       "        vertical-align: top;\n",
       "    }\n",
       "\n",
       "    .dataframe thead th {\n",
       "        text-align: right;\n",
       "    }\n",
       "</style>\n",
       "<table border=\"1\" class=\"dataframe\">\n",
       "  <thead>\n",
       "    <tr style=\"text-align: right;\">\n",
       "      <th></th>\n",
       "      <th>Sale Price</th>\n",
       "      <th>Mrp</th>\n",
       "      <th>Discount Percentage</th>\n",
       "      <th>Number Of Ratings</th>\n",
       "      <th>Number Of Reviews</th>\n",
       "      <th>Star Rating</th>\n",
       "    </tr>\n",
       "  </thead>\n",
       "  <tbody>\n",
       "    <tr>\n",
       "      <th>count</th>\n",
       "      <td>62.000000</td>\n",
       "      <td>62.000000</td>\n",
       "      <td>62.000000</td>\n",
       "      <td>62.000000</td>\n",
       "      <td>62.000000</td>\n",
       "      <td>62.000000</td>\n",
       "    </tr>\n",
       "    <tr>\n",
       "      <th>mean</th>\n",
       "      <td>80073.887097</td>\n",
       "      <td>88058.064516</td>\n",
       "      <td>9.951613</td>\n",
       "      <td>22420.403226</td>\n",
       "      <td>1861.677419</td>\n",
       "      <td>4.575806</td>\n",
       "    </tr>\n",
       "    <tr>\n",
       "      <th>std</th>\n",
       "      <td>34310.446132</td>\n",
       "      <td>34728.825597</td>\n",
       "      <td>7.608079</td>\n",
       "      <td>33768.589550</td>\n",
       "      <td>2855.883830</td>\n",
       "      <td>0.059190</td>\n",
       "    </tr>\n",
       "    <tr>\n",
       "      <th>min</th>\n",
       "      <td>29999.000000</td>\n",
       "      <td>39900.000000</td>\n",
       "      <td>0.000000</td>\n",
       "      <td>542.000000</td>\n",
       "      <td>42.000000</td>\n",
       "      <td>4.500000</td>\n",
       "    </tr>\n",
       "    <tr>\n",
       "      <th>25%</th>\n",
       "      <td>49900.000000</td>\n",
       "      <td>54900.000000</td>\n",
       "      <td>6.000000</td>\n",
       "      <td>740.000000</td>\n",
       "      <td>64.000000</td>\n",
       "      <td>4.500000</td>\n",
       "    </tr>\n",
       "    <tr>\n",
       "      <th>50%</th>\n",
       "      <td>75900.000000</td>\n",
       "      <td>79900.000000</td>\n",
       "      <td>10.000000</td>\n",
       "      <td>2101.000000</td>\n",
       "      <td>180.000000</td>\n",
       "      <td>4.600000</td>\n",
       "    </tr>\n",
       "    <tr>\n",
       "      <th>75%</th>\n",
       "      <td>117100.000000</td>\n",
       "      <td>120950.000000</td>\n",
       "      <td>14.000000</td>\n",
       "      <td>43470.000000</td>\n",
       "      <td>3331.000000</td>\n",
       "      <td>4.600000</td>\n",
       "    </tr>\n",
       "    <tr>\n",
       "      <th>max</th>\n",
       "      <td>140900.000000</td>\n",
       "      <td>149900.000000</td>\n",
       "      <td>29.000000</td>\n",
       "      <td>95909.000000</td>\n",
       "      <td>8161.000000</td>\n",
       "      <td>4.700000</td>\n",
       "    </tr>\n",
       "  </tbody>\n",
       "</table>\n",
       "</div>"
      ],
      "text/plain": [
       "          Sale Price            Mrp  Discount Percentage  Number Of Ratings  \\\n",
       "count      62.000000      62.000000            62.000000          62.000000   \n",
       "mean    80073.887097   88058.064516             9.951613       22420.403226   \n",
       "std     34310.446132   34728.825597             7.608079       33768.589550   \n",
       "min     29999.000000   39900.000000             0.000000         542.000000   \n",
       "25%     49900.000000   54900.000000             6.000000         740.000000   \n",
       "50%     75900.000000   79900.000000            10.000000        2101.000000   \n",
       "75%    117100.000000  120950.000000            14.000000       43470.000000   \n",
       "max    140900.000000  149900.000000            29.000000       95909.000000   \n",
       "\n",
       "       Number Of Reviews  Star Rating  \n",
       "count          62.000000    62.000000  \n",
       "mean         1861.677419     4.575806  \n",
       "std          2855.883830     0.059190  \n",
       "min            42.000000     4.500000  \n",
       "25%            64.000000     4.500000  \n",
       "50%           180.000000     4.600000  \n",
       "75%          3331.000000     4.600000  \n",
       "max          8161.000000     4.700000  "
      ]
     },
     "execution_count": 27,
     "metadata": {},
     "output_type": "execute_result"
    }
   ],
   "source": [
    "df.describe()    "
   ]
  },
  {
   "cell_type": "markdown",
   "id": "b1fbbd02-0e8c-46b0-ad91-b2c35ac73450",
   "metadata": {},
   "source": [
    "## (II) Data visualization "
   ]
  },
  {
   "cell_type": "markdown",
   "id": "f79697b8-a365-4547-8b6d-66bf071fca02",
   "metadata": {},
   "source": [
    "# # Obj. I: To visualize top 10 iphones based on the ratings "
   ]
  },
  {
   "cell_type": "code",
   "execution_count": 5,
   "id": "e7769f20-1a04-452b-a9c0-c404e187fdb4",
   "metadata": {},
   "outputs": [
    {
     "data": {
      "text/html": [
       "<div>\n",
       "<style scoped>\n",
       "    .dataframe tbody tr th:only-of-type {\n",
       "        vertical-align: middle;\n",
       "    }\n",
       "\n",
       "    .dataframe tbody tr th {\n",
       "        vertical-align: top;\n",
       "    }\n",
       "\n",
       "    .dataframe thead th {\n",
       "        text-align: right;\n",
       "    }\n",
       "</style>\n",
       "<table border=\"1\" class=\"dataframe\">\n",
       "  <thead>\n",
       "    <tr style=\"text-align: right;\">\n",
       "      <th></th>\n",
       "      <th>Product Name</th>\n",
       "      <th>Product URL</th>\n",
       "      <th>Brand</th>\n",
       "      <th>Sale Price</th>\n",
       "      <th>Mrp</th>\n",
       "      <th>Discount Percentage</th>\n",
       "      <th>Number Of Ratings</th>\n",
       "      <th>Number Of Reviews</th>\n",
       "      <th>Upc</th>\n",
       "      <th>Star Rating</th>\n",
       "      <th>Ram</th>\n",
       "    </tr>\n",
       "  </thead>\n",
       "  <tbody>\n",
       "    <tr>\n",
       "      <th>20</th>\n",
       "      <td>APPLE iPhone 11 Pro Max (Midnight Green, 64 GB)</td>\n",
       "      <td>https://www.flipkart.com/apple-iphone-11-pro-m...</td>\n",
       "      <td>Apple</td>\n",
       "      <td>117100</td>\n",
       "      <td>117100</td>\n",
       "      <td>0</td>\n",
       "      <td>1078</td>\n",
       "      <td>101</td>\n",
       "      <td>MOBFKCTSRYPAQNYT</td>\n",
       "      <td>4.7</td>\n",
       "      <td>4 GB</td>\n",
       "    </tr>\n",
       "    <tr>\n",
       "      <th>17</th>\n",
       "      <td>APPLE iPhone 11 Pro Max (Space Grey, 64 GB)</td>\n",
       "      <td>https://www.flipkart.com/apple-iphone-11-pro-m...</td>\n",
       "      <td>Apple</td>\n",
       "      <td>117100</td>\n",
       "      <td>117100</td>\n",
       "      <td>0</td>\n",
       "      <td>1078</td>\n",
       "      <td>101</td>\n",
       "      <td>MOBFKCTSKDMKCGQS</td>\n",
       "      <td>4.7</td>\n",
       "      <td>4 GB</td>\n",
       "    </tr>\n",
       "    <tr>\n",
       "      <th>16</th>\n",
       "      <td>APPLE iPhone 11 Pro Max (Midnight Green, 256 GB)</td>\n",
       "      <td>https://www.flipkart.com/apple-iphone-11-pro-m...</td>\n",
       "      <td>Apple</td>\n",
       "      <td>131900</td>\n",
       "      <td>131900</td>\n",
       "      <td>0</td>\n",
       "      <td>1078</td>\n",
       "      <td>101</td>\n",
       "      <td>MOBFKCTSCAAKGQV7</td>\n",
       "      <td>4.7</td>\n",
       "      <td>4 GB</td>\n",
       "    </tr>\n",
       "    <tr>\n",
       "      <th>15</th>\n",
       "      <td>APPLE iPhone 11 Pro Max (Gold, 64 GB)</td>\n",
       "      <td>https://www.flipkart.com/apple-iphone-11-pro-m...</td>\n",
       "      <td>Apple</td>\n",
       "      <td>117100</td>\n",
       "      <td>117100</td>\n",
       "      <td>0</td>\n",
       "      <td>1078</td>\n",
       "      <td>101</td>\n",
       "      <td>MOBFKCTSAPAYNSGG</td>\n",
       "      <td>4.7</td>\n",
       "      <td>4 GB</td>\n",
       "    </tr>\n",
       "    <tr>\n",
       "      <th>14</th>\n",
       "      <td>APPLE iPhone 11 Pro Max (Gold, 256 GB)</td>\n",
       "      <td>https://www.flipkart.com/apple-iphone-11-pro-m...</td>\n",
       "      <td>Apple</td>\n",
       "      <td>131900</td>\n",
       "      <td>131900</td>\n",
       "      <td>0</td>\n",
       "      <td>1078</td>\n",
       "      <td>101</td>\n",
       "      <td>MOBFKCTS7HCHSPFH</td>\n",
       "      <td>4.7</td>\n",
       "      <td>4 GB</td>\n",
       "    </tr>\n",
       "    <tr>\n",
       "      <th>0</th>\n",
       "      <td>APPLE iPhone 8 Plus (Gold, 64 GB)</td>\n",
       "      <td>https://www.flipkart.com/apple-iphone-8-plus-g...</td>\n",
       "      <td>Apple</td>\n",
       "      <td>49900</td>\n",
       "      <td>49900</td>\n",
       "      <td>0</td>\n",
       "      <td>3431</td>\n",
       "      <td>356</td>\n",
       "      <td>MOBEXRGV7EHHTGUH</td>\n",
       "      <td>4.6</td>\n",
       "      <td>2 GB</td>\n",
       "    </tr>\n",
       "    <tr>\n",
       "      <th>29</th>\n",
       "      <td>APPLE iPhone 12 (White, 128 GB)</td>\n",
       "      <td>https://www.flipkart.com/apple-iphone-12-white...</td>\n",
       "      <td>Apple</td>\n",
       "      <td>75900</td>\n",
       "      <td>84900</td>\n",
       "      <td>10</td>\n",
       "      <td>2101</td>\n",
       "      <td>180</td>\n",
       "      <td>MOBFWBYZBTZFGJF9</td>\n",
       "      <td>4.6</td>\n",
       "      <td>6 GB</td>\n",
       "    </tr>\n",
       "    <tr>\n",
       "      <th>32</th>\n",
       "      <td>APPLE iPhone 12 Pro Max (Graphite, 128 GB)</td>\n",
       "      <td>https://www.flipkart.com/apple-iphone-12-pro-m...</td>\n",
       "      <td>Apple</td>\n",
       "      <td>120900</td>\n",
       "      <td>129900</td>\n",
       "      <td>6</td>\n",
       "      <td>580</td>\n",
       "      <td>45</td>\n",
       "      <td>MOBFWBYZFDGQSDWS</td>\n",
       "      <td>4.6</td>\n",
       "      <td>6 GB</td>\n",
       "    </tr>\n",
       "    <tr>\n",
       "      <th>35</th>\n",
       "      <td>APPLE iPhone 12 (Black, 128 GB)</td>\n",
       "      <td>https://www.flipkart.com/apple-iphone-12-black...</td>\n",
       "      <td>Apple</td>\n",
       "      <td>75900</td>\n",
       "      <td>84900</td>\n",
       "      <td>10</td>\n",
       "      <td>2101</td>\n",
       "      <td>180</td>\n",
       "      <td>MOBFWBYZK3HACR72</td>\n",
       "      <td>4.6</td>\n",
       "      <td>6 GB</td>\n",
       "    </tr>\n",
       "    <tr>\n",
       "      <th>36</th>\n",
       "      <td>APPLE iPhone 12 (Blue, 128 GB)</td>\n",
       "      <td>https://www.flipkart.com/apple-iphone-12-blue-...</td>\n",
       "      <td>Apple</td>\n",
       "      <td>75900</td>\n",
       "      <td>84900</td>\n",
       "      <td>10</td>\n",
       "      <td>2101</td>\n",
       "      <td>180</td>\n",
       "      <td>MOBFWBYZKPTZF9VG</td>\n",
       "      <td>4.6</td>\n",
       "      <td>6 GB</td>\n",
       "    </tr>\n",
       "  </tbody>\n",
       "</table>\n",
       "</div>"
      ],
      "text/plain": [
       "                                        Product Name  \\\n",
       "20   APPLE iPhone 11 Pro Max (Midnight Green, 64 GB)   \n",
       "17       APPLE iPhone 11 Pro Max (Space Grey, 64 GB)   \n",
       "16  APPLE iPhone 11 Pro Max (Midnight Green, 256 GB)   \n",
       "15             APPLE iPhone 11 Pro Max (Gold, 64 GB)   \n",
       "14            APPLE iPhone 11 Pro Max (Gold, 256 GB)   \n",
       "0                  APPLE iPhone 8 Plus (Gold, 64 GB)   \n",
       "29                   APPLE iPhone 12 (White, 128 GB)   \n",
       "32        APPLE iPhone 12 Pro Max (Graphite, 128 GB)   \n",
       "35                   APPLE iPhone 12 (Black, 128 GB)   \n",
       "36                    APPLE iPhone 12 (Blue, 128 GB)   \n",
       "\n",
       "                                          Product URL  Brand  Sale Price  \\\n",
       "20  https://www.flipkart.com/apple-iphone-11-pro-m...  Apple      117100   \n",
       "17  https://www.flipkart.com/apple-iphone-11-pro-m...  Apple      117100   \n",
       "16  https://www.flipkart.com/apple-iphone-11-pro-m...  Apple      131900   \n",
       "15  https://www.flipkart.com/apple-iphone-11-pro-m...  Apple      117100   \n",
       "14  https://www.flipkart.com/apple-iphone-11-pro-m...  Apple      131900   \n",
       "0   https://www.flipkart.com/apple-iphone-8-plus-g...  Apple       49900   \n",
       "29  https://www.flipkart.com/apple-iphone-12-white...  Apple       75900   \n",
       "32  https://www.flipkart.com/apple-iphone-12-pro-m...  Apple      120900   \n",
       "35  https://www.flipkart.com/apple-iphone-12-black...  Apple       75900   \n",
       "36  https://www.flipkart.com/apple-iphone-12-blue-...  Apple       75900   \n",
       "\n",
       "       Mrp  Discount Percentage  Number Of Ratings  Number Of Reviews  \\\n",
       "20  117100                    0               1078                101   \n",
       "17  117100                    0               1078                101   \n",
       "16  131900                    0               1078                101   \n",
       "15  117100                    0               1078                101   \n",
       "14  131900                    0               1078                101   \n",
       "0    49900                    0               3431                356   \n",
       "29   84900                   10               2101                180   \n",
       "32  129900                    6                580                 45   \n",
       "35   84900                   10               2101                180   \n",
       "36   84900                   10               2101                180   \n",
       "\n",
       "                 Upc  Star Rating   Ram  \n",
       "20  MOBFKCTSRYPAQNYT          4.7  4 GB  \n",
       "17  MOBFKCTSKDMKCGQS          4.7  4 GB  \n",
       "16  MOBFKCTSCAAKGQV7          4.7  4 GB  \n",
       "15  MOBFKCTSAPAYNSGG          4.7  4 GB  \n",
       "14  MOBFKCTS7HCHSPFH          4.7  4 GB  \n",
       "0   MOBEXRGV7EHHTGUH          4.6  2 GB  \n",
       "29  MOBFWBYZBTZFGJF9          4.6  6 GB  \n",
       "32  MOBFWBYZFDGQSDWS          4.6  6 GB  \n",
       "35  MOBFWBYZK3HACR72          4.6  6 GB  \n",
       "36  MOBFWBYZKPTZF9VG          4.6  6 GB  "
      ]
     },
     "execution_count": 5,
     "metadata": {},
     "output_type": "execute_result"
    }
   ],
   "source": [
    "top_rated = df.sort_values(by=[\"Star Rating\"], ascending=False)\n",
    "top_10_rated= top_rated.head(10)\n",
    "\n",
    "# data_ top 10 iphones \n",
    "top_10_rated[\"Product Name\"] \n",
    "top_10_rated"
   ]
  },
  {
   "cell_type": "code",
   "execution_count": 38,
   "id": "8b5e1969-c36d-46d8-8f60-9a1692649966",
   "metadata": {},
   "outputs": [
    {
     "data": {
      "text/plain": [
       "Product Name\n",
       "APPLE iPhone 11 Pro Max (Midnight Green, 64 GB)     1\n",
       "APPLE iPhone 11 Pro Max (Space Grey, 64 GB)         1\n",
       "APPLE iPhone 11 Pro Max (Midnight Green, 256 GB)    1\n",
       "APPLE iPhone 11 Pro Max (Gold, 64 GB)               1\n",
       "APPLE iPhone 11 Pro Max (Gold, 256 GB)              1\n",
       "APPLE iPhone 8 Plus (Gold, 64 GB)                   1\n",
       "APPLE iPhone 12 (White, 128 GB)                     1\n",
       "APPLE iPhone 12 Pro Max (Graphite, 128 GB)          1\n",
       "APPLE iPhone 12 (Black, 128 GB)                     1\n",
       "APPLE iPhone 12 (Blue, 128 GB)                      1\n",
       "Name: count, dtype: int64"
      ]
     },
     "execution_count": 38,
     "metadata": {},
     "output_type": "execute_result"
    }
   ],
   "source": [
    "#df['Product Name'].value_counts()\n",
    "top_10_rated['Product Name'].value_counts() "
   ]
  },
  {
   "cell_type": "code",
   "execution_count": 20,
   "id": "c224db01-2a27-43c1-8223-fae05e7fb23d",
   "metadata": {},
   "outputs": [
    {
     "data": {
      "application/vnd.plotly.v1+json": {
       "config": {
        "plotlyServerURL": "https://plot.ly"
       },
       "data": [
        {
         "alignmentgroup": "True",
         "hovertemplate": "Product Name=APPLE iPhone 11 Pro Max (Midnight Green, 64 GB)<br>x=%{x}<br>Number Of Ratings=%{y}<extra></extra>",
         "legendgroup": "APPLE iPhone 11 Pro Max (Midnight Green, 64 GB)",
         "marker": {
          "color": "rgb(102, 197, 204)",
          "pattern": {
           "shape": ""
          }
         },
         "name": "APPLE iPhone 11 Pro Max (Midnight Green, 64 GB)",
         "offsetgroup": "APPLE iPhone 11 Pro Max (Midnight Green, 64 GB)",
         "orientation": "v",
         "showlegend": true,
         "textposition": "auto",
         "type": "bar",
         "x": [
          "APPLE iPhone 11 Pro Max (Midnight Green, 64 GB)"
         ],
         "xaxis": "x",
         "y": [
          1078
         ],
         "yaxis": "y"
        },
        {
         "alignmentgroup": "True",
         "hovertemplate": "Product Name=APPLE iPhone 11 Pro Max (Space Grey, 64 GB)<br>x=%{x}<br>Number Of Ratings=%{y}<extra></extra>",
         "legendgroup": "APPLE iPhone 11 Pro Max (Space Grey, 64 GB)",
         "marker": {
          "color": "rgb(246, 207, 113)",
          "pattern": {
           "shape": ""
          }
         },
         "name": "APPLE iPhone 11 Pro Max (Space Grey, 64 GB)",
         "offsetgroup": "APPLE iPhone 11 Pro Max (Space Grey, 64 GB)",
         "orientation": "v",
         "showlegend": true,
         "textposition": "auto",
         "type": "bar",
         "x": [
          "APPLE iPhone 11 Pro Max (Space Grey, 64 GB)"
         ],
         "xaxis": "x",
         "y": [
          1078
         ],
         "yaxis": "y"
        },
        {
         "alignmentgroup": "True",
         "hovertemplate": "Product Name=APPLE iPhone 11 Pro Max (Midnight Green, 256 GB)<br>x=%{x}<br>Number Of Ratings=%{y}<extra></extra>",
         "legendgroup": "APPLE iPhone 11 Pro Max (Midnight Green, 256 GB)",
         "marker": {
          "color": "rgb(248, 156, 116)",
          "pattern": {
           "shape": ""
          }
         },
         "name": "APPLE iPhone 11 Pro Max (Midnight Green, 256 GB)",
         "offsetgroup": "APPLE iPhone 11 Pro Max (Midnight Green, 256 GB)",
         "orientation": "v",
         "showlegend": true,
         "textposition": "auto",
         "type": "bar",
         "x": [
          "APPLE iPhone 11 Pro Max (Midnight Green, 256 GB)"
         ],
         "xaxis": "x",
         "y": [
          1078
         ],
         "yaxis": "y"
        },
        {
         "alignmentgroup": "True",
         "hovertemplate": "Product Name=APPLE iPhone 11 Pro Max (Gold, 64 GB)<br>x=%{x}<br>Number Of Ratings=%{y}<extra></extra>",
         "legendgroup": "APPLE iPhone 11 Pro Max (Gold, 64 GB)",
         "marker": {
          "color": "rgb(220, 176, 242)",
          "pattern": {
           "shape": ""
          }
         },
         "name": "APPLE iPhone 11 Pro Max (Gold, 64 GB)",
         "offsetgroup": "APPLE iPhone 11 Pro Max (Gold, 64 GB)",
         "orientation": "v",
         "showlegend": true,
         "textposition": "auto",
         "type": "bar",
         "x": [
          "APPLE iPhone 11 Pro Max (Gold, 64 GB)"
         ],
         "xaxis": "x",
         "y": [
          1078
         ],
         "yaxis": "y"
        },
        {
         "alignmentgroup": "True",
         "hovertemplate": "Product Name=APPLE iPhone 11 Pro Max (Gold, 256 GB)<br>x=%{x}<br>Number Of Ratings=%{y}<extra></extra>",
         "legendgroup": "APPLE iPhone 11 Pro Max (Gold, 256 GB)",
         "marker": {
          "color": "rgb(135, 197, 95)",
          "pattern": {
           "shape": ""
          }
         },
         "name": "APPLE iPhone 11 Pro Max (Gold, 256 GB)",
         "offsetgroup": "APPLE iPhone 11 Pro Max (Gold, 256 GB)",
         "orientation": "v",
         "showlegend": true,
         "textposition": "auto",
         "type": "bar",
         "x": [
          "APPLE iPhone 11 Pro Max (Gold, 256 GB)"
         ],
         "xaxis": "x",
         "y": [
          1078
         ],
         "yaxis": "y"
        },
        {
         "alignmentgroup": "True",
         "hovertemplate": "Product Name=APPLE iPhone 8 Plus (Gold, 64 GB)<br>x=%{x}<br>Number Of Ratings=%{y}<extra></extra>",
         "legendgroup": "APPLE iPhone 8 Plus (Gold, 64 GB)",
         "marker": {
          "color": "rgb(158, 185, 243)",
          "pattern": {
           "shape": ""
          }
         },
         "name": "APPLE iPhone 8 Plus (Gold, 64 GB)",
         "offsetgroup": "APPLE iPhone 8 Plus (Gold, 64 GB)",
         "orientation": "v",
         "showlegend": true,
         "textposition": "auto",
         "type": "bar",
         "visible": "legendonly",
         "x": [
          "APPLE iPhone 8 Plus (Gold, 64 GB)"
         ],
         "xaxis": "x",
         "y": [
          3431
         ],
         "yaxis": "y"
        },
        {
         "alignmentgroup": "True",
         "hovertemplate": "Product Name=APPLE iPhone 12 (White, 128 GB)<br>x=%{x}<br>Number Of Ratings=%{y}<extra></extra>",
         "legendgroup": "APPLE iPhone 12 (White, 128 GB)",
         "marker": {
          "color": "rgb(254, 136, 177)",
          "pattern": {
           "shape": ""
          }
         },
         "name": "APPLE iPhone 12 (White, 128 GB)",
         "offsetgroup": "APPLE iPhone 12 (White, 128 GB)",
         "orientation": "v",
         "showlegend": true,
         "textposition": "auto",
         "type": "bar",
         "x": [
          "APPLE iPhone 12 (White, 128 GB)"
         ],
         "xaxis": "x",
         "y": [
          2101
         ],
         "yaxis": "y"
        },
        {
         "alignmentgroup": "True",
         "hovertemplate": "Product Name=APPLE iPhone 12 Pro Max (Graphite, 128 GB)<br>x=%{x}<br>Number Of Ratings=%{y}<extra></extra>",
         "legendgroup": "APPLE iPhone 12 Pro Max (Graphite, 128 GB)",
         "marker": {
          "color": "rgb(201, 219, 116)",
          "pattern": {
           "shape": ""
          }
         },
         "name": "APPLE iPhone 12 Pro Max (Graphite, 128 GB)",
         "offsetgroup": "APPLE iPhone 12 Pro Max (Graphite, 128 GB)",
         "orientation": "v",
         "showlegend": true,
         "textposition": "auto",
         "type": "bar",
         "x": [
          "APPLE iPhone 12 Pro Max (Graphite, 128 GB)"
         ],
         "xaxis": "x",
         "y": [
          580
         ],
         "yaxis": "y"
        },
        {
         "alignmentgroup": "True",
         "hovertemplate": "Product Name=APPLE iPhone 12 (Black, 128 GB)<br>x=%{x}<br>Number Of Ratings=%{y}<extra></extra>",
         "legendgroup": "APPLE iPhone 12 (Black, 128 GB)",
         "marker": {
          "color": "rgb(139, 224, 164)",
          "pattern": {
           "shape": ""
          }
         },
         "name": "APPLE iPhone 12 (Black, 128 GB)",
         "offsetgroup": "APPLE iPhone 12 (Black, 128 GB)",
         "orientation": "v",
         "showlegend": true,
         "textposition": "auto",
         "type": "bar",
         "x": [
          "APPLE iPhone 12 (Black, 128 GB)"
         ],
         "xaxis": "x",
         "y": [
          2101
         ],
         "yaxis": "y"
        },
        {
         "alignmentgroup": "True",
         "hovertemplate": "Product Name=APPLE iPhone 12 (Blue, 128 GB)<br>x=%{x}<br>Number Of Ratings=%{y}<extra></extra>",
         "legendgroup": "APPLE iPhone 12 (Blue, 128 GB)",
         "marker": {
          "color": "rgb(180, 151, 231)",
          "pattern": {
           "shape": ""
          }
         },
         "name": "APPLE iPhone 12 (Blue, 128 GB)",
         "offsetgroup": "APPLE iPhone 12 (Blue, 128 GB)",
         "orientation": "v",
         "showlegend": true,
         "textposition": "auto",
         "type": "bar",
         "x": [
          "APPLE iPhone 12 (Blue, 128 GB)"
         ],
         "xaxis": "x",
         "y": [
          2101
         ],
         "yaxis": "y"
        }
       ],
       "layout": {
        "barmode": "relative",
        "height": 700,
        "legend": {
         "title": {
          "text": "Product Name"
         },
         "tracegroupgap": 0
        },
        "template": {
         "data": {
          "bar": [
           {
            "error_x": {
             "color": "#2a3f5f"
            },
            "error_y": {
             "color": "#2a3f5f"
            },
            "marker": {
             "line": {
              "color": "#E5ECF6",
              "width": 0.5
             },
             "pattern": {
              "fillmode": "overlay",
              "size": 10,
              "solidity": 0.2
             }
            },
            "type": "bar"
           }
          ],
          "barpolar": [
           {
            "marker": {
             "line": {
              "color": "#E5ECF6",
              "width": 0.5
             },
             "pattern": {
              "fillmode": "overlay",
              "size": 10,
              "solidity": 0.2
             }
            },
            "type": "barpolar"
           }
          ],
          "carpet": [
           {
            "aaxis": {
             "endlinecolor": "#2a3f5f",
             "gridcolor": "white",
             "linecolor": "white",
             "minorgridcolor": "white",
             "startlinecolor": "#2a3f5f"
            },
            "baxis": {
             "endlinecolor": "#2a3f5f",
             "gridcolor": "white",
             "linecolor": "white",
             "minorgridcolor": "white",
             "startlinecolor": "#2a3f5f"
            },
            "type": "carpet"
           }
          ],
          "choropleth": [
           {
            "colorbar": {
             "outlinewidth": 0,
             "ticks": ""
            },
            "type": "choropleth"
           }
          ],
          "contour": [
           {
            "colorbar": {
             "outlinewidth": 0,
             "ticks": ""
            },
            "colorscale": [
             [
              0,
              "#0d0887"
             ],
             [
              0.1111111111111111,
              "#46039f"
             ],
             [
              0.2222222222222222,
              "#7201a8"
             ],
             [
              0.3333333333333333,
              "#9c179e"
             ],
             [
              0.4444444444444444,
              "#bd3786"
             ],
             [
              0.5555555555555556,
              "#d8576b"
             ],
             [
              0.6666666666666666,
              "#ed7953"
             ],
             [
              0.7777777777777778,
              "#fb9f3a"
             ],
             [
              0.8888888888888888,
              "#fdca26"
             ],
             [
              1,
              "#f0f921"
             ]
            ],
            "type": "contour"
           }
          ],
          "contourcarpet": [
           {
            "colorbar": {
             "outlinewidth": 0,
             "ticks": ""
            },
            "type": "contourcarpet"
           }
          ],
          "heatmap": [
           {
            "colorbar": {
             "outlinewidth": 0,
             "ticks": ""
            },
            "colorscale": [
             [
              0,
              "#0d0887"
             ],
             [
              0.1111111111111111,
              "#46039f"
             ],
             [
              0.2222222222222222,
              "#7201a8"
             ],
             [
              0.3333333333333333,
              "#9c179e"
             ],
             [
              0.4444444444444444,
              "#bd3786"
             ],
             [
              0.5555555555555556,
              "#d8576b"
             ],
             [
              0.6666666666666666,
              "#ed7953"
             ],
             [
              0.7777777777777778,
              "#fb9f3a"
             ],
             [
              0.8888888888888888,
              "#fdca26"
             ],
             [
              1,
              "#f0f921"
             ]
            ],
            "type": "heatmap"
           }
          ],
          "heatmapgl": [
           {
            "colorbar": {
             "outlinewidth": 0,
             "ticks": ""
            },
            "colorscale": [
             [
              0,
              "#0d0887"
             ],
             [
              0.1111111111111111,
              "#46039f"
             ],
             [
              0.2222222222222222,
              "#7201a8"
             ],
             [
              0.3333333333333333,
              "#9c179e"
             ],
             [
              0.4444444444444444,
              "#bd3786"
             ],
             [
              0.5555555555555556,
              "#d8576b"
             ],
             [
              0.6666666666666666,
              "#ed7953"
             ],
             [
              0.7777777777777778,
              "#fb9f3a"
             ],
             [
              0.8888888888888888,
              "#fdca26"
             ],
             [
              1,
              "#f0f921"
             ]
            ],
            "type": "heatmapgl"
           }
          ],
          "histogram": [
           {
            "marker": {
             "pattern": {
              "fillmode": "overlay",
              "size": 10,
              "solidity": 0.2
             }
            },
            "type": "histogram"
           }
          ],
          "histogram2d": [
           {
            "colorbar": {
             "outlinewidth": 0,
             "ticks": ""
            },
            "colorscale": [
             [
              0,
              "#0d0887"
             ],
             [
              0.1111111111111111,
              "#46039f"
             ],
             [
              0.2222222222222222,
              "#7201a8"
             ],
             [
              0.3333333333333333,
              "#9c179e"
             ],
             [
              0.4444444444444444,
              "#bd3786"
             ],
             [
              0.5555555555555556,
              "#d8576b"
             ],
             [
              0.6666666666666666,
              "#ed7953"
             ],
             [
              0.7777777777777778,
              "#fb9f3a"
             ],
             [
              0.8888888888888888,
              "#fdca26"
             ],
             [
              1,
              "#f0f921"
             ]
            ],
            "type": "histogram2d"
           }
          ],
          "histogram2dcontour": [
           {
            "colorbar": {
             "outlinewidth": 0,
             "ticks": ""
            },
            "colorscale": [
             [
              0,
              "#0d0887"
             ],
             [
              0.1111111111111111,
              "#46039f"
             ],
             [
              0.2222222222222222,
              "#7201a8"
             ],
             [
              0.3333333333333333,
              "#9c179e"
             ],
             [
              0.4444444444444444,
              "#bd3786"
             ],
             [
              0.5555555555555556,
              "#d8576b"
             ],
             [
              0.6666666666666666,
              "#ed7953"
             ],
             [
              0.7777777777777778,
              "#fb9f3a"
             ],
             [
              0.8888888888888888,
              "#fdca26"
             ],
             [
              1,
              "#f0f921"
             ]
            ],
            "type": "histogram2dcontour"
           }
          ],
          "mesh3d": [
           {
            "colorbar": {
             "outlinewidth": 0,
             "ticks": ""
            },
            "type": "mesh3d"
           }
          ],
          "parcoords": [
           {
            "line": {
             "colorbar": {
              "outlinewidth": 0,
              "ticks": ""
             }
            },
            "type": "parcoords"
           }
          ],
          "pie": [
           {
            "automargin": true,
            "type": "pie"
           }
          ],
          "scatter": [
           {
            "fillpattern": {
             "fillmode": "overlay",
             "size": 10,
             "solidity": 0.2
            },
            "type": "scatter"
           }
          ],
          "scatter3d": [
           {
            "line": {
             "colorbar": {
              "outlinewidth": 0,
              "ticks": ""
             }
            },
            "marker": {
             "colorbar": {
              "outlinewidth": 0,
              "ticks": ""
             }
            },
            "type": "scatter3d"
           }
          ],
          "scattercarpet": [
           {
            "marker": {
             "colorbar": {
              "outlinewidth": 0,
              "ticks": ""
             }
            },
            "type": "scattercarpet"
           }
          ],
          "scattergeo": [
           {
            "marker": {
             "colorbar": {
              "outlinewidth": 0,
              "ticks": ""
             }
            },
            "type": "scattergeo"
           }
          ],
          "scattergl": [
           {
            "marker": {
             "colorbar": {
              "outlinewidth": 0,
              "ticks": ""
             }
            },
            "type": "scattergl"
           }
          ],
          "scattermapbox": [
           {
            "marker": {
             "colorbar": {
              "outlinewidth": 0,
              "ticks": ""
             }
            },
            "type": "scattermapbox"
           }
          ],
          "scatterpolar": [
           {
            "marker": {
             "colorbar": {
              "outlinewidth": 0,
              "ticks": ""
             }
            },
            "type": "scatterpolar"
           }
          ],
          "scatterpolargl": [
           {
            "marker": {
             "colorbar": {
              "outlinewidth": 0,
              "ticks": ""
             }
            },
            "type": "scatterpolargl"
           }
          ],
          "scatterternary": [
           {
            "marker": {
             "colorbar": {
              "outlinewidth": 0,
              "ticks": ""
             }
            },
            "type": "scatterternary"
           }
          ],
          "surface": [
           {
            "colorbar": {
             "outlinewidth": 0,
             "ticks": ""
            },
            "colorscale": [
             [
              0,
              "#0d0887"
             ],
             [
              0.1111111111111111,
              "#46039f"
             ],
             [
              0.2222222222222222,
              "#7201a8"
             ],
             [
              0.3333333333333333,
              "#9c179e"
             ],
             [
              0.4444444444444444,
              "#bd3786"
             ],
             [
              0.5555555555555556,
              "#d8576b"
             ],
             [
              0.6666666666666666,
              "#ed7953"
             ],
             [
              0.7777777777777778,
              "#fb9f3a"
             ],
             [
              0.8888888888888888,
              "#fdca26"
             ],
             [
              1,
              "#f0f921"
             ]
            ],
            "type": "surface"
           }
          ],
          "table": [
           {
            "cells": {
             "fill": {
              "color": "#EBF0F8"
             },
             "line": {
              "color": "white"
             }
            },
            "header": {
             "fill": {
              "color": "#C8D4E3"
             },
             "line": {
              "color": "white"
             }
            },
            "type": "table"
           }
          ]
         },
         "layout": {
          "annotationdefaults": {
           "arrowcolor": "#2a3f5f",
           "arrowhead": 0,
           "arrowwidth": 1
          },
          "autotypenumbers": "strict",
          "coloraxis": {
           "colorbar": {
            "outlinewidth": 0,
            "ticks": ""
           }
          },
          "colorscale": {
           "diverging": [
            [
             0,
             "#8e0152"
            ],
            [
             0.1,
             "#c51b7d"
            ],
            [
             0.2,
             "#de77ae"
            ],
            [
             0.3,
             "#f1b6da"
            ],
            [
             0.4,
             "#fde0ef"
            ],
            [
             0.5,
             "#f7f7f7"
            ],
            [
             0.6,
             "#e6f5d0"
            ],
            [
             0.7,
             "#b8e186"
            ],
            [
             0.8,
             "#7fbc41"
            ],
            [
             0.9,
             "#4d9221"
            ],
            [
             1,
             "#276419"
            ]
           ],
           "sequential": [
            [
             0,
             "#0d0887"
            ],
            [
             0.1111111111111111,
             "#46039f"
            ],
            [
             0.2222222222222222,
             "#7201a8"
            ],
            [
             0.3333333333333333,
             "#9c179e"
            ],
            [
             0.4444444444444444,
             "#bd3786"
            ],
            [
             0.5555555555555556,
             "#d8576b"
            ],
            [
             0.6666666666666666,
             "#ed7953"
            ],
            [
             0.7777777777777778,
             "#fb9f3a"
            ],
            [
             0.8888888888888888,
             "#fdca26"
            ],
            [
             1,
             "#f0f921"
            ]
           ],
           "sequentialminus": [
            [
             0,
             "#0d0887"
            ],
            [
             0.1111111111111111,
             "#46039f"
            ],
            [
             0.2222222222222222,
             "#7201a8"
            ],
            [
             0.3333333333333333,
             "#9c179e"
            ],
            [
             0.4444444444444444,
             "#bd3786"
            ],
            [
             0.5555555555555556,
             "#d8576b"
            ],
            [
             0.6666666666666666,
             "#ed7953"
            ],
            [
             0.7777777777777778,
             "#fb9f3a"
            ],
            [
             0.8888888888888888,
             "#fdca26"
            ],
            [
             1,
             "#f0f921"
            ]
           ]
          },
          "colorway": [
           "#636efa",
           "#EF553B",
           "#00cc96",
           "#ab63fa",
           "#FFA15A",
           "#19d3f3",
           "#FF6692",
           "#B6E880",
           "#FF97FF",
           "#FECB52"
          ],
          "font": {
           "color": "#2a3f5f"
          },
          "geo": {
           "bgcolor": "white",
           "lakecolor": "white",
           "landcolor": "#E5ECF6",
           "showlakes": true,
           "showland": true,
           "subunitcolor": "white"
          },
          "hoverlabel": {
           "align": "left"
          },
          "hovermode": "closest",
          "mapbox": {
           "style": "light"
          },
          "paper_bgcolor": "white",
          "plot_bgcolor": "#E5ECF6",
          "polar": {
           "angularaxis": {
            "gridcolor": "white",
            "linecolor": "white",
            "ticks": ""
           },
           "bgcolor": "#E5ECF6",
           "radialaxis": {
            "gridcolor": "white",
            "linecolor": "white",
            "ticks": ""
           }
          },
          "scene": {
           "xaxis": {
            "backgroundcolor": "#E5ECF6",
            "gridcolor": "white",
            "gridwidth": 2,
            "linecolor": "white",
            "showbackground": true,
            "ticks": "",
            "zerolinecolor": "white"
           },
           "yaxis": {
            "backgroundcolor": "#E5ECF6",
            "gridcolor": "white",
            "gridwidth": 2,
            "linecolor": "white",
            "showbackground": true,
            "ticks": "",
            "zerolinecolor": "white"
           },
           "zaxis": {
            "backgroundcolor": "#E5ECF6",
            "gridcolor": "white",
            "gridwidth": 2,
            "linecolor": "white",
            "showbackground": true,
            "ticks": "",
            "zerolinecolor": "white"
           }
          },
          "shapedefaults": {
           "line": {
            "color": "#2a3f5f"
           }
          },
          "ternary": {
           "aaxis": {
            "gridcolor": "white",
            "linecolor": "white",
            "ticks": ""
           },
           "baxis": {
            "gridcolor": "white",
            "linecolor": "white",
            "ticks": ""
           },
           "bgcolor": "#E5ECF6",
           "caxis": {
            "gridcolor": "white",
            "linecolor": "white",
            "ticks": ""
           }
          },
          "title": {
           "x": 0.05
          },
          "xaxis": {
           "automargin": true,
           "gridcolor": "white",
           "linecolor": "white",
           "ticks": "",
           "title": {
            "standoff": 15
           },
           "zerolinecolor": "white",
           "zerolinewidth": 2
          },
          "yaxis": {
           "automargin": true,
           "gridcolor": "white",
           "linecolor": "white",
           "ticks": "",
           "title": {
            "standoff": 15
           },
           "zerolinecolor": "white",
           "zerolinewidth": 2
          }
         }
        },
        "title": {
         "text": "Ratings of top_10_phones"
        },
        "width": 1200,
        "xaxis": {
         "anchor": "y",
         "autorange": true,
         "domain": [
          0,
          1
         ],
         "range": [
          -0.5,
          8.5
         ],
         "title": {
          "text": "Product"
         },
         "type": "category"
        },
        "yaxis": {
         "anchor": "x",
         "autorange": true,
         "domain": [
          0,
          1
         ],
         "range": [
          0,
          2211.5789473684213
         ],
         "title": {
          "text": "Number Of Ratings"
         },
         "type": "linear"
        }
       }
      },
      "image/png": "[encoded data removed]",
      "text/html": [
       "<div>                            <div id=\"c5be9a8d-7615-453b-8b0b-f6ddb63d6a9e\" class=\"plotly-graph-div\" style=\"height:700px; width:1200px;\"></div>            <script type=\"text/javascript\">                require([\"plotly\"], function(Plotly) {                    window.PLOTLYENV=window.PLOTLYENV || {};                                    if (document.getElementById(\"c5be9a8d-7615-453b-8b0b-f6ddb63d6a9e\")) {                    Plotly.newPlot(                        \"c5be9a8d-7615-453b-8b0b-f6ddb63d6a9e\",                        [{\"alignmentgroup\":\"True\",\"hovertemplate\":\"Product Name=APPLE iPhone 11 Pro Max (Midnight Green, 64 GB)\\u003cbr\\u003ex=%{x}\\u003cbr\\u003eNumber Of Ratings=%{y}\\u003cextra\\u003e\\u003c\\u002fextra\\u003e\",\"legendgroup\":\"APPLE iPhone 11 Pro Max (Midnight Green, 64 GB)\",\"marker\":{\"color\":\"rgb(102, 197, 204)\",\"pattern\":{\"shape\":\"\"}},\"name\":\"APPLE iPhone 11 Pro Max (Midnight Green, 64 GB)\",\"offsetgroup\":\"APPLE iPhone 11 Pro Max (Midnight Green, 64 GB)\",\"orientation\":\"v\",\"showlegend\":true,\"textposition\":\"auto\",\"x\":[\"APPLE iPhone 11 Pro Max (Midnight Green, 64 GB)\"],\"xaxis\":\"x\",\"y\":[1078],\"yaxis\":\"y\",\"type\":\"bar\"},{\"alignmentgroup\":\"True\",\"hovertemplate\":\"Product Name=APPLE iPhone 11 Pro Max (Space Grey, 64 GB)\\u003cbr\\u003ex=%{x}\\u003cbr\\u003eNumber Of Ratings=%{y}\\u003cextra\\u003e\\u003c\\u002fextra\\u003e\",\"legendgroup\":\"APPLE iPhone 11 Pro Max (Space Grey, 64 GB)\",\"marker\":{\"color\":\"rgb(246, 207, 113)\",\"pattern\":{\"shape\":\"\"}},\"name\":\"APPLE iPhone 11 Pro Max (Space Grey, 64 GB)\",\"offsetgroup\":\"APPLE iPhone 11 Pro Max (Space Grey, 64 GB)\",\"orientation\":\"v\",\"showlegend\":true,\"textposition\":\"auto\",\"x\":[\"APPLE iPhone 11 Pro Max (Space Grey, 64 GB)\"],\"xaxis\":\"x\",\"y\":[1078],\"yaxis\":\"y\",\"type\":\"bar\"},{\"alignmentgroup\":\"True\",\"hovertemplate\":\"Product Name=APPLE iPhone 11 Pro Max (Midnight Green, 256 GB)\\u003cbr\\u003ex=%{x}\\u003cbr\\u003eNumber Of Ratings=%{y}\\u003cextra\\u003e\\u003c\\u002fextra\\u003e\",\"legendgroup\":\"APPLE iPhone 11 Pro Max (Midnight Green, 256 GB)\",\"marker\":{\"color\":\"rgb(248, 156, 116)\",\"pattern\":{\"shape\":\"\"}},\"name\":\"APPLE iPhone 11 Pro Max (Midnight Green, 256 GB)\",\"offsetgroup\":\"APPLE iPhone 11 Pro Max (Midnight Green, 256 GB)\",\"orientation\":\"v\",\"showlegend\":true,\"textposition\":\"auto\",\"x\":[\"APPLE iPhone 11 Pro Max (Midnight Green, 256 GB)\"],\"xaxis\":\"x\",\"y\":[1078],\"yaxis\":\"y\",\"type\":\"bar\"},{\"alignmentgroup\":\"True\",\"hovertemplate\":\"Product Name=APPLE iPhone 11 Pro Max (Gold, 64 GB)\\u003cbr\\u003ex=%{x}\\u003cbr\\u003eNumber Of Ratings=%{y}\\u003cextra\\u003e\\u003c\\u002fextra\\u003e\",\"legendgroup\":\"APPLE iPhone 11 Pro Max (Gold, 64 GB)\",\"marker\":{\"color\":\"rgb(220, 176, 242)\",\"pattern\":{\"shape\":\"\"}},\"name\":\"APPLE iPhone 11 Pro Max (Gold, 64 GB)\",\"offsetgroup\":\"APPLE iPhone 11 Pro Max (Gold, 64 GB)\",\"orientation\":\"v\",\"showlegend\":true,\"textposition\":\"auto\",\"x\":[\"APPLE iPhone 11 Pro Max (Gold, 64 GB)\"],\"xaxis\":\"x\",\"y\":[1078],\"yaxis\":\"y\",\"type\":\"bar\"},{\"alignmentgroup\":\"True\",\"hovertemplate\":\"Product Name=APPLE iPhone 11 Pro Max (Gold, 256 GB)\\u003cbr\\u003ex=%{x}\\u003cbr\\u003eNumber Of Ratings=%{y}\\u003cextra\\u003e\\u003c\\u002fextra\\u003e\",\"legendgroup\":\"APPLE iPhone 11 Pro Max (Gold, 256 GB)\",\"marker\":{\"color\":\"rgb(135, 197, 95)\",\"pattern\":{\"shape\":\"\"}},\"name\":\"APPLE iPhone 11 Pro Max (Gold, 256 GB)\",\"offsetgroup\":\"APPLE iPhone 11 Pro Max (Gold, 256 GB)\",\"orientation\":\"v\",\"showlegend\":true,\"textposition\":\"auto\",\"x\":[\"APPLE iPhone 11 Pro Max (Gold, 256 GB)\"],\"xaxis\":\"x\",\"y\":[1078],\"yaxis\":\"y\",\"type\":\"bar\"},{\"alignmentgroup\":\"True\",\"hovertemplate\":\"Product Name=APPLE iPhone 8 Plus (Gold, 64 GB)\\u003cbr\\u003ex=%{x}\\u003cbr\\u003eNumber Of Ratings=%{y}\\u003cextra\\u003e\\u003c\\u002fextra\\u003e\",\"legendgroup\":\"APPLE iPhone 8 Plus (Gold, 64 GB)\",\"marker\":{\"color\":\"rgb(158, 185, 243)\",\"pattern\":{\"shape\":\"\"}},\"name\":\"APPLE iPhone 8 Plus (Gold, 64 GB)\",\"offsetgroup\":\"APPLE iPhone 8 Plus (Gold, 64 GB)\",\"orientation\":\"v\",\"showlegend\":true,\"textposition\":\"auto\",\"x\":[\"APPLE iPhone 8 Plus (Gold, 64 GB)\"],\"xaxis\":\"x\",\"y\":[3431],\"yaxis\":\"y\",\"type\":\"bar\"},{\"alignmentgroup\":\"True\",\"hovertemplate\":\"Product Name=APPLE iPhone 12 (White, 128 GB)\\u003cbr\\u003ex=%{x}\\u003cbr\\u003eNumber Of Ratings=%{y}\\u003cextra\\u003e\\u003c\\u002fextra\\u003e\",\"legendgroup\":\"APPLE iPhone 12 (White, 128 GB)\",\"marker\":{\"color\":\"rgb(254, 136, 177)\",\"pattern\":{\"shape\":\"\"}},\"name\":\"APPLE iPhone 12 (White, 128 GB)\",\"offsetgroup\":\"APPLE iPhone 12 (White, 128 GB)\",\"orientation\":\"v\",\"showlegend\":true,\"textposition\":\"auto\",\"x\":[\"APPLE iPhone 12 (White, 128 GB)\"],\"xaxis\":\"x\",\"y\":[2101],\"yaxis\":\"y\",\"type\":\"bar\"},{\"alignmentgroup\":\"True\",\"hovertemplate\":\"Product Name=APPLE iPhone 12 Pro Max (Graphite, 128 GB)\\u003cbr\\u003ex=%{x}\\u003cbr\\u003eNumber Of Ratings=%{y}\\u003cextra\\u003e\\u003c\\u002fextra\\u003e\",\"legendgroup\":\"APPLE iPhone 12 Pro Max (Graphite, 128 GB)\",\"marker\":{\"color\":\"rgb(201, 219, 116)\",\"pattern\":{\"shape\":\"\"}},\"name\":\"APPLE iPhone 12 Pro Max (Graphite, 128 GB)\",\"offsetgroup\":\"APPLE iPhone 12 Pro Max (Graphite, 128 GB)\",\"orientation\":\"v\",\"showlegend\":true,\"textposition\":\"auto\",\"x\":[\"APPLE iPhone 12 Pro Max (Graphite, 128 GB)\"],\"xaxis\":\"x\",\"y\":[580],\"yaxis\":\"y\",\"type\":\"bar\"},{\"alignmentgroup\":\"True\",\"hovertemplate\":\"Product Name=APPLE iPhone 12 (Black, 128 GB)\\u003cbr\\u003ex=%{x}\\u003cbr\\u003eNumber Of Ratings=%{y}\\u003cextra\\u003e\\u003c\\u002fextra\\u003e\",\"legendgroup\":\"APPLE iPhone 12 (Black, 128 GB)\",\"marker\":{\"color\":\"rgb(139, 224, 164)\",\"pattern\":{\"shape\":\"\"}},\"name\":\"APPLE iPhone 12 (Black, 128 GB)\",\"offsetgroup\":\"APPLE iPhone 12 (Black, 128 GB)\",\"orientation\":\"v\",\"showlegend\":true,\"textposition\":\"auto\",\"x\":[\"APPLE iPhone 12 (Black, 128 GB)\"],\"xaxis\":\"x\",\"y\":[2101],\"yaxis\":\"y\",\"type\":\"bar\"},{\"alignmentgroup\":\"True\",\"hovertemplate\":\"Product Name=APPLE iPhone 12 (Blue, 128 GB)\\u003cbr\\u003ex=%{x}\\u003cbr\\u003eNumber Of Ratings=%{y}\\u003cextra\\u003e\\u003c\\u002fextra\\u003e\",\"legendgroup\":\"APPLE iPhone 12 (Blue, 128 GB)\",\"marker\":{\"color\":\"rgb(180, 151, 231)\",\"pattern\":{\"shape\":\"\"}},\"name\":\"APPLE iPhone 12 (Blue, 128 GB)\",\"offsetgroup\":\"APPLE iPhone 12 (Blue, 128 GB)\",\"orientation\":\"v\",\"showlegend\":true,\"textposition\":\"auto\",\"x\":[\"APPLE iPhone 12 (Blue, 128 GB)\"],\"xaxis\":\"x\",\"y\":[2101],\"yaxis\":\"y\",\"type\":\"bar\"}],                        {\"template\":{\"data\":{\"histogram2dcontour\":[{\"type\":\"histogram2dcontour\",\"colorbar\":{\"outlinewidth\":0,\"ticks\":\"\"},\"colorscale\":[[0.0,\"#0d0887\"],[0.1111111111111111,\"#46039f\"],[0.2222222222222222,\"#7201a8\"],[0.3333333333333333,\"#9c179e\"],[0.4444444444444444,\"#bd3786\"],[0.5555555555555556,\"#d8576b\"],[0.6666666666666666,\"#ed7953\"],[0.7777777777777778,\"#fb9f3a\"],[0.8888888888888888,\"#fdca26\"],[1.0,\"#f0f921\"]]}],\"choropleth\":[{\"type\":\"choropleth\",\"colorbar\":{\"outlinewidth\":0,\"ticks\":\"\"}}],\"histogram2d\":[{\"type\":\"histogram2d\",\"colorbar\":{\"outlinewidth\":0,\"ticks\":\"\"},\"colorscale\":[[0.0,\"#0d0887\"],[0.1111111111111111,\"#46039f\"],[0.2222222222222222,\"#7201a8\"],[0.3333333333333333,\"#9c179e\"],[0.4444444444444444,\"#bd3786\"],[0.5555555555555556,\"#d8576b\"],[0.6666666666666666,\"#ed7953\"],[0.7777777777777778,\"#fb9f3a\"],[0.8888888888888888,\"#fdca26\"],[1.0,\"#f0f921\"]]}],\"heatmap\":[{\"type\":\"heatmap\",\"colorbar\":{\"outlinewidth\":0,\"ticks\":\"\"},\"colorscale\":[[0.0,\"#0d0887\"],[0.1111111111111111,\"#46039f\"],[0.2222222222222222,\"#7201a8\"],[0.3333333333333333,\"#9c179e\"],[0.4444444444444444,\"#bd3786\"],[0.5555555555555556,\"#d8576b\"],[0.6666666666666666,\"#ed7953\"],[0.7777777777777778,\"#fb9f3a\"],[0.8888888888888888,\"#fdca26\"],[1.0,\"#f0f921\"]]}],\"heatmapgl\":[{\"type\":\"heatmapgl\",\"colorbar\":{\"outlinewidth\":0,\"ticks\":\"\"},\"colorscale\":[[0.0,\"#0d0887\"],[0.1111111111111111,\"#46039f\"],[0.2222222222222222,\"#7201a8\"],[0.3333333333333333,\"#9c179e\"],[0.4444444444444444,\"#bd3786\"],[0.5555555555555556,\"#d8576b\"],[0.6666666666666666,\"#ed7953\"],[0.7777777777777778,\"#fb9f3a\"],[0.8888888888888888,\"#fdca26\"],[1.0,\"#f0f921\"]]}],\"contourcarpet\":[{\"type\":\"contourcarpet\",\"colorbar\":{\"outlinewidth\":0,\"ticks\":\"\"}}],\"contour\":[{\"type\":\"contour\",\"colorbar\":{\"outlinewidth\":0,\"ticks\":\"\"},\"colorscale\":[[0.0,\"#0d0887\"],[0.1111111111111111,\"#46039f\"],[0.2222222222222222,\"#7201a8\"],[0.3333333333333333,\"#9c179e\"],[0.4444444444444444,\"#bd3786\"],[0.5555555555555556,\"#d8576b\"],[0.6666666666666666,\"#ed7953\"],[0.7777777777777778,\"#fb9f3a\"],[0.8888888888888888,\"#fdca26\"],[1.0,\"#f0f921\"]]}],\"surface\":[{\"type\":\"surface\",\"colorbar\":{\"outlinewidth\":0,\"ticks\":\"\"},\"colorscale\":[[0.0,\"#0d0887\"],[0.1111111111111111,\"#46039f\"],[0.2222222222222222,\"#7201a8\"],[0.3333333333333333,\"#9c179e\"],[0.4444444444444444,\"#bd3786\"],[0.5555555555555556,\"#d8576b\"],[0.6666666666666666,\"#ed7953\"],[0.7777777777777778,\"#fb9f3a\"],[0.8888888888888888,\"#fdca26\"],[1.0,\"#f0f921\"]]}],\"mesh3d\":[{\"type\":\"mesh3d\",\"colorbar\":{\"outlinewidth\":0,\"ticks\":\"\"}}],\"scatter\":[{\"fillpattern\":{\"fillmode\":\"overlay\",\"size\":10,\"solidity\":0.2},\"type\":\"scatter\"}],\"parcoords\":[{\"type\":\"parcoords\",\"line\":{\"colorbar\":{\"outlinewidth\":0,\"ticks\":\"\"}}}],\"scatterpolargl\":[{\"type\":\"scatterpolargl\",\"marker\":{\"colorbar\":{\"outlinewidth\":0,\"ticks\":\"\"}}}],\"bar\":[{\"error_x\":{\"color\":\"#2a3f5f\"},\"error_y\":{\"color\":\"#2a3f5f\"},\"marker\":{\"line\":{\"color\":\"#E5ECF6\",\"width\":0.5},\"pattern\":{\"fillmode\":\"overlay\",\"size\":10,\"solidity\":0.2}},\"type\":\"bar\"}],\"scattergeo\":[{\"type\":\"scattergeo\",\"marker\":{\"colorbar\":{\"outlinewidth\":0,\"ticks\":\"\"}}}],\"scatterpolar\":[{\"type\":\"scatterpolar\",\"marker\":{\"colorbar\":{\"outlinewidth\":0,\"ticks\":\"\"}}}],\"histogram\":[{\"marker\":{\"pattern\":{\"fillmode\":\"overlay\",\"size\":10,\"solidity\":0.2}},\"type\":\"histogram\"}],\"scattergl\":[{\"type\":\"scattergl\",\"marker\":{\"colorbar\":{\"outlinewidth\":0,\"ticks\":\"\"}}}],\"scatter3d\":[{\"type\":\"scatter3d\",\"line\":{\"colorbar\":{\"outlinewidth\":0,\"ticks\":\"\"}},\"marker\":{\"colorbar\":{\"outlinewidth\":0,\"ticks\":\"\"}}}],\"scattermapbox\":[{\"type\":\"scattermapbox\",\"marker\":{\"colorbar\":{\"outlinewidth\":0,\"ticks\":\"\"}}}],\"scatterternary\":[{\"type\":\"scatterternary\",\"marker\":{\"colorbar\":{\"outlinewidth\":0,\"ticks\":\"\"}}}],\"scattercarpet\":[{\"type\":\"scattercarpet\",\"marker\":{\"colorbar\":{\"outlinewidth\":0,\"ticks\":\"\"}}}],\"carpet\":[{\"aaxis\":{\"endlinecolor\":\"#2a3f5f\",\"gridcolor\":\"white\",\"linecolor\":\"white\",\"minorgridcolor\":\"white\",\"startlinecolor\":\"#2a3f5f\"},\"baxis\":{\"endlinecolor\":\"#2a3f5f\",\"gridcolor\":\"white\",\"linecolor\":\"white\",\"minorgridcolor\":\"white\",\"startlinecolor\":\"#2a3f5f\"},\"type\":\"carpet\"}],\"table\":[{\"cells\":{\"fill\":{\"color\":\"#EBF0F8\"},\"line\":{\"color\":\"white\"}},\"header\":{\"fill\":{\"color\":\"#C8D4E3\"},\"line\":{\"color\":\"white\"}},\"type\":\"table\"}],\"barpolar\":[{\"marker\":{\"line\":{\"color\":\"#E5ECF6\",\"width\":0.5},\"pattern\":{\"fillmode\":\"overlay\",\"size\":10,\"solidity\":0.2}},\"type\":\"barpolar\"}],\"pie\":[{\"automargin\":true,\"type\":\"pie\"}]},\"layout\":{\"autotypenumbers\":\"strict\",\"colorway\":[\"#636efa\",\"#EF553B\",\"#00cc96\",\"#ab63fa\",\"#FFA15A\",\"#19d3f3\",\"#FF6692\",\"#B6E880\",\"#FF97FF\",\"#FECB52\"],\"font\":{\"color\":\"#2a3f5f\"},\"hovermode\":\"closest\",\"hoverlabel\":{\"align\":\"left\"},\"paper_bgcolor\":\"white\",\"plot_bgcolor\":\"#E5ECF6\",\"polar\":{\"bgcolor\":\"#E5ECF6\",\"angularaxis\":{\"gridcolor\":\"white\",\"linecolor\":\"white\",\"ticks\":\"\"},\"radialaxis\":{\"gridcolor\":\"white\",\"linecolor\":\"white\",\"ticks\":\"\"}},\"ternary\":{\"bgcolor\":\"#E5ECF6\",\"aaxis\":{\"gridcolor\":\"white\",\"linecolor\":\"white\",\"ticks\":\"\"},\"baxis\":{\"gridcolor\":\"white\",\"linecolor\":\"white\",\"ticks\":\"\"},\"caxis\":{\"gridcolor\":\"white\",\"linecolor\":\"white\",\"ticks\":\"\"}},\"coloraxis\":{\"colorbar\":{\"outlinewidth\":0,\"ticks\":\"\"}},\"colorscale\":{\"sequential\":[[0.0,\"#0d0887\"],[0.1111111111111111,\"#46039f\"],[0.2222222222222222,\"#7201a8\"],[0.3333333333333333,\"#9c179e\"],[0.4444444444444444,\"#bd3786\"],[0.5555555555555556,\"#d8576b\"],[0.6666666666666666,\"#ed7953\"],[0.7777777777777778,\"#fb9f3a\"],[0.8888888888888888,\"#fdca26\"],[1.0,\"#f0f921\"]],\"sequentialminus\":[[0.0,\"#0d0887\"],[0.1111111111111111,\"#46039f\"],[0.2222222222222222,\"#7201a8\"],[0.3333333333333333,\"#9c179e\"],[0.4444444444444444,\"#bd3786\"],[0.5555555555555556,\"#d8576b\"],[0.6666666666666666,\"#ed7953\"],[0.7777777777777778,\"#fb9f3a\"],[0.8888888888888888,\"#fdca26\"],[1.0,\"#f0f921\"]],\"diverging\":[[0,\"#8e0152\"],[0.1,\"#c51b7d\"],[0.2,\"#de77ae\"],[0.3,\"#f1b6da\"],[0.4,\"#fde0ef\"],[0.5,\"#f7f7f7\"],[0.6,\"#e6f5d0\"],[0.7,\"#b8e186\"],[0.8,\"#7fbc41\"],[0.9,\"#4d9221\"],[1,\"#276419\"]]},\"xaxis\":{\"gridcolor\":\"white\",\"linecolor\":\"white\",\"ticks\":\"\",\"title\":{\"standoff\":15},\"zerolinecolor\":\"white\",\"automargin\":true,\"zerolinewidth\":2},\"yaxis\":{\"gridcolor\":\"white\",\"linecolor\":\"white\",\"ticks\":\"\",\"title\":{\"standoff\":15},\"zerolinecolor\":\"white\",\"automargin\":true,\"zerolinewidth\":2},\"scene\":{\"xaxis\":{\"backgroundcolor\":\"#E5ECF6\",\"gridcolor\":\"white\",\"linecolor\":\"white\",\"showbackground\":true,\"ticks\":\"\",\"zerolinecolor\":\"white\",\"gridwidth\":2},\"yaxis\":{\"backgroundcolor\":\"#E5ECF6\",\"gridcolor\":\"white\",\"linecolor\":\"white\",\"showbackground\":true,\"ticks\":\"\",\"zerolinecolor\":\"white\",\"gridwidth\":2},\"zaxis\":{\"backgroundcolor\":\"#E5ECF6\",\"gridcolor\":\"white\",\"linecolor\":\"white\",\"showbackground\":true,\"ticks\":\"\",\"zerolinecolor\":\"white\",\"gridwidth\":2}},\"shapedefaults\":{\"line\":{\"color\":\"#2a3f5f\"}},\"annotationdefaults\":{\"arrowcolor\":\"#2a3f5f\",\"arrowhead\":0,\"arrowwidth\":1},\"geo\":{\"bgcolor\":\"white\",\"landcolor\":\"#E5ECF6\",\"subunitcolor\":\"white\",\"showland\":true,\"showlakes\":true,\"lakecolor\":\"white\"},\"title\":{\"x\":0.05},\"mapbox\":{\"style\":\"light\"}}},\"xaxis\":{\"anchor\":\"y\",\"domain\":[0.0,1.0],\"title\":{\"text\":\"Product\"}},\"yaxis\":{\"anchor\":\"x\",\"domain\":[0.0,1.0],\"title\":{\"text\":\"Number Of Ratings\"}},\"legend\":{\"title\":{\"text\":\"Product Name\"},\"tracegroupgap\":0},\"title\":{\"text\":\"Ratings of top_10_phones\"},\"barmode\":\"relative\",\"width\":1200,\"height\":700},                        {\"responsive\": true}                    ).then(function(){\n",
       "                            \n",
       "var gd = document.getElementById('c5be9a8d-7615-453b-8b0b-f6ddb63d6a9e');\n",
       "var x = new MutationObserver(function (mutations, observer) {{\n",
       "        var display = window.getComputedStyle(gd).display;\n",
       "        if (!display || display === 'none') {{\n",
       "            console.log([gd, 'removed!']);\n",
       "            Plotly.purge(gd);\n",
       "            observer.disconnect();\n",
       "        }}\n",
       "}});\n",
       "\n",
       "// Listen for the removal of the full notebook cells\n",
       "var notebookContainer = gd.closest('#notebook-container');\n",
       "if (notebookContainer) {{\n",
       "    x.observe(notebookContainer, {childList: true});\n",
       "}}\n",
       "\n",
       "// Listen for the clearing of the current output cell\n",
       "var outputEl = gd.closest('.output');\n",
       "if (outputEl) {{\n",
       "    x.observe(outputEl, {childList: true});\n",
       "}}\n",
       "\n",
       "                        })                };                });            </script>        </div>"
      ]
     },
     "metadata": {},
     "output_type": "display_data"
    }
   ],
   "source": [
    "prod_name=top_10_rated[\"Product Name\"].value_counts()\n",
    "x_labels=prod_name.index \n",
    "\n",
    "fig=px.bar(top_10_rated, \n",
    "           x=x_labels, \n",
    "           y='Number Of Ratings', \n",
    "           title='Ratings of top_10_phones', \n",
    "           color='Product Name',\n",
    "           color_discrete_sequence= px.colors.qualitative.Pastel\n",
    "          \n",
    "          )\n",
    "fig.update_layout(width=1200, height=700, xaxis_title= 'Product')\n",
    "fig.show()   "
   ]
  },
  {
   "cell_type": "markdown",
   "id": "abd8353d-a322-4930-b4e4-821a1f2c8914",
   "metadata": {},
   "source": [
    "# # Obj. II: To visualize the relationship between sales price and ratings of top 10 iphones"
   ]
  },
  {
   "cell_type": "code",
   "execution_count": 37,
   "id": "0d09db84-9c0e-402c-b669-81a266810d39",
   "metadata": {},
   "outputs": [
    {
     "data": {
      "application/vnd.plotly.v1+json": {
       "config": {
        "plotlyServerURL": "https://plot.ly"
       },
       "data": [
        {
         "alignmentgroup": "True",
         "hovertemplate": "Product Name=APPLE iPhone 11 Pro Max (Midnight Green, 64 GB)<br>x=%{x}<br>Sale Price=%{y}<extra></extra>",
         "legendgroup": "APPLE iPhone 11 Pro Max (Midnight Green, 64 GB)",
         "marker": {
          "color": "rgb(102, 197, 204)",
          "pattern": {
           "shape": ""
          }
         },
         "name": "APPLE iPhone 11 Pro Max (Midnight Green, 64 GB)",
         "offsetgroup": "APPLE iPhone 11 Pro Max (Midnight Green, 64 GB)",
         "orientation": "v",
         "showlegend": true,
         "textposition": "auto",
         "type": "bar",
         "x": [
          "APPLE iPhone 11 Pro Max (Midnight Green, 64 GB)"
         ],
         "xaxis": "x",
         "y": [
          117100
         ],
         "yaxis": "y"
        },
        {
         "alignmentgroup": "True",
         "hovertemplate": "Product Name=APPLE iPhone 11 Pro Max (Space Grey, 64 GB)<br>x=%{x}<br>Sale Price=%{y}<extra></extra>",
         "legendgroup": "APPLE iPhone 11 Pro Max (Space Grey, 64 GB)",
         "marker": {
          "color": "rgb(246, 207, 113)",
          "pattern": {
           "shape": ""
          }
         },
         "name": "APPLE iPhone 11 Pro Max (Space Grey, 64 GB)",
         "offsetgroup": "APPLE iPhone 11 Pro Max (Space Grey, 64 GB)",
         "orientation": "v",
         "showlegend": true,
         "textposition": "auto",
         "type": "bar",
         "x": [
          "APPLE iPhone 11 Pro Max (Space Grey, 64 GB)"
         ],
         "xaxis": "x",
         "y": [
          117100
         ],
         "yaxis": "y"
        },
        {
         "alignmentgroup": "True",
         "hovertemplate": "Product Name=APPLE iPhone 11 Pro Max (Midnight Green, 256 GB)<br>x=%{x}<br>Sale Price=%{y}<extra></extra>",
         "legendgroup": "APPLE iPhone 11 Pro Max (Midnight Green, 256 GB)",
         "marker": {
          "color": "rgb(248, 156, 116)",
          "pattern": {
           "shape": ""
          }
         },
         "name": "APPLE iPhone 11 Pro Max (Midnight Green, 256 GB)",
         "offsetgroup": "APPLE iPhone 11 Pro Max (Midnight Green, 256 GB)",
         "orientation": "v",
         "showlegend": true,
         "textposition": "auto",
         "type": "bar",
         "x": [
          "APPLE iPhone 11 Pro Max (Midnight Green, 256 GB)"
         ],
         "xaxis": "x",
         "y": [
          131900
         ],
         "yaxis": "y"
        },
        {
         "alignmentgroup": "True",
         "hovertemplate": "Product Name=APPLE iPhone 11 Pro Max (Gold, 64 GB)<br>x=%{x}<br>Sale Price=%{y}<extra></extra>",
         "legendgroup": "APPLE iPhone 11 Pro Max (Gold, 64 GB)",
         "marker": {
          "color": "rgb(220, 176, 242)",
          "pattern": {
           "shape": ""
          }
         },
         "name": "APPLE iPhone 11 Pro Max (Gold, 64 GB)",
         "offsetgroup": "APPLE iPhone 11 Pro Max (Gold, 64 GB)",
         "orientation": "v",
         "showlegend": true,
         "textposition": "auto",
         "type": "bar",
         "visible": "legendonly",
         "x": [
          "APPLE iPhone 11 Pro Max (Gold, 64 GB)"
         ],
         "xaxis": "x",
         "y": [
          117100
         ],
         "yaxis": "y"
        },
        {
         "alignmentgroup": "True",
         "hovertemplate": "Product Name=APPLE iPhone 11 Pro Max (Gold, 256 GB)<br>x=%{x}<br>Sale Price=%{y}<extra></extra>",
         "legendgroup": "APPLE iPhone 11 Pro Max (Gold, 256 GB)",
         "marker": {
          "color": "rgb(135, 197, 95)",
          "pattern": {
           "shape": ""
          }
         },
         "name": "APPLE iPhone 11 Pro Max (Gold, 256 GB)",
         "offsetgroup": "APPLE iPhone 11 Pro Max (Gold, 256 GB)",
         "orientation": "v",
         "showlegend": true,
         "textposition": "auto",
         "type": "bar",
         "x": [
          "APPLE iPhone 11 Pro Max (Gold, 256 GB)"
         ],
         "xaxis": "x",
         "y": [
          131900
         ],
         "yaxis": "y"
        },
        {
         "alignmentgroup": "True",
         "hovertemplate": "Product Name=APPLE iPhone 8 Plus (Gold, 64 GB)<br>x=%{x}<br>Sale Price=%{y}<extra></extra>",
         "legendgroup": "APPLE iPhone 8 Plus (Gold, 64 GB)",
         "marker": {
          "color": "rgb(158, 185, 243)",
          "pattern": {
           "shape": ""
          }
         },
         "name": "APPLE iPhone 8 Plus (Gold, 64 GB)",
         "offsetgroup": "APPLE iPhone 8 Plus (Gold, 64 GB)",
         "orientation": "v",
         "showlegend": true,
         "textposition": "auto",
         "type": "bar",
         "x": [
          "APPLE iPhone 8 Plus (Gold, 64 GB)"
         ],
         "xaxis": "x",
         "y": [
          49900
         ],
         "yaxis": "y"
        },
        {
         "alignmentgroup": "True",
         "hovertemplate": "Product Name=APPLE iPhone 12 (White, 128 GB)<br>x=%{x}<br>Sale Price=%{y}<extra></extra>",
         "legendgroup": "APPLE iPhone 12 (White, 128 GB)",
         "marker": {
          "color": "rgb(254, 136, 177)",
          "pattern": {
           "shape": ""
          }
         },
         "name": "APPLE iPhone 12 (White, 128 GB)",
         "offsetgroup": "APPLE iPhone 12 (White, 128 GB)",
         "orientation": "v",
         "showlegend": true,
         "textposition": "auto",
         "type": "bar",
         "x": [
          "APPLE iPhone 12 (White, 128 GB)"
         ],
         "xaxis": "x",
         "y": [
          75900
         ],
         "yaxis": "y"
        },
        {
         "alignmentgroup": "True",
         "hovertemplate": "Product Name=APPLE iPhone 12 Pro Max (Graphite, 128 GB)<br>x=%{x}<br>Sale Price=%{y}<extra></extra>",
         "legendgroup": "APPLE iPhone 12 Pro Max (Graphite, 128 GB)",
         "marker": {
          "color": "rgb(201, 219, 116)",
          "pattern": {
           "shape": ""
          }
         },
         "name": "APPLE iPhone 12 Pro Max (Graphite, 128 GB)",
         "offsetgroup": "APPLE iPhone 12 Pro Max (Graphite, 128 GB)",
         "orientation": "v",
         "showlegend": true,
         "textposition": "auto",
         "type": "bar",
         "x": [
          "APPLE iPhone 12 Pro Max (Graphite, 128 GB)"
         ],
         "xaxis": "x",
         "y": [
          120900
         ],
         "yaxis": "y"
        },
        {
         "alignmentgroup": "True",
         "hovertemplate": "Product Name=APPLE iPhone 12 (Black, 128 GB)<br>x=%{x}<br>Sale Price=%{y}<extra></extra>",
         "legendgroup": "APPLE iPhone 12 (Black, 128 GB)",
         "marker": {
          "color": "rgb(139, 224, 164)",
          "pattern": {
           "shape": ""
          }
         },
         "name": "APPLE iPhone 12 (Black, 128 GB)",
         "offsetgroup": "APPLE iPhone 12 (Black, 128 GB)",
         "orientation": "v",
         "showlegend": true,
         "textposition": "auto",
         "type": "bar",
         "x": [
          "APPLE iPhone 12 (Black, 128 GB)"
         ],
         "xaxis": "x",
         "y": [
          75900
         ],
         "yaxis": "y"
        },
        {
         "alignmentgroup": "True",
         "hovertemplate": "Product Name=APPLE iPhone 12 (Blue, 128 GB)<br>x=%{x}<br>Sale Price=%{y}<extra></extra>",
         "legendgroup": "APPLE iPhone 12 (Blue, 128 GB)",
         "marker": {
          "color": "rgb(180, 151, 231)",
          "pattern": {
           "shape": ""
          }
         },
         "name": "APPLE iPhone 12 (Blue, 128 GB)",
         "offsetgroup": "APPLE iPhone 12 (Blue, 128 GB)",
         "orientation": "v",
         "showlegend": true,
         "textposition": "auto",
         "type": "bar",
         "x": [
          "APPLE iPhone 12 (Blue, 128 GB)"
         ],
         "xaxis": "x",
         "y": [
          75900
         ],
         "yaxis": "y"
        }
       ],
       "layout": {
        "barmode": "relative",
        "height": 700,
        "legend": {
         "title": {
          "text": "Product Name"
         },
         "tracegroupgap": 0
        },
        "template": {
         "data": {
          "bar": [
           {
            "error_x": {
             "color": "#2a3f5f"
            },
            "error_y": {
             "color": "#2a3f5f"
            },
            "marker": {
             "line": {
              "color": "#E5ECF6",
              "width": 0.5
             },
             "pattern": {
              "fillmode": "overlay",
              "size": 10,
              "solidity": 0.2
             }
            },
            "type": "bar"
           }
          ],
          "barpolar": [
           {
            "marker": {
             "line": {
              "color": "#E5ECF6",
              "width": 0.5
             },
             "pattern": {
              "fillmode": "overlay",
              "size": 10,
              "solidity": 0.2
             }
            },
            "type": "barpolar"
           }
          ],
          "carpet": [
           {
            "aaxis": {
             "endlinecolor": "#2a3f5f",
             "gridcolor": "white",
             "linecolor": "white",
             "minorgridcolor": "white",
             "startlinecolor": "#2a3f5f"
            },
            "baxis": {
             "endlinecolor": "#2a3f5f",
             "gridcolor": "white",
             "linecolor": "white",
             "minorgridcolor": "white",
             "startlinecolor": "#2a3f5f"
            },
            "type": "carpet"
           }
          ],
          "choropleth": [
           {
            "colorbar": {
             "outlinewidth": 0,
             "ticks": ""
            },
            "type": "choropleth"
           }
          ],
          "contour": [
           {
            "colorbar": {
             "outlinewidth": 0,
             "ticks": ""
            },
            "colorscale": [
             [
              0,
              "#0d0887"
             ],
             [
              0.1111111111111111,
              "#46039f"
             ],
             [
              0.2222222222222222,
              "#7201a8"
             ],
             [
              0.3333333333333333,
              "#9c179e"
             ],
             [
              0.4444444444444444,
              "#bd3786"
             ],
             [
              0.5555555555555556,
              "#d8576b"
             ],
             [
              0.6666666666666666,
              "#ed7953"
             ],
             [
              0.7777777777777778,
              "#fb9f3a"
             ],
             [
              0.8888888888888888,
              "#fdca26"
             ],
             [
              1,
              "#f0f921"
             ]
            ],
            "type": "contour"
           }
          ],
          "contourcarpet": [
           {
            "colorbar": {
             "outlinewidth": 0,
             "ticks": ""
            },
            "type": "contourcarpet"
           }
          ],
          "heatmap": [
           {
            "colorbar": {
             "outlinewidth": 0,
             "ticks": ""
            },
            "colorscale": [
             [
              0,
              "#0d0887"
             ],
             [
              0.1111111111111111,
              "#46039f"
             ],
             [
              0.2222222222222222,
              "#7201a8"
             ],
             [
              0.3333333333333333,
              "#9c179e"
             ],
             [
              0.4444444444444444,
              "#bd3786"
             ],
             [
              0.5555555555555556,
              "#d8576b"
             ],
             [
              0.6666666666666666,
              "#ed7953"
             ],
             [
              0.7777777777777778,
              "#fb9f3a"
             ],
             [
              0.8888888888888888,
              "#fdca26"
             ],
             [
              1,
              "#f0f921"
             ]
            ],
            "type": "heatmap"
           }
          ],
          "heatmapgl": [
           {
            "colorbar": {
             "outlinewidth": 0,
             "ticks": ""
            },
            "colorscale": [
             [
              0,
              "#0d0887"
             ],
             [
              0.1111111111111111,
              "#46039f"
             ],
             [
              0.2222222222222222,
              "#7201a8"
             ],
             [
              0.3333333333333333,
              "#9c179e"
             ],
             [
              0.4444444444444444,
              "#bd3786"
             ],
             [
              0.5555555555555556,
              "#d8576b"
             ],
             [
              0.6666666666666666,
              "#ed7953"
             ],
             [
              0.7777777777777778,
              "#fb9f3a"
             ],
             [
              0.8888888888888888,
              "#fdca26"
             ],
             [
              1,
              "#f0f921"
             ]
            ],
            "type": "heatmapgl"
           }
          ],
          "histogram": [
           {
            "marker": {
             "pattern": {
              "fillmode": "overlay",
              "size": 10,
              "solidity": 0.2
             }
            },
            "type": "histogram"
           }
          ],
          "histogram2d": [
           {
            "colorbar": {
             "outlinewidth": 0,
             "ticks": ""
            },
            "colorscale": [
             [
              0,
              "#0d0887"
             ],
             [
              0.1111111111111111,
              "#46039f"
             ],
             [
              0.2222222222222222,
              "#7201a8"
             ],
             [
              0.3333333333333333,
              "#9c179e"
             ],
             [
              0.4444444444444444,
              "#bd3786"
             ],
             [
              0.5555555555555556,
              "#d8576b"
             ],
             [
              0.6666666666666666,
              "#ed7953"
             ],
             [
              0.7777777777777778,
              "#fb9f3a"
             ],
             [
              0.8888888888888888,
              "#fdca26"
             ],
             [
              1,
              "#f0f921"
             ]
            ],
            "type": "histogram2d"
           }
          ],
          "histogram2dcontour": [
           {
            "colorbar": {
             "outlinewidth": 0,
             "ticks": ""
            },
            "colorscale": [
             [
              0,
              "#0d0887"
             ],
             [
              0.1111111111111111,
              "#46039f"
             ],
             [
              0.2222222222222222,
              "#7201a8"
             ],
             [
              0.3333333333333333,
              "#9c179e"
             ],
             [
              0.4444444444444444,
              "#bd3786"
             ],
             [
              0.5555555555555556,
              "#d8576b"
             ],
             [
              0.6666666666666666,
              "#ed7953"
             ],
             [
              0.7777777777777778,
              "#fb9f3a"
             ],
             [
              0.8888888888888888,
              "#fdca26"
             ],
             [
              1,
              "#f0f921"
             ]
            ],
            "type": "histogram2dcontour"
           }
          ],
          "mesh3d": [
           {
            "colorbar": {
             "outlinewidth": 0,
             "ticks": ""
            },
            "type": "mesh3d"
           }
          ],
          "parcoords": [
           {
            "line": {
             "colorbar": {
              "outlinewidth": 0,
              "ticks": ""
             }
            },
            "type": "parcoords"
           }
          ],
          "pie": [
           {
            "automargin": true,
            "type": "pie"
           }
          ],
          "scatter": [
           {
            "fillpattern": {
             "fillmode": "overlay",
             "size": 10,
             "solidity": 0.2
            },
            "type": "scatter"
           }
          ],
          "scatter3d": [
           {
            "line": {
             "colorbar": {
              "outlinewidth": 0,
              "ticks": ""
             }
            },
            "marker": {
             "colorbar": {
              "outlinewidth": 0,
              "ticks": ""
             }
            },
            "type": "scatter3d"
           }
          ],
          "scattercarpet": [
           {
            "marker": {
             "colorbar": {
              "outlinewidth": 0,
              "ticks": ""
             }
            },
            "type": "scattercarpet"
           }
          ],
          "scattergeo": [
           {
            "marker": {
             "colorbar": {
              "outlinewidth": 0,
              "ticks": ""
             }
            },
            "type": "scattergeo"
           }
          ],
          "scattergl": [
           {
            "marker": {
             "colorbar": {
              "outlinewidth": 0,
              "ticks": ""
             }
            },
            "type": "scattergl"
           }
          ],
          "scattermapbox": [
           {
            "marker": {
             "colorbar": {
              "outlinewidth": 0,
              "ticks": ""
             }
            },
            "type": "scattermapbox"
           }
          ],
          "scatterpolar": [
           {
            "marker": {
             "colorbar": {
              "outlinewidth": 0,
              "ticks": ""
             }
            },
            "type": "scatterpolar"
           }
          ],
          "scatterpolargl": [
           {
            "marker": {
             "colorbar": {
              "outlinewidth": 0,
              "ticks": ""
             }
            },
            "type": "scatterpolargl"
           }
          ],
          "scatterternary": [
           {
            "marker": {
             "colorbar": {
              "outlinewidth": 0,
              "ticks": ""
             }
            },
            "type": "scatterternary"
           }
          ],
          "surface": [
           {
            "colorbar": {
             "outlinewidth": 0,
             "ticks": ""
            },
            "colorscale": [
             [
              0,
              "#0d0887"
             ],
             [
              0.1111111111111111,
              "#46039f"
             ],
             [
              0.2222222222222222,
              "#7201a8"
             ],
             [
              0.3333333333333333,
              "#9c179e"
             ],
             [
              0.4444444444444444,
              "#bd3786"
             ],
             [
              0.5555555555555556,
              "#d8576b"
             ],
             [
              0.6666666666666666,
              "#ed7953"
             ],
             [
              0.7777777777777778,
              "#fb9f3a"
             ],
             [
              0.8888888888888888,
              "#fdca26"
             ],
             [
              1,
              "#f0f921"
             ]
            ],
            "type": "surface"
           }
          ],
          "table": [
           {
            "cells": {
             "fill": {
              "color": "#EBF0F8"
             },
             "line": {
              "color": "white"
             }
            },
            "header": {
             "fill": {
              "color": "#C8D4E3"
             },
             "line": {
              "color": "white"
             }
            },
            "type": "table"
           }
          ]
         },
         "layout": {
          "annotationdefaults": {
           "arrowcolor": "#2a3f5f",
           "arrowhead": 0,
           "arrowwidth": 1
          },
          "autotypenumbers": "strict",
          "coloraxis": {
           "colorbar": {
            "outlinewidth": 0,
            "ticks": ""
           }
          },
          "colorscale": {
           "diverging": [
            [
             0,
             "#8e0152"
            ],
            [
             0.1,
             "#c51b7d"
            ],
            [
             0.2,
             "#de77ae"
            ],
            [
             0.3,
             "#f1b6da"
            ],
            [
             0.4,
             "#fde0ef"
            ],
            [
             0.5,
             "#f7f7f7"
            ],
            [
             0.6,
             "#e6f5d0"
            ],
            [
             0.7,
             "#b8e186"
            ],
            [
             0.8,
             "#7fbc41"
            ],
            [
             0.9,
             "#4d9221"
            ],
            [
             1,
             "#276419"
            ]
           ],
           "sequential": [
            [
             0,
             "#0d0887"
            ],
            [
             0.1111111111111111,
             "#46039f"
            ],
            [
             0.2222222222222222,
             "#7201a8"
            ],
            [
             0.3333333333333333,
             "#9c179e"
            ],
            [
             0.4444444444444444,
             "#bd3786"
            ],
            [
             0.5555555555555556,
             "#d8576b"
            ],
            [
             0.6666666666666666,
             "#ed7953"
            ],
            [
             0.7777777777777778,
             "#fb9f3a"
            ],
            [
             0.8888888888888888,
             "#fdca26"
            ],
            [
             1,
             "#f0f921"
            ]
           ],
           "sequentialminus": [
            [
             0,
             "#0d0887"
            ],
            [
             0.1111111111111111,
             "#46039f"
            ],
            [
             0.2222222222222222,
             "#7201a8"
            ],
            [
             0.3333333333333333,
             "#9c179e"
            ],
            [
             0.4444444444444444,
             "#bd3786"
            ],
            [
             0.5555555555555556,
             "#d8576b"
            ],
            [
             0.6666666666666666,
             "#ed7953"
            ],
            [
             0.7777777777777778,
             "#fb9f3a"
            ],
            [
             0.8888888888888888,
             "#fdca26"
            ],
            [
             1,
             "#f0f921"
            ]
           ]
          },
          "colorway": [
           "#636efa",
           "#EF553B",
           "#00cc96",
           "#ab63fa",
           "#FFA15A",
           "#19d3f3",
           "#FF6692",
           "#B6E880",
           "#FF97FF",
           "#FECB52"
          ],
          "font": {
           "color": "#2a3f5f"
          },
          "geo": {
           "bgcolor": "white",
           "lakecolor": "white",
           "landcolor": "#E5ECF6",
           "showlakes": true,
           "showland": true,
           "subunitcolor": "white"
          },
          "hoverlabel": {
           "align": "left"
          },
          "hovermode": "closest",
          "mapbox": {
           "style": "light"
          },
          "paper_bgcolor": "white",
          "plot_bgcolor": "#E5ECF6",
          "polar": {
           "angularaxis": {
            "gridcolor": "white",
            "linecolor": "white",
            "ticks": ""
           },
           "bgcolor": "#E5ECF6",
           "radialaxis": {
            "gridcolor": "white",
            "linecolor": "white",
            "ticks": ""
           }
          },
          "scene": {
           "xaxis": {
            "backgroundcolor": "#E5ECF6",
            "gridcolor": "white",
            "gridwidth": 2,
            "linecolor": "white",
            "showbackground": true,
            "ticks": "",
            "zerolinecolor": "white"
           },
           "yaxis": {
            "backgroundcolor": "#E5ECF6",
            "gridcolor": "white",
            "gridwidth": 2,
            "linecolor": "white",
            "showbackground": true,
            "ticks": "",
            "zerolinecolor": "white"
           },
           "zaxis": {
            "backgroundcolor": "#E5ECF6",
            "gridcolor": "white",
            "gridwidth": 2,
            "linecolor": "white",
            "showbackground": true,
            "ticks": "",
            "zerolinecolor": "white"
           }
          },
          "shapedefaults": {
           "line": {
            "color": "#2a3f5f"
           }
          },
          "ternary": {
           "aaxis": {
            "gridcolor": "white",
            "linecolor": "white",
            "ticks": ""
           },
           "baxis": {
            "gridcolor": "white",
            "linecolor": "white",
            "ticks": ""
           },
           "bgcolor": "#E5ECF6",
           "caxis": {
            "gridcolor": "white",
            "linecolor": "white",
            "ticks": ""
           }
          },
          "title": {
           "x": 0.05
          },
          "xaxis": {
           "automargin": true,
           "gridcolor": "white",
           "linecolor": "white",
           "ticks": "",
           "title": {
            "standoff": 15
           },
           "zerolinecolor": "white",
           "zerolinewidth": 2
          },
          "yaxis": {
           "automargin": true,
           "gridcolor": "white",
           "linecolor": "white",
           "ticks": "",
           "title": {
            "standoff": 15
           },
           "zerolinecolor": "white",
           "zerolinewidth": 2
          }
         }
        },
        "title": {
         "text": "Sale prices by product"
        },
        "width": 1200,
        "xaxis": {
         "anchor": "y",
         "autorange": true,
         "domain": [
          0,
          1
         ],
         "range": [
          -0.5,
          8.5
         ],
         "title": {
          "text": "Product"
         },
         "type": "category"
        },
        "yaxis": {
         "anchor": "x",
         "autorange": true,
         "domain": [
          0,
          1
         ],
         "range": [
          0,
          138842.1052631579
         ],
         "title": {
          "text": "Sale Price"
         },
         "type": "linear"
        }
       }
      },
      "image/png": "[encoded data removed]",
      "text/html": [
       "<div>                            <div id=\"5a2cd29f-8aff-49dd-a353-baf74825fa33\" class=\"plotly-graph-div\" style=\"height:700px; width:1200px;\"></div>            <script type=\"text/javascript\">                require([\"plotly\"], function(Plotly) {                    window.PLOTLYENV=window.PLOTLYENV || {};                                    if (document.getElementById(\"5a2cd29f-8aff-49dd-a353-baf74825fa33\")) {                    Plotly.newPlot(                        \"5a2cd29f-8aff-49dd-a353-baf74825fa33\",                        [{\"alignmentgroup\":\"True\",\"hovertemplate\":\"Product Name=APPLE iPhone 11 Pro Max (Midnight Green, 64 GB)\\u003cbr\\u003ex=%{x}\\u003cbr\\u003eSale Price=%{y}\\u003cextra\\u003e\\u003c\\u002fextra\\u003e\",\"legendgroup\":\"APPLE iPhone 11 Pro Max (Midnight Green, 64 GB)\",\"marker\":{\"color\":\"rgb(102, 197, 204)\",\"pattern\":{\"shape\":\"\"}},\"name\":\"APPLE iPhone 11 Pro Max (Midnight Green, 64 GB)\",\"offsetgroup\":\"APPLE iPhone 11 Pro Max (Midnight Green, 64 GB)\",\"orientation\":\"v\",\"showlegend\":true,\"textposition\":\"auto\",\"x\":[\"APPLE iPhone 11 Pro Max (Midnight Green, 64 GB)\"],\"xaxis\":\"x\",\"y\":[117100],\"yaxis\":\"y\",\"type\":\"bar\"},{\"alignmentgroup\":\"True\",\"hovertemplate\":\"Product Name=APPLE iPhone 11 Pro Max (Space Grey, 64 GB)\\u003cbr\\u003ex=%{x}\\u003cbr\\u003eSale Price=%{y}\\u003cextra\\u003e\\u003c\\u002fextra\\u003e\",\"legendgroup\":\"APPLE iPhone 11 Pro Max (Space Grey, 64 GB)\",\"marker\":{\"color\":\"rgb(246, 207, 113)\",\"pattern\":{\"shape\":\"\"}},\"name\":\"APPLE iPhone 11 Pro Max (Space Grey, 64 GB)\",\"offsetgroup\":\"APPLE iPhone 11 Pro Max (Space Grey, 64 GB)\",\"orientation\":\"v\",\"showlegend\":true,\"textposition\":\"auto\",\"x\":[\"APPLE iPhone 11 Pro Max (Space Grey, 64 GB)\"],\"xaxis\":\"x\",\"y\":[117100],\"yaxis\":\"y\",\"type\":\"bar\"},{\"alignmentgroup\":\"True\",\"hovertemplate\":\"Product Name=APPLE iPhone 11 Pro Max (Midnight Green, 256 GB)\\u003cbr\\u003ex=%{x}\\u003cbr\\u003eSale Price=%{y}\\u003cextra\\u003e\\u003c\\u002fextra\\u003e\",\"legendgroup\":\"APPLE iPhone 11 Pro Max (Midnight Green, 256 GB)\",\"marker\":{\"color\":\"rgb(248, 156, 116)\",\"pattern\":{\"shape\":\"\"}},\"name\":\"APPLE iPhone 11 Pro Max (Midnight Green, 256 GB)\",\"offsetgroup\":\"APPLE iPhone 11 Pro Max (Midnight Green, 256 GB)\",\"orientation\":\"v\",\"showlegend\":true,\"textposition\":\"auto\",\"x\":[\"APPLE iPhone 11 Pro Max (Midnight Green, 256 GB)\"],\"xaxis\":\"x\",\"y\":[131900],\"yaxis\":\"y\",\"type\":\"bar\"},{\"alignmentgroup\":\"True\",\"hovertemplate\":\"Product Name=APPLE iPhone 11 Pro Max (Gold, 64 GB)\\u003cbr\\u003ex=%{x}\\u003cbr\\u003eSale Price=%{y}\\u003cextra\\u003e\\u003c\\u002fextra\\u003e\",\"legendgroup\":\"APPLE iPhone 11 Pro Max (Gold, 64 GB)\",\"marker\":{\"color\":\"rgb(220, 176, 242)\",\"pattern\":{\"shape\":\"\"}},\"name\":\"APPLE iPhone 11 Pro Max (Gold, 64 GB)\",\"offsetgroup\":\"APPLE iPhone 11 Pro Max (Gold, 64 GB)\",\"orientation\":\"v\",\"showlegend\":true,\"textposition\":\"auto\",\"x\":[\"APPLE iPhone 11 Pro Max (Gold, 64 GB)\"],\"xaxis\":\"x\",\"y\":[117100],\"yaxis\":\"y\",\"type\":\"bar\"},{\"alignmentgroup\":\"True\",\"hovertemplate\":\"Product Name=APPLE iPhone 11 Pro Max (Gold, 256 GB)\\u003cbr\\u003ex=%{x}\\u003cbr\\u003eSale Price=%{y}\\u003cextra\\u003e\\u003c\\u002fextra\\u003e\",\"legendgroup\":\"APPLE iPhone 11 Pro Max (Gold, 256 GB)\",\"marker\":{\"color\":\"rgb(135, 197, 95)\",\"pattern\":{\"shape\":\"\"}},\"name\":\"APPLE iPhone 11 Pro Max (Gold, 256 GB)\",\"offsetgroup\":\"APPLE iPhone 11 Pro Max (Gold, 256 GB)\",\"orientation\":\"v\",\"showlegend\":true,\"textposition\":\"auto\",\"x\":[\"APPLE iPhone 11 Pro Max (Gold, 256 GB)\"],\"xaxis\":\"x\",\"y\":[131900],\"yaxis\":\"y\",\"type\":\"bar\"},{\"alignmentgroup\":\"True\",\"hovertemplate\":\"Product Name=APPLE iPhone 8 Plus (Gold, 64 GB)\\u003cbr\\u003ex=%{x}\\u003cbr\\u003eSale Price=%{y}\\u003cextra\\u003e\\u003c\\u002fextra\\u003e\",\"legendgroup\":\"APPLE iPhone 8 Plus (Gold, 64 GB)\",\"marker\":{\"color\":\"rgb(158, 185, 243)\",\"pattern\":{\"shape\":\"\"}},\"name\":\"APPLE iPhone 8 Plus (Gold, 64 GB)\",\"offsetgroup\":\"APPLE iPhone 8 Plus (Gold, 64 GB)\",\"orientation\":\"v\",\"showlegend\":true,\"textposition\":\"auto\",\"x\":[\"APPLE iPhone 8 Plus (Gold, 64 GB)\"],\"xaxis\":\"x\",\"y\":[49900],\"yaxis\":\"y\",\"type\":\"bar\"},{\"alignmentgroup\":\"True\",\"hovertemplate\":\"Product Name=APPLE iPhone 12 (White, 128 GB)\\u003cbr\\u003ex=%{x}\\u003cbr\\u003eSale Price=%{y}\\u003cextra\\u003e\\u003c\\u002fextra\\u003e\",\"legendgroup\":\"APPLE iPhone 12 (White, 128 GB)\",\"marker\":{\"color\":\"rgb(254, 136, 177)\",\"pattern\":{\"shape\":\"\"}},\"name\":\"APPLE iPhone 12 (White, 128 GB)\",\"offsetgroup\":\"APPLE iPhone 12 (White, 128 GB)\",\"orientation\":\"v\",\"showlegend\":true,\"textposition\":\"auto\",\"x\":[\"APPLE iPhone 12 (White, 128 GB)\"],\"xaxis\":\"x\",\"y\":[75900],\"yaxis\":\"y\",\"type\":\"bar\"},{\"alignmentgroup\":\"True\",\"hovertemplate\":\"Product Name=APPLE iPhone 12 Pro Max (Graphite, 128 GB)\\u003cbr\\u003ex=%{x}\\u003cbr\\u003eSale Price=%{y}\\u003cextra\\u003e\\u003c\\u002fextra\\u003e\",\"legendgroup\":\"APPLE iPhone 12 Pro Max (Graphite, 128 GB)\",\"marker\":{\"color\":\"rgb(201, 219, 116)\",\"pattern\":{\"shape\":\"\"}},\"name\":\"APPLE iPhone 12 Pro Max (Graphite, 128 GB)\",\"offsetgroup\":\"APPLE iPhone 12 Pro Max (Graphite, 128 GB)\",\"orientation\":\"v\",\"showlegend\":true,\"textposition\":\"auto\",\"x\":[\"APPLE iPhone 12 Pro Max (Graphite, 128 GB)\"],\"xaxis\":\"x\",\"y\":[120900],\"yaxis\":\"y\",\"type\":\"bar\"},{\"alignmentgroup\":\"True\",\"hovertemplate\":\"Product Name=APPLE iPhone 12 (Black, 128 GB)\\u003cbr\\u003ex=%{x}\\u003cbr\\u003eSale Price=%{y}\\u003cextra\\u003e\\u003c\\u002fextra\\u003e\",\"legendgroup\":\"APPLE iPhone 12 (Black, 128 GB)\",\"marker\":{\"color\":\"rgb(139, 224, 164)\",\"pattern\":{\"shape\":\"\"}},\"name\":\"APPLE iPhone 12 (Black, 128 GB)\",\"offsetgroup\":\"APPLE iPhone 12 (Black, 128 GB)\",\"orientation\":\"v\",\"showlegend\":true,\"textposition\":\"auto\",\"x\":[\"APPLE iPhone 12 (Black, 128 GB)\"],\"xaxis\":\"x\",\"y\":[75900],\"yaxis\":\"y\",\"type\":\"bar\"},{\"alignmentgroup\":\"True\",\"hovertemplate\":\"Product Name=APPLE iPhone 12 (Blue, 128 GB)\\u003cbr\\u003ex=%{x}\\u003cbr\\u003eSale Price=%{y}\\u003cextra\\u003e\\u003c\\u002fextra\\u003e\",\"legendgroup\":\"APPLE iPhone 12 (Blue, 128 GB)\",\"marker\":{\"color\":\"rgb(180, 151, 231)\",\"pattern\":{\"shape\":\"\"}},\"name\":\"APPLE iPhone 12 (Blue, 128 GB)\",\"offsetgroup\":\"APPLE iPhone 12 (Blue, 128 GB)\",\"orientation\":\"v\",\"showlegend\":true,\"textposition\":\"auto\",\"x\":[\"APPLE iPhone 12 (Blue, 128 GB)\"],\"xaxis\":\"x\",\"y\":[75900],\"yaxis\":\"y\",\"type\":\"bar\"}],                        {\"template\":{\"data\":{\"histogram2dcontour\":[{\"type\":\"histogram2dcontour\",\"colorbar\":{\"outlinewidth\":0,\"ticks\":\"\"},\"colorscale\":[[0.0,\"#0d0887\"],[0.1111111111111111,\"#46039f\"],[0.2222222222222222,\"#7201a8\"],[0.3333333333333333,\"#9c179e\"],[0.4444444444444444,\"#bd3786\"],[0.5555555555555556,\"#d8576b\"],[0.6666666666666666,\"#ed7953\"],[0.7777777777777778,\"#fb9f3a\"],[0.8888888888888888,\"#fdca26\"],[1.0,\"#f0f921\"]]}],\"choropleth\":[{\"type\":\"choropleth\",\"colorbar\":{\"outlinewidth\":0,\"ticks\":\"\"}}],\"histogram2d\":[{\"type\":\"histogram2d\",\"colorbar\":{\"outlinewidth\":0,\"ticks\":\"\"},\"colorscale\":[[0.0,\"#0d0887\"],[0.1111111111111111,\"#46039f\"],[0.2222222222222222,\"#7201a8\"],[0.3333333333333333,\"#9c179e\"],[0.4444444444444444,\"#bd3786\"],[0.5555555555555556,\"#d8576b\"],[0.6666666666666666,\"#ed7953\"],[0.7777777777777778,\"#fb9f3a\"],[0.8888888888888888,\"#fdca26\"],[1.0,\"#f0f921\"]]}],\"heatmap\":[{\"type\":\"heatmap\",\"colorbar\":{\"outlinewidth\":0,\"ticks\":\"\"},\"colorscale\":[[0.0,\"#0d0887\"],[0.1111111111111111,\"#46039f\"],[0.2222222222222222,\"#7201a8\"],[0.3333333333333333,\"#9c179e\"],[0.4444444444444444,\"#bd3786\"],[0.5555555555555556,\"#d8576b\"],[0.6666666666666666,\"#ed7953\"],[0.7777777777777778,\"#fb9f3a\"],[0.8888888888888888,\"#fdca26\"],[1.0,\"#f0f921\"]]}],\"heatmapgl\":[{\"type\":\"heatmapgl\",\"colorbar\":{\"outlinewidth\":0,\"ticks\":\"\"},\"colorscale\":[[0.0,\"#0d0887\"],[0.1111111111111111,\"#46039f\"],[0.2222222222222222,\"#7201a8\"],[0.3333333333333333,\"#9c179e\"],[0.4444444444444444,\"#bd3786\"],[0.5555555555555556,\"#d8576b\"],[0.6666666666666666,\"#ed7953\"],[0.7777777777777778,\"#fb9f3a\"],[0.8888888888888888,\"#fdca26\"],[1.0,\"#f0f921\"]]}],\"contourcarpet\":[{\"type\":\"contourcarpet\",\"colorbar\":{\"outlinewidth\":0,\"ticks\":\"\"}}],\"contour\":[{\"type\":\"contour\",\"colorbar\":{\"outlinewidth\":0,\"ticks\":\"\"},\"colorscale\":[[0.0,\"#0d0887\"],[0.1111111111111111,\"#46039f\"],[0.2222222222222222,\"#7201a8\"],[0.3333333333333333,\"#9c179e\"],[0.4444444444444444,\"#bd3786\"],[0.5555555555555556,\"#d8576b\"],[0.6666666666666666,\"#ed7953\"],[0.7777777777777778,\"#fb9f3a\"],[0.8888888888888888,\"#fdca26\"],[1.0,\"#f0f921\"]]}],\"surface\":[{\"type\":\"surface\",\"colorbar\":{\"outlinewidth\":0,\"ticks\":\"\"},\"colorscale\":[[0.0,\"#0d0887\"],[0.1111111111111111,\"#46039f\"],[0.2222222222222222,\"#7201a8\"],[0.3333333333333333,\"#9c179e\"],[0.4444444444444444,\"#bd3786\"],[0.5555555555555556,\"#d8576b\"],[0.6666666666666666,\"#ed7953\"],[0.7777777777777778,\"#fb9f3a\"],[0.8888888888888888,\"#fdca26\"],[1.0,\"#f0f921\"]]}],\"mesh3d\":[{\"type\":\"mesh3d\",\"colorbar\":{\"outlinewidth\":0,\"ticks\":\"\"}}],\"scatter\":[{\"fillpattern\":{\"fillmode\":\"overlay\",\"size\":10,\"solidity\":0.2},\"type\":\"scatter\"}],\"parcoords\":[{\"type\":\"parcoords\",\"line\":{\"colorbar\":{\"outlinewidth\":0,\"ticks\":\"\"}}}],\"scatterpolargl\":[{\"type\":\"scatterpolargl\",\"marker\":{\"colorbar\":{\"outlinewidth\":0,\"ticks\":\"\"}}}],\"bar\":[{\"error_x\":{\"color\":\"#2a3f5f\"},\"error_y\":{\"color\":\"#2a3f5f\"},\"marker\":{\"line\":{\"color\":\"#E5ECF6\",\"width\":0.5},\"pattern\":{\"fillmode\":\"overlay\",\"size\":10,\"solidity\":0.2}},\"type\":\"bar\"}],\"scattergeo\":[{\"type\":\"scattergeo\",\"marker\":{\"colorbar\":{\"outlinewidth\":0,\"ticks\":\"\"}}}],\"scatterpolar\":[{\"type\":\"scatterpolar\",\"marker\":{\"colorbar\":{\"outlinewidth\":0,\"ticks\":\"\"}}}],\"histogram\":[{\"marker\":{\"pattern\":{\"fillmode\":\"overlay\",\"size\":10,\"solidity\":0.2}},\"type\":\"histogram\"}],\"scattergl\":[{\"type\":\"scattergl\",\"marker\":{\"colorbar\":{\"outlinewidth\":0,\"ticks\":\"\"}}}],\"scatter3d\":[{\"type\":\"scatter3d\",\"line\":{\"colorbar\":{\"outlinewidth\":0,\"ticks\":\"\"}},\"marker\":{\"colorbar\":{\"outlinewidth\":0,\"ticks\":\"\"}}}],\"scattermapbox\":[{\"type\":\"scattermapbox\",\"marker\":{\"colorbar\":{\"outlinewidth\":0,\"ticks\":\"\"}}}],\"scatterternary\":[{\"type\":\"scatterternary\",\"marker\":{\"colorbar\":{\"outlinewidth\":0,\"ticks\":\"\"}}}],\"scattercarpet\":[{\"type\":\"scattercarpet\",\"marker\":{\"colorbar\":{\"outlinewidth\":0,\"ticks\":\"\"}}}],\"carpet\":[{\"aaxis\":{\"endlinecolor\":\"#2a3f5f\",\"gridcolor\":\"white\",\"linecolor\":\"white\",\"minorgridcolor\":\"white\",\"startlinecolor\":\"#2a3f5f\"},\"baxis\":{\"endlinecolor\":\"#2a3f5f\",\"gridcolor\":\"white\",\"linecolor\":\"white\",\"minorgridcolor\":\"white\",\"startlinecolor\":\"#2a3f5f\"},\"type\":\"carpet\"}],\"table\":[{\"cells\":{\"fill\":{\"color\":\"#EBF0F8\"},\"line\":{\"color\":\"white\"}},\"header\":{\"fill\":{\"color\":\"#C8D4E3\"},\"line\":{\"color\":\"white\"}},\"type\":\"table\"}],\"barpolar\":[{\"marker\":{\"line\":{\"color\":\"#E5ECF6\",\"width\":0.5},\"pattern\":{\"fillmode\":\"overlay\",\"size\":10,\"solidity\":0.2}},\"type\":\"barpolar\"}],\"pie\":[{\"automargin\":true,\"type\":\"pie\"}]},\"layout\":{\"autotypenumbers\":\"strict\",\"colorway\":[\"#636efa\",\"#EF553B\",\"#00cc96\",\"#ab63fa\",\"#FFA15A\",\"#19d3f3\",\"#FF6692\",\"#B6E880\",\"#FF97FF\",\"#FECB52\"],\"font\":{\"color\":\"#2a3f5f\"},\"hovermode\":\"closest\",\"hoverlabel\":{\"align\":\"left\"},\"paper_bgcolor\":\"white\",\"plot_bgcolor\":\"#E5ECF6\",\"polar\":{\"bgcolor\":\"#E5ECF6\",\"angularaxis\":{\"gridcolor\":\"white\",\"linecolor\":\"white\",\"ticks\":\"\"},\"radialaxis\":{\"gridcolor\":\"white\",\"linecolor\":\"white\",\"ticks\":\"\"}},\"ternary\":{\"bgcolor\":\"#E5ECF6\",\"aaxis\":{\"gridcolor\":\"white\",\"linecolor\":\"white\",\"ticks\":\"\"},\"baxis\":{\"gridcolor\":\"white\",\"linecolor\":\"white\",\"ticks\":\"\"},\"caxis\":{\"gridcolor\":\"white\",\"linecolor\":\"white\",\"ticks\":\"\"}},\"coloraxis\":{\"colorbar\":{\"outlinewidth\":0,\"ticks\":\"\"}},\"colorscale\":{\"sequential\":[[0.0,\"#0d0887\"],[0.1111111111111111,\"#46039f\"],[0.2222222222222222,\"#7201a8\"],[0.3333333333333333,\"#9c179e\"],[0.4444444444444444,\"#bd3786\"],[0.5555555555555556,\"#d8576b\"],[0.6666666666666666,\"#ed7953\"],[0.7777777777777778,\"#fb9f3a\"],[0.8888888888888888,\"#fdca26\"],[1.0,\"#f0f921\"]],\"sequentialminus\":[[0.0,\"#0d0887\"],[0.1111111111111111,\"#46039f\"],[0.2222222222222222,\"#7201a8\"],[0.3333333333333333,\"#9c179e\"],[0.4444444444444444,\"#bd3786\"],[0.5555555555555556,\"#d8576b\"],[0.6666666666666666,\"#ed7953\"],[0.7777777777777778,\"#fb9f3a\"],[0.8888888888888888,\"#fdca26\"],[1.0,\"#f0f921\"]],\"diverging\":[[0,\"#8e0152\"],[0.1,\"#c51b7d\"],[0.2,\"#de77ae\"],[0.3,\"#f1b6da\"],[0.4,\"#fde0ef\"],[0.5,\"#f7f7f7\"],[0.6,\"#e6f5d0\"],[0.7,\"#b8e186\"],[0.8,\"#7fbc41\"],[0.9,\"#4d9221\"],[1,\"#276419\"]]},\"xaxis\":{\"gridcolor\":\"white\",\"linecolor\":\"white\",\"ticks\":\"\",\"title\":{\"standoff\":15},\"zerolinecolor\":\"white\",\"automargin\":true,\"zerolinewidth\":2},\"yaxis\":{\"gridcolor\":\"white\",\"linecolor\":\"white\",\"ticks\":\"\",\"title\":{\"standoff\":15},\"zerolinecolor\":\"white\",\"automargin\":true,\"zerolinewidth\":2},\"scene\":{\"xaxis\":{\"backgroundcolor\":\"#E5ECF6\",\"gridcolor\":\"white\",\"linecolor\":\"white\",\"showbackground\":true,\"ticks\":\"\",\"zerolinecolor\":\"white\",\"gridwidth\":2},\"yaxis\":{\"backgroundcolor\":\"#E5ECF6\",\"gridcolor\":\"white\",\"linecolor\":\"white\",\"showbackground\":true,\"ticks\":\"\",\"zerolinecolor\":\"white\",\"gridwidth\":2},\"zaxis\":{\"backgroundcolor\":\"#E5ECF6\",\"gridcolor\":\"white\",\"linecolor\":\"white\",\"showbackground\":true,\"ticks\":\"\",\"zerolinecolor\":\"white\",\"gridwidth\":2}},\"shapedefaults\":{\"line\":{\"color\":\"#2a3f5f\"}},\"annotationdefaults\":{\"arrowcolor\":\"#2a3f5f\",\"arrowhead\":0,\"arrowwidth\":1},\"geo\":{\"bgcolor\":\"white\",\"landcolor\":\"#E5ECF6\",\"subunitcolor\":\"white\",\"showland\":true,\"showlakes\":true,\"lakecolor\":\"white\"},\"title\":{\"x\":0.05},\"mapbox\":{\"style\":\"light\"}}},\"xaxis\":{\"anchor\":\"y\",\"domain\":[0.0,1.0],\"title\":{\"text\":\"Product\"}},\"yaxis\":{\"anchor\":\"x\",\"domain\":[0.0,1.0],\"title\":{\"text\":\"Sale Price\"}},\"legend\":{\"title\":{\"text\":\"Product Name\"},\"tracegroupgap\":0},\"title\":{\"text\":\"Sale prices by product\"},\"barmode\":\"relative\",\"width\":1200,\"height\":700},                        {\"responsive\": true}                    ).then(function(){\n",
       "                            \n",
       "var gd = document.getElementById('5a2cd29f-8aff-49dd-a353-baf74825fa33');\n",
       "var x = new MutationObserver(function (mutations, observer) {{\n",
       "        var display = window.getComputedStyle(gd).display;\n",
       "        if (!display || display === 'none') {{\n",
       "            console.log([gd, 'removed!']);\n",
       "            Plotly.purge(gd);\n",
       "            observer.disconnect();\n",
       "        }}\n",
       "}});\n",
       "\n",
       "// Listen for the removal of the full notebook cells\n",
       "var notebookContainer = gd.closest('#notebook-container');\n",
       "if (notebookContainer) {{\n",
       "    x.observe(notebookContainer, {childList: true});\n",
       "}}\n",
       "\n",
       "// Listen for the clearing of the current output cell\n",
       "var outputEl = gd.closest('.output');\n",
       "if (outputEl) {{\n",
       "    x.observe(outputEl, {childList: true});\n",
       "}}\n",
       "\n",
       "                        })                };                });            </script>        </div>"
      ]
     },
     "metadata": {},
     "output_type": "display_data"
    }
   ],
   "source": [
    "fig=px.bar(top_10_rated, \n",
    "           x=x_labels, \n",
    "           y='Sale Price', \n",
    "           title='Sale prices by product', \n",
    "           color='Product Name',\n",
    "           color_discrete_sequence= px.colors.qualitative.Pastel\n",
    "          \n",
    "          )\n",
    "fig.update_layout(width=1200, height=700, xaxis_title= 'Product')\n",
    "fig.show()   "
   ]
  },
  {
   "cell_type": "markdown",
   "id": "12314fb9-e1a6-4cc4-b460-221f455fbb2f",
   "metadata": {},
   "source": [
    "### # Inference :\n",
    "\n",
    "This analysis suggests that low price is a significant factor influencing customer ratings and satisfaction for top-rated iPhones, such as 'Apple iPhone 12 (White, 128 GB)', 'Apple iPhone 12 (Black, 128 GB)', and 'Apple iPhone 12 (Blue, 128 GB)'. These models likely strike a favorable balance between cost and features, meeting or exceeding customer expectations within their price range.\n",
    "\n",
    "\n",
    "\n",
    "\n",
    "\n",
    "    \n",
    "Conversely, higher-priced models like 'Apple iPhone 12 Pro Max (Graphite, 128 GB)' and 'Apple iPhone 11 Pro Max (Gold, 256 GB)' are among the least-rated phones, which might indicate customer dissatisfaction despite their premium pricing. This could stem from unmet expectations, perceived lack of value for money, or specific shortcomings in features or performance."
   ]
  },
  {
   "cell_type": "markdown",
   "id": "fc4f74b4-403a-4d62-ba05-b0e6a45d4b22",
   "metadata": {},
   "source": [
    "# # Obj. III:  To visualize the ratings against the sales price "
   ]
  },
  {
   "cell_type": "code",
   "execution_count": 35,
   "id": "6f32d5d6-30b7-421d-8264-24ee6bc46fb5",
   "metadata": {},
   "outputs": [
    {
     "data": {
      "application/vnd.plotly.v1+json": {
       "config": {
        "plotlyServerURL": "https://plot.ly"
       },
       "data": [
        {
         "hovertemplate": "Product Name=APPLE iPhone 8 Plus (Gold, 64 GB)<br>Sale Price=%{x}<br>Number Of Ratings=%{y}<br>Discount Percentage=%{marker.size}<extra></extra>",
         "legendgroup": "APPLE iPhone 8 Plus (Gold, 64 GB)",
         "marker": {
          "color": "#636efa",
          "size": [
           0
          ],
          "sizemode": "area",
          "sizeref": 0.0725,
          "symbol": "circle"
         },
         "mode": "markers",
         "name": "APPLE iPhone 8 Plus (Gold, 64 GB)",
         "orientation": "v",
         "showlegend": true,
         "type": "scatter",
         "x": [
          49900
         ],
         "xaxis": "x",
         "y": [
          3431
         ],
         "yaxis": "y"
        },
        {
         "hovertemplate": "Product Name=APPLE iPhone 8 Plus (Space Grey, 256 GB)<br>Sale Price=%{x}<br>Number Of Ratings=%{y}<br>Discount Percentage=%{marker.size}<extra></extra>",
         "legendgroup": "APPLE iPhone 8 Plus (Space Grey, 256 GB)",
         "marker": {
          "color": "#EF553B",
          "size": [
           0
          ],
          "sizemode": "area",
          "sizeref": 0.0725,
          "symbol": "circle"
         },
         "mode": "markers",
         "name": "APPLE iPhone 8 Plus (Space Grey, 256 GB)",
         "orientation": "v",
         "showlegend": true,
         "type": "scatter",
         "x": [
          84900
         ],
         "xaxis": "x",
         "y": [
          3431
         ],
         "yaxis": "y"
        },
        {
         "hovertemplate": "Product Name=APPLE iPhone 8 Plus (Silver, 256 GB)<br>Sale Price=%{x}<br>Number Of Ratings=%{y}<br>Discount Percentage=%{marker.size}<extra></extra>",
         "legendgroup": "APPLE iPhone 8 Plus (Silver, 256 GB)",
         "marker": {
          "color": "#00cc96",
          "size": [
           0
          ],
          "sizemode": "area",
          "sizeref": 0.0725,
          "symbol": "circle"
         },
         "mode": "markers",
         "name": "APPLE iPhone 8 Plus (Silver, 256 GB)",
         "orientation": "v",
         "showlegend": true,
         "type": "scatter",
         "x": [
          84900
         ],
         "xaxis": "x",
         "y": [
          3431
         ],
         "yaxis": "y"
        },
        {
         "hovertemplate": "Product Name=APPLE iPhone 8 (Silver, 256 GB)<br>Sale Price=%{x}<br>Number Of Ratings=%{y}<br>Discount Percentage=%{marker.size}<extra></extra>",
         "legendgroup": "APPLE iPhone 8 (Silver, 256 GB)",
         "marker": {
          "color": "#ab63fa",
          "size": [
           0
          ],
          "sizemode": "area",
          "sizeref": 0.0725,
          "symbol": "circle"
         },
         "mode": "markers",
         "name": "APPLE iPhone 8 (Silver, 256 GB)",
         "orientation": "v",
         "showlegend": true,
         "type": "scatter",
         "x": [
          77000
         ],
         "xaxis": "x",
         "y": [
          11202
         ],
         "yaxis": "y"
        },
        {
         "hovertemplate": "Product Name=APPLE iPhone 8 (Gold, 256 GB)<br>Sale Price=%{x}<br>Number Of Ratings=%{y}<br>Discount Percentage=%{marker.size}<extra></extra>",
         "legendgroup": "APPLE iPhone 8 (Gold, 256 GB)",
         "marker": {
          "color": "#FFA15A",
          "size": [
           0
          ],
          "sizemode": "area",
          "sizeref": 0.0725,
          "symbol": "circle"
         },
         "mode": "markers",
         "name": "APPLE iPhone 8 (Gold, 256 GB)",
         "orientation": "v",
         "showlegend": true,
         "type": "scatter",
         "x": [
          77000
         ],
         "xaxis": "x",
         "y": [
          11202
         ],
         "yaxis": "y"
        },
        {
         "hovertemplate": "Product Name=APPLE iPhone 8 Plus (Silver, 64 GB)<br>Sale Price=%{x}<br>Number Of Ratings=%{y}<br>Discount Percentage=%{marker.size}<extra></extra>",
         "legendgroup": "APPLE iPhone 8 Plus (Silver, 64 GB)",
         "marker": {
          "color": "#19d3f3",
          "size": [
           0
          ],
          "sizemode": "area",
          "sizeref": 0.0725,
          "symbol": "circle"
         },
         "mode": "markers",
         "name": "APPLE iPhone 8 Plus (Silver, 64 GB)",
         "orientation": "v",
         "showlegend": true,
         "type": "scatter",
         "x": [
          49900
         ],
         "xaxis": "x",
         "y": [
          3431
         ],
         "yaxis": "y"
        },
        {
         "hovertemplate": "Product Name=APPLE iPhone 8 Plus (Space Grey, 64 GB)<br>Sale Price=%{x}<br>Number Of Ratings=%{y}<br>Discount Percentage=%{marker.size}<extra></extra>",
         "legendgroup": "APPLE iPhone 8 Plus (Space Grey, 64 GB)",
         "marker": {
          "color": "#FF6692",
          "size": [
           0
          ],
          "sizemode": "area",
          "sizeref": 0.0725,
          "symbol": "circle"
         },
         "mode": "markers",
         "name": "APPLE iPhone 8 Plus (Space Grey, 64 GB)",
         "orientation": "v",
         "showlegend": true,
         "type": "scatter",
         "x": [
          49900
         ],
         "xaxis": "x",
         "y": [
          3431
         ],
         "yaxis": "y"
        },
        {
         "hovertemplate": "Product Name=APPLE iPhone 8 (Space Grey, 256 GB)<br>Sale Price=%{x}<br>Number Of Ratings=%{y}<br>Discount Percentage=%{marker.size}<extra></extra>",
         "legendgroup": "APPLE iPhone 8 (Space Grey, 256 GB)",
         "marker": {
          "color": "#B6E880",
          "size": [
           0
          ],
          "sizemode": "area",
          "sizeref": 0.0725,
          "symbol": "circle"
         },
         "mode": "markers",
         "name": "APPLE iPhone 8 (Space Grey, 256 GB)",
         "orientation": "v",
         "showlegend": true,
         "type": "scatter",
         "x": [
          77000
         ],
         "xaxis": "x",
         "y": [
          11202
         ],
         "yaxis": "y"
        },
        {
         "hovertemplate": "Product Name=APPLE iPhone XS Max (Silver, 64 GB)<br>Sale Price=%{x}<br>Number Of Ratings=%{y}<br>Discount Percentage=%{marker.size}<extra></extra>",
         "legendgroup": "APPLE iPhone XS Max (Silver, 64 GB)",
         "marker": {
          "color": "#FF97FF",
          "size": [
           0
          ],
          "sizemode": "area",
          "sizeref": 0.0725,
          "symbol": "circle"
         },
         "mode": "markers",
         "name": "APPLE iPhone XS Max (Silver, 64 GB)",
         "orientation": "v",
         "showlegend": true,
         "type": "scatter",
         "x": [
          89900
         ],
         "xaxis": "x",
         "y": [
          1454
         ],
         "yaxis": "y"
        },
        {
         "hovertemplate": "Product Name=Apple iPhone XR ((PRODUCT)RED, 128 GB) (Includes EarPods, Power Adapter)<br>Sale Price=%{x}<br>Number Of Ratings=%{y}<br>Discount Percentage=%{marker.size}<extra></extra>",
         "legendgroup": "Apple iPhone XR ((PRODUCT)RED, 128 GB) (Includes EarPods, Power Adapter)",
         "marker": {
          "color": "#FECB52",
          "size": [
           20
          ],
          "sizemode": "area",
          "sizeref": 0.0725,
          "symbol": "circle"
         },
         "mode": "markers",
         "name": "Apple iPhone XR ((PRODUCT)RED, 128 GB) (Includes EarPods, Power Adapter)",
         "orientation": "v",
         "showlegend": true,
         "type": "scatter",
         "x": [
          41999
         ],
         "xaxis": "x",
         "y": [
          79512
         ],
         "yaxis": "y"
        },
        {
         "hovertemplate": "Product Name=Apple iPhone XR (Black, 64 GB) (Includes EarPods, Power Adapter)<br>Sale Price=%{x}<br>Number Of Ratings=%{y}<br>Discount Percentage=%{marker.size}<extra></extra>",
         "legendgroup": "Apple iPhone XR (Black, 64 GB) (Includes EarPods, Power Adapter)",
         "marker": {
          "color": "#636efa",
          "size": [
           16
          ],
          "sizemode": "area",
          "sizeref": 0.0725,
          "symbol": "circle"
         },
         "mode": "markers",
         "name": "Apple iPhone XR (Black, 64 GB) (Includes EarPods, Power Adapter)",
         "orientation": "v",
         "showlegend": true,
         "type": "scatter",
         "x": [
          39999
         ],
         "xaxis": "x",
         "y": [
          79512
         ],
         "yaxis": "y"
        },
        {
         "hovertemplate": "Product Name=Apple iPhone XR (Coral, 128 GB) (Includes EarPods, Power Adapter)<br>Sale Price=%{x}<br>Number Of Ratings=%{y}<br>Discount Percentage=%{marker.size}<extra></extra>",
         "legendgroup": "Apple iPhone XR (Coral, 128 GB) (Includes EarPods, Power Adapter)",
         "marker": {
          "color": "#EF553B",
          "size": [
           20
          ],
          "sizemode": "area",
          "sizeref": 0.0725,
          "symbol": "circle"
         },
         "mode": "markers",
         "name": "Apple iPhone XR (Coral, 128 GB) (Includes EarPods, Power Adapter)",
         "orientation": "v",
         "showlegend": true,
         "type": "scatter",
         "x": [
          41999
         ],
         "xaxis": "x",
         "y": [
          79582
         ],
         "yaxis": "y"
        },
        {
         "hovertemplate": "Product Name=Apple iPhone XR (Black, 128 GB) (Includes EarPods, Power Adapter)<br>Sale Price=%{x}<br>Number Of Ratings=%{y}<br>Discount Percentage=%{marker.size}<extra></extra>",
         "legendgroup": "Apple iPhone XR (Black, 128 GB) (Includes EarPods, Power Adapter)",
         "marker": {
          "color": "#00cc96",
          "size": [
           20
          ],
          "sizemode": "area",
          "sizeref": 0.0725,
          "symbol": "circle"
         },
         "mode": "markers",
         "name": "Apple iPhone XR (Black, 128 GB) (Includes EarPods, Power Adapter)",
         "orientation": "v",
         "showlegend": true,
         "type": "scatter",
         "x": [
          41999
         ],
         "xaxis": "x",
         "y": [
          79512
         ],
         "yaxis": "y"
        },
        {
         "hovertemplate": "Product Name=Apple iPhone XR (White, 128 GB) (Includes EarPods, Power Adapter)<br>Sale Price=%{x}<br>Number Of Ratings=%{y}<br>Discount Percentage=%{marker.size}<extra></extra>",
         "legendgroup": "Apple iPhone XR (White, 128 GB) (Includes EarPods, Power Adapter)",
         "marker": {
          "color": "#ab63fa",
          "size": [
           20
          ],
          "sizemode": "area",
          "sizeref": 0.0725,
          "symbol": "circle"
         },
         "mode": "markers",
         "name": "Apple iPhone XR (White, 128 GB) (Includes EarPods, Power Adapter)",
         "orientation": "v",
         "showlegend": true,
         "type": "scatter",
         "x": [
          41999
         ],
         "xaxis": "x",
         "y": [
          79512
         ],
         "yaxis": "y"
        },
        {
         "hovertemplate": "Product Name=APPLE iPhone 11 Pro Max (Gold, 256 GB)<br>Sale Price=%{x}<br>Number Of Ratings=%{y}<br>Discount Percentage=%{marker.size}<extra></extra>",
         "legendgroup": "APPLE iPhone 11 Pro Max (Gold, 256 GB)",
         "marker": {
          "color": "#FFA15A",
          "size": [
           0
          ],
          "sizemode": "area",
          "sizeref": 0.0725,
          "symbol": "circle"
         },
         "mode": "markers",
         "name": "APPLE iPhone 11 Pro Max (Gold, 256 GB)",
         "orientation": "v",
         "showlegend": true,
         "type": "scatter",
         "x": [
          131900
         ],
         "xaxis": "x",
         "y": [
          1078
         ],
         "yaxis": "y"
        },
        {
         "hovertemplate": "Product Name=APPLE iPhone 11 Pro Max (Gold, 64 GB)<br>Sale Price=%{x}<br>Number Of Ratings=%{y}<br>Discount Percentage=%{marker.size}<extra></extra>",
         "legendgroup": "APPLE iPhone 11 Pro Max (Gold, 64 GB)",
         "marker": {
          "color": "#19d3f3",
          "size": [
           0
          ],
          "sizemode": "area",
          "sizeref": 0.0725,
          "symbol": "circle"
         },
         "mode": "markers",
         "name": "APPLE iPhone 11 Pro Max (Gold, 64 GB)",
         "orientation": "v",
         "showlegend": true,
         "type": "scatter",
         "x": [
          117100
         ],
         "xaxis": "x",
         "y": [
          1078
         ],
         "yaxis": "y"
        },
        {
         "hovertemplate": "Product Name=APPLE iPhone 11 Pro Max (Midnight Green, 256 GB)<br>Sale Price=%{x}<br>Number Of Ratings=%{y}<br>Discount Percentage=%{marker.size}<extra></extra>",
         "legendgroup": "APPLE iPhone 11 Pro Max (Midnight Green, 256 GB)",
         "marker": {
          "color": "#FF6692",
          "size": [
           0
          ],
          "sizemode": "area",
          "sizeref": 0.0725,
          "symbol": "circle"
         },
         "mode": "markers",
         "name": "APPLE iPhone 11 Pro Max (Midnight Green, 256 GB)",
         "orientation": "v",
         "showlegend": true,
         "type": "scatter",
         "x": [
          131900
         ],
         "xaxis": "x",
         "y": [
          1078
         ],
         "yaxis": "y"
        },
        {
         "hovertemplate": "Product Name=APPLE iPhone 11 Pro Max (Space Grey, 64 GB)<br>Sale Price=%{x}<br>Number Of Ratings=%{y}<br>Discount Percentage=%{marker.size}<extra></extra>",
         "legendgroup": "APPLE iPhone 11 Pro Max (Space Grey, 64 GB)",
         "marker": {
          "color": "#B6E880",
          "size": [
           0
          ],
          "sizemode": "area",
          "sizeref": 0.0725,
          "symbol": "circle"
         },
         "mode": "markers",
         "name": "APPLE iPhone 11 Pro Max (Space Grey, 64 GB)",
         "orientation": "v",
         "showlegend": true,
         "type": "scatter",
         "x": [
          117100
         ],
         "xaxis": "x",
         "y": [
          1078
         ],
         "yaxis": "y"
        },
        {
         "hovertemplate": "Product Name=APPLE iPhone 11 Pro (Midnight Green, 64 GB)<br>Sale Price=%{x}<br>Number Of Ratings=%{y}<br>Discount Percentage=%{marker.size}<extra></extra>",
         "legendgroup": "APPLE iPhone 11 Pro (Midnight Green, 64 GB)",
         "marker": {
          "color": "#FF97FF",
          "size": [
           29
          ],
          "sizemode": "area",
          "sizeref": 0.0725,
          "symbol": "circle"
         },
         "mode": "markers",
         "name": "APPLE iPhone 11 Pro (Midnight Green, 64 GB)",
         "orientation": "v",
         "showlegend": true,
         "type": "scatter",
         "x": [
          74999
         ],
         "xaxis": "x",
         "y": [
          7088
         ],
         "yaxis": "y"
        },
        {
         "hovertemplate": "Product Name=APPLE iPhone 11 Pro (Space Grey, 512 GB)<br>Sale Price=%{x}<br>Number Of Ratings=%{y}<br>Discount Percentage=%{marker.size}<extra></extra>",
         "legendgroup": "APPLE iPhone 11 Pro (Space Grey, 512 GB)",
         "marker": {
          "color": "#FECB52",
          "size": [
           15
          ],
          "sizemode": "area",
          "sizeref": 0.0725,
          "symbol": "circle"
         },
         "mode": "markers",
         "name": "APPLE iPhone 11 Pro (Space Grey, 512 GB)",
         "orientation": "v",
         "showlegend": true,
         "type": "scatter",
         "x": [
          117900
         ],
         "xaxis": "x",
         "y": [
          7088
         ],
         "yaxis": "y"
        },
        {
         "hovertemplate": "Product Name=APPLE iPhone 11 Pro Max (Midnight Green, 64 GB)<br>Sale Price=%{x}<br>Number Of Ratings=%{y}<br>Discount Percentage=%{marker.size}<extra></extra>",
         "legendgroup": "APPLE iPhone 11 Pro Max (Midnight Green, 64 GB)",
         "marker": {
          "color": "#636efa",
          "size": [
           0
          ],
          "sizemode": "area",
          "sizeref": 0.0725,
          "symbol": "circle"
         },
         "mode": "markers",
         "name": "APPLE iPhone 11 Pro Max (Midnight Green, 64 GB)",
         "orientation": "v",
         "showlegend": true,
         "type": "scatter",
         "x": [
          117100
         ],
         "xaxis": "x",
         "y": [
          1078
         ],
         "yaxis": "y"
        },
        {
         "hovertemplate": "Product Name=APPLE iPhone 11 Pro (Midnight Green, 512 GB)<br>Sale Price=%{x}<br>Number Of Ratings=%{y}<br>Discount Percentage=%{marker.size}<extra></extra>",
         "legendgroup": "APPLE iPhone 11 Pro (Midnight Green, 512 GB)",
         "marker": {
          "color": "#EF553B",
          "size": [
           15
          ],
          "sizemode": "area",
          "sizeref": 0.0725,
          "symbol": "circle"
         },
         "mode": "markers",
         "name": "APPLE iPhone 11 Pro (Midnight Green, 512 GB)",
         "orientation": "v",
         "showlegend": true,
         "type": "scatter",
         "x": [
          117900
         ],
         "xaxis": "x",
         "y": [
          7088
         ],
         "yaxis": "y"
        },
        {
         "hovertemplate": "Product Name=APPLE iPhone 11 Pro (Space Grey, 256 GB)<br>Sale Price=%{x}<br>Number Of Ratings=%{y}<br>Discount Percentage=%{marker.size}<extra></extra>",
         "legendgroup": "APPLE iPhone 11 Pro (Space Grey, 256 GB)",
         "marker": {
          "color": "#00cc96",
          "size": [
           17
          ],
          "sizemode": "area",
          "sizeref": 0.0725,
          "symbol": "circle"
         },
         "mode": "markers",
         "name": "APPLE iPhone 11 Pro (Space Grey, 256 GB)",
         "orientation": "v",
         "showlegend": true,
         "type": "scatter",
         "x": [
          99900
         ],
         "xaxis": "x",
         "y": [
          7081
         ],
         "yaxis": "y"
        },
        {
         "hovertemplate": "Product Name=Apple iPhone SE (White, 256 GB) (Includes EarPods, Power Adapter)<br>Sale Price=%{x}<br>Number Of Ratings=%{y}<br>Discount Percentage=%{marker.size}<extra></extra>",
         "legendgroup": "Apple iPhone SE (White, 256 GB) (Includes EarPods, Power Adapter)",
         "marker": {
          "color": "#ab63fa",
          "size": [
           18
          ],
          "sizemode": "area",
          "sizeref": 0.0725,
          "symbol": "circle"
         },
         "mode": "markers",
         "name": "Apple iPhone SE (White, 256 GB) (Includes EarPods, Power Adapter)",
         "orientation": "v",
         "showlegend": true,
         "type": "scatter",
         "x": [
          44999
         ],
         "xaxis": "x",
         "y": [
          95909
         ],
         "yaxis": "y"
        },
        {
         "hovertemplate": "Product Name=APPLE iPhone 12 Pro (Silver, 512 GB)<br>Sale Price=%{x}<br>Number Of Ratings=%{y}<br>Discount Percentage=%{marker.size}<extra></extra>",
         "legendgroup": "APPLE iPhone 12 Pro (Silver, 512 GB)",
         "marker": {
          "color": "#FFA15A",
          "size": [
           6
          ],
          "sizemode": "area",
          "sizeref": 0.0725,
          "symbol": "circle"
         },
         "mode": "markers",
         "name": "APPLE iPhone 12 Pro (Silver, 512 GB)",
         "orientation": "v",
         "showlegend": true,
         "type": "scatter",
         "x": [
          140900
         ],
         "xaxis": "x",
         "y": [
          542
         ],
         "yaxis": "y"
        },
        {
         "hovertemplate": "Product Name=APPLE iPhone 12 Pro Max (Pacific Blue, 256 GB)<br>Sale Price=%{x}<br>Number Of Ratings=%{y}<br>Discount Percentage=%{marker.size}<extra></extra>",
         "legendgroup": "APPLE iPhone 12 Pro Max (Pacific Blue, 256 GB)",
         "marker": {
          "color": "#19d3f3",
          "size": [
           6
          ],
          "sizemode": "area",
          "sizeref": 0.0725,
          "symbol": "circle"
         },
         "mode": "markers",
         "name": "APPLE iPhone 12 Pro Max (Pacific Blue, 256 GB)",
         "orientation": "v",
         "showlegend": true,
         "type": "scatter",
         "x": [
          130900
         ],
         "xaxis": "x",
         "y": [
          580
         ],
         "yaxis": "y"
        },
        {
         "hovertemplate": "Product Name=APPLE iPhone 12 Mini (White, 128 GB)<br>Sale Price=%{x}<br>Number Of Ratings=%{y}<br>Discount Percentage=%{marker.size}<extra></extra>",
         "legendgroup": "APPLE iPhone 12 Mini (White, 128 GB)",
         "marker": {
          "color": "#FF6692",
          "size": [
           13
          ],
          "sizemode": "area",
          "sizeref": 0.0725,
          "symbol": "circle"
         },
         "mode": "markers",
         "name": "APPLE iPhone 12 Mini (White, 128 GB)",
         "orientation": "v",
         "showlegend": true,
         "type": "scatter",
         "x": [
          64900
         ],
         "xaxis": "x",
         "y": [
          740
         ],
         "yaxis": "y"
        },
        {
         "hovertemplate": "Product Name=APPLE iPhone 12 Pro (Graphite, 256 GB)<br>Sale Price=%{x}<br>Number Of Ratings=%{y}<br>Discount Percentage=%{marker.size}<extra></extra>",
         "legendgroup": "APPLE iPhone 12 Pro (Graphite, 256 GB)",
         "marker": {
          "color": "#B6E880",
          "size": [
           6
          ],
          "sizemode": "area",
          "sizeref": 0.0725,
          "symbol": "circle"
         },
         "mode": "markers",
         "name": "APPLE iPhone 12 Pro (Graphite, 256 GB)",
         "orientation": "v",
         "showlegend": true,
         "type": "scatter",
         "x": [
          120900
         ],
         "xaxis": "x",
         "y": [
          545
         ],
         "yaxis": "y"
        },
        {
         "hovertemplate": "Product Name=APPLE iPhone 12 Mini (White, 64 GB)<br>Sale Price=%{x}<br>Number Of Ratings=%{y}<br>Discount Percentage=%{marker.size}<extra></extra>",
         "legendgroup": "APPLE iPhone 12 Mini (White, 64 GB)",
         "marker": {
          "color": "#FF97FF",
          "size": [
           14
          ],
          "sizemode": "area",
          "sizeref": 0.0725,
          "symbol": "circle"
         },
         "mode": "markers",
         "name": "APPLE iPhone 12 Mini (White, 64 GB)",
         "orientation": "v",
         "showlegend": true,
         "type": "scatter",
         "x": [
          59900
         ],
         "xaxis": "x",
         "y": [
          740
         ],
         "yaxis": "y"
        },
        {
         "hovertemplate": "Product Name=APPLE iPhone 12 (White, 128 GB)<br>Sale Price=%{x}<br>Number Of Ratings=%{y}<br>Discount Percentage=%{marker.size}<extra></extra>",
         "legendgroup": "APPLE iPhone 12 (White, 128 GB)",
         "marker": {
          "color": "#FECB52",
          "size": [
           10
          ],
          "sizemode": "area",
          "sizeref": 0.0725,
          "symbol": "circle"
         },
         "mode": "markers",
         "name": "APPLE iPhone 12 (White, 128 GB)",
         "orientation": "v",
         "showlegend": true,
         "type": "scatter",
         "x": [
          75900
         ],
         "xaxis": "x",
         "y": [
          2101
         ],
         "yaxis": "y"
        },
        {
         "hovertemplate": "Product Name=APPLE iPhone 12 Pro (Graphite, 128 GB)<br>Sale Price=%{x}<br>Number Of Ratings=%{y}<br>Discount Percentage=%{marker.size}<extra></extra>",
         "legendgroup": "APPLE iPhone 12 Pro (Graphite, 128 GB)",
         "marker": {
          "color": "#636efa",
          "size": [
           7
          ],
          "sizemode": "area",
          "sizeref": 0.0725,
          "symbol": "circle"
         },
         "mode": "markers",
         "name": "APPLE iPhone 12 Pro (Graphite, 128 GB)",
         "orientation": "v",
         "showlegend": true,
         "type": "scatter",
         "x": [
          110900
         ],
         "xaxis": "x",
         "y": [
          545
         ],
         "yaxis": "y"
        },
        {
         "hovertemplate": "Product Name=APPLE iPhone 12 Pro Max (Graphite, 256 GB)<br>Sale Price=%{x}<br>Number Of Ratings=%{y}<br>Discount Percentage=%{marker.size}<extra></extra>",
         "legendgroup": "APPLE iPhone 12 Pro Max (Graphite, 256 GB)",
         "marker": {
          "color": "#EF553B",
          "size": [
           6
          ],
          "sizemode": "area",
          "sizeref": 0.0725,
          "symbol": "circle"
         },
         "mode": "markers",
         "name": "APPLE iPhone 12 Pro Max (Graphite, 256 GB)",
         "orientation": "v",
         "showlegend": true,
         "type": "scatter",
         "x": [
          130900
         ],
         "xaxis": "x",
         "y": [
          580
         ],
         "yaxis": "y"
        },
        {
         "hovertemplate": "Product Name=APPLE iPhone 12 Pro Max (Graphite, 128 GB)<br>Sale Price=%{x}<br>Number Of Ratings=%{y}<br>Discount Percentage=%{marker.size}<extra></extra>",
         "legendgroup": "APPLE iPhone 12 Pro Max (Graphite, 128 GB)",
         "marker": {
          "color": "#00cc96",
          "size": [
           6
          ],
          "sizemode": "area",
          "sizeref": 0.0725,
          "symbol": "circle"
         },
         "mode": "markers",
         "name": "APPLE iPhone 12 Pro Max (Graphite, 128 GB)",
         "orientation": "v",
         "showlegend": true,
         "type": "scatter",
         "x": [
          120900
         ],
         "xaxis": "x",
         "y": [
          580
         ],
         "yaxis": "y"
        },
        {
         "hovertemplate": "Product Name=APPLE iPhone 12 Mini (Black, 128 GB)<br>Sale Price=%{x}<br>Number Of Ratings=%{y}<br>Discount Percentage=%{marker.size}<extra></extra>",
         "legendgroup": "APPLE iPhone 12 Mini (Black, 128 GB)",
         "marker": {
          "color": "#ab63fa",
          "size": [
           13
          ],
          "sizemode": "area",
          "sizeref": 0.0725,
          "symbol": "circle"
         },
         "mode": "markers",
         "name": "APPLE iPhone 12 Mini (Black, 128 GB)",
         "orientation": "v",
         "showlegend": true,
         "type": "scatter",
         "x": [
          64900
         ],
         "xaxis": "x",
         "y": [
          730
         ],
         "yaxis": "y"
        },
        {
         "hovertemplate": "Product Name=APPLE iPhone 12 Mini (Blue, 128 GB)<br>Sale Price=%{x}<br>Number Of Ratings=%{y}<br>Discount Percentage=%{marker.size}<extra></extra>",
         "legendgroup": "APPLE iPhone 12 Mini (Blue, 128 GB)",
         "marker": {
          "color": "#FFA15A",
          "size": [
           13
          ],
          "sizemode": "area",
          "sizeref": 0.0725,
          "symbol": "circle"
         },
         "mode": "markers",
         "name": "APPLE iPhone 12 Mini (Blue, 128 GB)",
         "orientation": "v",
         "showlegend": true,
         "type": "scatter",
         "x": [
          64900
         ],
         "xaxis": "x",
         "y": [
          730
         ],
         "yaxis": "y"
        },
        {
         "hovertemplate": "Product Name=APPLE iPhone 12 (Black, 128 GB)<br>Sale Price=%{x}<br>Number Of Ratings=%{y}<br>Discount Percentage=%{marker.size}<extra></extra>",
         "legendgroup": "APPLE iPhone 12 (Black, 128 GB)",
         "marker": {
          "color": "#19d3f3",
          "size": [
           10
          ],
          "sizemode": "area",
          "sizeref": 0.0725,
          "symbol": "circle"
         },
         "mode": "markers",
         "name": "APPLE iPhone 12 (Black, 128 GB)",
         "orientation": "v",
         "showlegend": true,
         "type": "scatter",
         "x": [
          75900
         ],
         "xaxis": "x",
         "y": [
          2101
         ],
         "yaxis": "y"
        },
        {
         "hovertemplate": "Product Name=APPLE iPhone 12 (Blue, 128 GB)<br>Sale Price=%{x}<br>Number Of Ratings=%{y}<br>Discount Percentage=%{marker.size}<extra></extra>",
         "legendgroup": "APPLE iPhone 12 (Blue, 128 GB)",
         "marker": {
          "color": "#FF6692",
          "size": [
           10
          ],
          "sizemode": "area",
          "sizeref": 0.0725,
          "symbol": "circle"
         },
         "mode": "markers",
         "name": "APPLE iPhone 12 (Blue, 128 GB)",
         "orientation": "v",
         "showlegend": true,
         "type": "scatter",
         "x": [
          75900
         ],
         "xaxis": "x",
         "y": [
          2101
         ],
         "yaxis": "y"
        },
        {
         "hovertemplate": "Product Name=APPLE iPhone 12 Pro Max (Silver, 128 GB)<br>Sale Price=%{x}<br>Number Of Ratings=%{y}<br>Discount Percentage=%{marker.size}<extra></extra>",
         "legendgroup": "APPLE iPhone 12 Pro Max (Silver, 128 GB)",
         "marker": {
          "color": "#B6E880",
          "size": [
           6
          ],
          "sizemode": "area",
          "sizeref": 0.0725,
          "symbol": "circle"
         },
         "mode": "markers",
         "name": "APPLE iPhone 12 Pro Max (Silver, 128 GB)",
         "orientation": "v",
         "showlegend": true,
         "type": "scatter",
         "x": [
          120900
         ],
         "xaxis": "x",
         "y": [
          580
         ],
         "yaxis": "y"
        },
        {
         "hovertemplate": "Product Name=APPLE iPhone 12 Mini (Red, 64 GB)<br>Sale Price=%{x}<br>Number Of Ratings=%{y}<br>Discount Percentage=%{marker.size}<extra></extra>",
         "legendgroup": "APPLE iPhone 12 Mini (Red, 64 GB)",
         "marker": {
          "color": "#FF97FF",
          "size": [
           14
          ],
          "sizemode": "area",
          "sizeref": 0.0725,
          "symbol": "circle"
         },
         "mode": "markers",
         "name": "APPLE iPhone 12 Mini (Red, 64 GB)",
         "orientation": "v",
         "showlegend": true,
         "type": "scatter",
         "x": [
          59900
         ],
         "xaxis": "x",
         "y": [
          740
         ],
         "yaxis": "y"
        },
        {
         "hovertemplate": "Product Name=APPLE iPhone 12 Pro Max (Gold, 128 GB)<br>Sale Price=%{x}<br>Number Of Ratings=%{y}<br>Discount Percentage=%{marker.size}<extra></extra>",
         "legendgroup": "APPLE iPhone 12 Pro Max (Gold, 128 GB)",
         "marker": {
          "color": "#FECB52",
          "size": [
           6
          ],
          "sizemode": "area",
          "sizeref": 0.0725,
          "symbol": "circle"
         },
         "mode": "markers",
         "name": "APPLE iPhone 12 Pro Max (Gold, 128 GB)",
         "orientation": "v",
         "showlegend": true,
         "type": "scatter",
         "x": [
          120900
         ],
         "xaxis": "x",
         "y": [
          580
         ],
         "yaxis": "y"
        },
        {
         "hovertemplate": "Product Name=APPLE iPhone 12 (Green, 128 GB)<br>Sale Price=%{x}<br>Number Of Ratings=%{y}<br>Discount Percentage=%{marker.size}<extra></extra>",
         "legendgroup": "APPLE iPhone 12 (Green, 128 GB)",
         "marker": {
          "color": "#636efa",
          "size": [
           10
          ],
          "sizemode": "area",
          "sizeref": 0.0725,
          "symbol": "circle"
         },
         "mode": "markers",
         "name": "APPLE iPhone 12 (Green, 128 GB)",
         "orientation": "v",
         "showlegend": true,
         "type": "scatter",
         "x": [
          75900
         ],
         "xaxis": "x",
         "y": [
          2092
         ],
         "yaxis": "y"
        },
        {
         "hovertemplate": "Product Name=APPLE iPhone 12 Pro (Pacific Blue, 512 GB)<br>Sale Price=%{x}<br>Number Of Ratings=%{y}<br>Discount Percentage=%{marker.size}<extra></extra>",
         "legendgroup": "APPLE iPhone 12 Pro (Pacific Blue, 512 GB)",
         "marker": {
          "color": "#EF553B",
          "size": [
           6
          ],
          "sizemode": "area",
          "sizeref": 0.0725,
          "symbol": "circle"
         },
         "mode": "markers",
         "name": "APPLE iPhone 12 Pro (Pacific Blue, 512 GB)",
         "orientation": "v",
         "showlegend": true,
         "type": "scatter",
         "x": [
          140900
         ],
         "xaxis": "x",
         "y": [
          545
         ],
         "yaxis": "y"
        },
        {
         "hovertemplate": "Product Name=APPLE iPhone 12 (White, 64 GB)<br>Sale Price=%{x}<br>Number Of Ratings=%{y}<br>Discount Percentage=%{marker.size}<extra></extra>",
         "legendgroup": "APPLE iPhone 12 (White, 64 GB)",
         "marker": {
          "color": "#00cc96",
          "size": [
           11
          ],
          "sizemode": "area",
          "sizeref": 0.0725,
          "symbol": "circle"
         },
         "mode": "markers",
         "name": "APPLE iPhone 12 (White, 64 GB)",
         "orientation": "v",
         "showlegend": true,
         "type": "scatter",
         "x": [
          70900
         ],
         "xaxis": "x",
         "y": [
          2101
         ],
         "yaxis": "y"
        },
        {
         "hovertemplate": "Product Name=APPLE iPhone 12 (Black, 64 GB)<br>Sale Price=%{x}<br>Number Of Ratings=%{y}<br>Discount Percentage=%{marker.size}<extra></extra>",
         "legendgroup": "APPLE iPhone 12 (Black, 64 GB)",
         "marker": {
          "color": "#ab63fa",
          "size": [
           11
          ],
          "sizemode": "area",
          "sizeref": 0.0725,
          "symbol": "circle"
         },
         "mode": "markers",
         "name": "APPLE iPhone 12 (Black, 64 GB)",
         "orientation": "v",
         "showlegend": true,
         "type": "scatter",
         "x": [
          70900
         ],
         "xaxis": "x",
         "y": [
          2092
         ],
         "yaxis": "y"
        },
        {
         "hovertemplate": "Product Name=APPLE iPhone 12 (Red, 128 GB)<br>Sale Price=%{x}<br>Number Of Ratings=%{y}<br>Discount Percentage=%{marker.size}<extra></extra>",
         "legendgroup": "APPLE iPhone 12 (Red, 128 GB)",
         "marker": {
          "color": "#FFA15A",
          "size": [
           10
          ],
          "sizemode": "area",
          "sizeref": 0.0725,
          "symbol": "circle"
         },
         "mode": "markers",
         "name": "APPLE iPhone 12 (Red, 128 GB)",
         "orientation": "v",
         "showlegend": true,
         "type": "scatter",
         "x": [
          75900
         ],
         "xaxis": "x",
         "y": [
          2101
         ],
         "yaxis": "y"
        },
        {
         "hovertemplate": "Product Name=APPLE iPhone 12 Mini (Black, 64 GB)<br>Sale Price=%{x}<br>Number Of Ratings=%{y}<br>Discount Percentage=%{marker.size}<extra></extra>",
         "legendgroup": "APPLE iPhone 12 Mini (Black, 64 GB)",
         "marker": {
          "color": "#19d3f3",
          "size": [
           14
          ],
          "sizemode": "area",
          "sizeref": 0.0725,
          "symbol": "circle"
         },
         "mode": "markers",
         "name": "APPLE iPhone 12 Mini (Black, 64 GB)",
         "orientation": "v",
         "showlegend": true,
         "type": "scatter",
         "x": [
          59900
         ],
         "xaxis": "x",
         "y": [
          740
         ],
         "yaxis": "y"
        },
        {
         "hovertemplate": "Product Name=APPLE iPhone 12 Pro (Pacific Blue, 128 GB)<br>Sale Price=%{x}<br>Number Of Ratings=%{y}<br>Discount Percentage=%{marker.size}<extra></extra>",
         "legendgroup": "APPLE iPhone 12 Pro (Pacific Blue, 128 GB)",
         "marker": {
          "color": "#FF6692",
          "size": [
           7
          ],
          "sizemode": "area",
          "sizeref": 0.0725,
          "symbol": "circle"
         },
         "mode": "markers",
         "name": "APPLE iPhone 12 Pro (Pacific Blue, 128 GB)",
         "orientation": "v",
         "showlegend": true,
         "type": "scatter",
         "x": [
          110900
         ],
         "xaxis": "x",
         "y": [
          545
         ],
         "yaxis": "y"
        },
        {
         "hovertemplate": "Product Name=APPLE iPhone 12 Pro Max (Pacific Blue, 128 GB)<br>Sale Price=%{x}<br>Number Of Ratings=%{y}<br>Discount Percentage=%{marker.size}<extra></extra>",
         "legendgroup": "APPLE iPhone 12 Pro Max (Pacific Blue, 128 GB)",
         "marker": {
          "color": "#B6E880",
          "size": [
           6
          ],
          "sizemode": "area",
          "sizeref": 0.0725,
          "symbol": "circle"
         },
         "mode": "markers",
         "name": "APPLE iPhone 12 Pro Max (Pacific Blue, 128 GB)",
         "orientation": "v",
         "showlegend": true,
         "type": "scatter",
         "x": [
          120900
         ],
         "xaxis": "x",
         "y": [
          580
         ],
         "yaxis": "y"
        },
        {
         "hovertemplate": "Product Name=APPLE iPhone 12 Pro Max (Silver, 256 GB)<br>Sale Price=%{x}<br>Number Of Ratings=%{y}<br>Discount Percentage=%{marker.size}<extra></extra>",
         "legendgroup": "APPLE iPhone 12 Pro Max (Silver, 256 GB)",
         "marker": {
          "color": "#FF97FF",
          "size": [
           6
          ],
          "sizemode": "area",
          "sizeref": 0.0725,
          "symbol": "circle"
         },
         "mode": "markers",
         "name": "APPLE iPhone 12 Pro Max (Silver, 256 GB)",
         "orientation": "v",
         "showlegend": true,
         "type": "scatter",
         "x": [
          130900
         ],
         "xaxis": "x",
         "y": [
          580
         ],
         "yaxis": "y"
        },
        {
         "hovertemplate": "Product Name=APPLE iPhone 12 Pro Max (Gold, 256 GB)<br>Sale Price=%{x}<br>Number Of Ratings=%{y}<br>Discount Percentage=%{marker.size}<extra></extra>",
         "legendgroup": "APPLE iPhone 12 Pro Max (Gold, 256 GB)",
         "marker": {
          "color": "#FECB52",
          "size": [
           6
          ],
          "sizemode": "area",
          "sizeref": 0.0725,
          "symbol": "circle"
         },
         "mode": "markers",
         "name": "APPLE iPhone 12 Pro Max (Gold, 256 GB)",
         "orientation": "v",
         "showlegend": true,
         "type": "scatter",
         "x": [
          130900
         ],
         "xaxis": "x",
         "y": [
          580
         ],
         "yaxis": "y"
        },
        {
         "hovertemplate": "Product Name=APPLE iPhone 11 (White, 128 GB)<br>Sale Price=%{x}<br>Number Of Ratings=%{y}<br>Discount Percentage=%{marker.size}<extra></extra>",
         "legendgroup": "APPLE iPhone 11 (White, 128 GB)",
         "marker": {
          "color": "#636efa",
          "size": [
           8
          ],
          "sizemode": "area",
          "sizeref": 0.0725,
          "symbol": "circle"
         },
         "mode": "markers",
         "name": "APPLE iPhone 11 (White, 128 GB)",
         "orientation": "v",
         "showlegend": true,
         "type": "scatter",
         "x": [
          54999
         ],
         "xaxis": "x",
         "y": [
          43707
         ],
         "yaxis": "y"
        },
        {
         "hovertemplate": "Product Name=APPLE iPhone 11 (Red, 128 GB)<br>Sale Price=%{x}<br>Number Of Ratings=%{y}<br>Discount Percentage=%{marker.size}<extra></extra>",
         "legendgroup": "APPLE iPhone 11 (Red, 128 GB)",
         "marker": {
          "color": "#EF553B",
          "size": [
           8
          ],
          "sizemode": "area",
          "sizeref": 0.0725,
          "symbol": "circle"
         },
         "mode": "markers",
         "name": "APPLE iPhone 11 (Red, 128 GB)",
         "orientation": "v",
         "showlegend": true,
         "type": "scatter",
         "x": [
          54999
         ],
         "xaxis": "x",
         "y": [
          43707
         ],
         "yaxis": "y"
        },
        {
         "hovertemplate": "Product Name=APPLE iPhone SE (White, 64 GB)<br>Sale Price=%{x}<br>Number Of Ratings=%{y}<br>Discount Percentage=%{marker.size}<extra></extra>",
         "legendgroup": "APPLE iPhone SE (White, 64 GB)",
         "marker": {
          "color": "#00cc96",
          "size": [
           24
          ],
          "sizemode": "area",
          "sizeref": 0.0725,
          "symbol": "circle"
         },
         "mode": "markers",
         "name": "APPLE iPhone SE (White, 64 GB)",
         "orientation": "v",
         "showlegend": true,
         "type": "scatter",
         "x": [
          29999
         ],
         "xaxis": "x",
         "y": [
          95807
         ],
         "yaxis": "y"
        },
        {
         "hovertemplate": "Product Name=APPLE iPhone SE (Black, 128 GB)<br>Sale Price=%{x}<br>Number Of Ratings=%{y}<br>Discount Percentage=%{marker.size}<extra></extra>",
         "legendgroup": "APPLE iPhone SE (Black, 128 GB)",
         "marker": {
          "color": "#ab63fa",
          "size": [
           22
          ],
          "sizemode": "area",
          "sizeref": 0.0725,
          "symbol": "circle"
         },
         "mode": "markers",
         "name": "APPLE iPhone SE (Black, 128 GB)",
         "orientation": "v",
         "showlegend": true,
         "type": "scatter",
         "x": [
          34999
         ],
         "xaxis": "x",
         "y": [
          95909
         ],
         "yaxis": "y"
        },
        {
         "hovertemplate": "Product Name=APPLE iPhone SE (White, 128 GB)<br>Sale Price=%{x}<br>Number Of Ratings=%{y}<br>Discount Percentage=%{marker.size}<extra></extra>",
         "legendgroup": "APPLE iPhone SE (White, 128 GB)",
         "marker": {
          "color": "#FFA15A",
          "size": [
           22
          ],
          "sizemode": "area",
          "sizeref": 0.0725,
          "symbol": "circle"
         },
         "mode": "markers",
         "name": "APPLE iPhone SE (White, 128 GB)",
         "orientation": "v",
         "showlegend": true,
         "type": "scatter",
         "x": [
          34999
         ],
         "xaxis": "x",
         "y": [
          95807
         ],
         "yaxis": "y"
        },
        {
         "hovertemplate": "Product Name=APPLE iPhone SE (Red, 128 GB)<br>Sale Price=%{x}<br>Number Of Ratings=%{y}<br>Discount Percentage=%{marker.size}<extra></extra>",
         "legendgroup": "APPLE iPhone SE (Red, 128 GB)",
         "marker": {
          "color": "#19d3f3",
          "size": [
           22
          ],
          "sizemode": "area",
          "sizeref": 0.0725,
          "symbol": "circle"
         },
         "mode": "markers",
         "name": "APPLE iPhone SE (Red, 128 GB)",
         "orientation": "v",
         "showlegend": true,
         "type": "scatter",
         "x": [
          34999
         ],
         "xaxis": "x",
         "y": [
          95909
         ],
         "yaxis": "y"
        },
        {
         "hovertemplate": "Product Name=APPLE iPhone 11 (Black, 128 GB)<br>Sale Price=%{x}<br>Number Of Ratings=%{y}<br>Discount Percentage=%{marker.size}<extra></extra>",
         "legendgroup": "APPLE iPhone 11 (Black, 128 GB)",
         "marker": {
          "color": "#FF6692",
          "size": [
           8
          ],
          "sizemode": "area",
          "sizeref": 0.0725,
          "symbol": "circle"
         },
         "mode": "markers",
         "name": "APPLE iPhone 11 (Black, 128 GB)",
         "orientation": "v",
         "showlegend": true,
         "type": "scatter",
         "x": [
          54999
         ],
         "xaxis": "x",
         "y": [
          43470
         ],
         "yaxis": "y"
        },
        {
         "hovertemplate": "Product Name=APPLE iPhone SE (Black, 64 GB)<br>Sale Price=%{x}<br>Number Of Ratings=%{y}<br>Discount Percentage=%{marker.size}<extra></extra>",
         "legendgroup": "APPLE iPhone SE (Black, 64 GB)",
         "marker": {
          "color": "#B6E880",
          "size": [
           24
          ],
          "sizemode": "area",
          "sizeref": 0.0725,
          "symbol": "circle"
         },
         "mode": "markers",
         "name": "APPLE iPhone SE (Black, 64 GB)",
         "orientation": "v",
         "showlegend": true,
         "type": "scatter",
         "x": [
          29999
         ],
         "xaxis": "x",
         "y": [
          95909
         ],
         "yaxis": "y"
        },
        {
         "hovertemplate": "Product Name=APPLE iPhone 11 (Purple, 64 GB)<br>Sale Price=%{x}<br>Number Of Ratings=%{y}<br>Discount Percentage=%{marker.size}<extra></extra>",
         "legendgroup": "APPLE iPhone 11 (Purple, 64 GB)",
         "marker": {
          "color": "#FF97FF",
          "size": [
           14
          ],
          "sizemode": "area",
          "sizeref": 0.0725,
          "symbol": "circle"
         },
         "mode": "markers",
         "name": "APPLE iPhone 11 (Purple, 64 GB)",
         "orientation": "v",
         "showlegend": true,
         "type": "scatter",
         "x": [
          46999
         ],
         "xaxis": "x",
         "y": [
          43470
         ],
         "yaxis": "y"
        },
        {
         "hovertemplate": "Product Name=APPLE iPhone 11 (White, 64 GB)<br>Sale Price=%{x}<br>Number Of Ratings=%{y}<br>Discount Percentage=%{marker.size}<extra></extra>",
         "legendgroup": "APPLE iPhone 11 (White, 64 GB)",
         "marker": {
          "color": "#FECB52",
          "size": [
           14
          ],
          "sizemode": "area",
          "sizeref": 0.0725,
          "symbol": "circle"
         },
         "mode": "markers",
         "name": "APPLE iPhone 11 (White, 64 GB)",
         "orientation": "v",
         "showlegend": true,
         "type": "scatter",
         "x": [
          46999
         ],
         "xaxis": "x",
         "y": [
          43470
         ],
         "yaxis": "y"
        },
        {
         "hovertemplate": "Product Name=APPLE iPhone 11 (Black, 64 GB)<br>Sale Price=%{x}<br>Number Of Ratings=%{y}<br>Discount Percentage=%{marker.size}<extra></extra>",
         "legendgroup": "APPLE iPhone 11 (Black, 64 GB)",
         "marker": {
          "color": "#636efa",
          "size": [
           14
          ],
          "sizemode": "area",
          "sizeref": 0.0725,
          "symbol": "circle"
         },
         "mode": "markers",
         "name": "APPLE iPhone 11 (Black, 64 GB)",
         "orientation": "v",
         "showlegend": true,
         "type": "scatter",
         "x": [
          46999
         ],
         "xaxis": "x",
         "y": [
          43470
         ],
         "yaxis": "y"
        },
        {
         "hovertemplate": "Product Name=APPLE iPhone 11 (Red, 64 GB)<br>Sale Price=%{x}<br>Number Of Ratings=%{y}<br>Discount Percentage=%{marker.size}<extra></extra>",
         "legendgroup": "APPLE iPhone 11 (Red, 64 GB)",
         "marker": {
          "color": "#EF553B",
          "size": [
           14
          ],
          "sizemode": "area",
          "sizeref": 0.0725,
          "symbol": "circle"
         },
         "mode": "markers",
         "name": "APPLE iPhone 11 (Red, 64 GB)",
         "orientation": "v",
         "showlegend": true,
         "type": "scatter",
         "x": [
          46999
         ],
         "xaxis": "x",
         "y": [
          43470
         ],
         "yaxis": "y"
        }
       ],
       "layout": {
        "height": 900,
        "legend": {
         "itemsizing": "constant",
         "title": {
          "text": "Product Name"
         },
         "tracegroupgap": 0
        },
        "template": {
         "data": {
          "bar": [
           {
            "error_x": {
             "color": "#2a3f5f"
            },
            "error_y": {
             "color": "#2a3f5f"
            },
            "marker": {
             "line": {
              "color": "#E5ECF6",
              "width": 0.5
             },
             "pattern": {
              "fillmode": "overlay",
              "size": 10,
              "solidity": 0.2
             }
            },
            "type": "bar"
           }
          ],
          "barpolar": [
           {
            "marker": {
             "line": {
              "color": "#E5ECF6",
              "width": 0.5
             },
             "pattern": {
              "fillmode": "overlay",
              "size": 10,
              "solidity": 0.2
             }
            },
            "type": "barpolar"
           }
          ],
          "carpet": [
           {
            "aaxis": {
             "endlinecolor": "#2a3f5f",
             "gridcolor": "white",
             "linecolor": "white",
             "minorgridcolor": "white",
             "startlinecolor": "#2a3f5f"
            },
            "baxis": {
             "endlinecolor": "#2a3f5f",
             "gridcolor": "white",
             "linecolor": "white",
             "minorgridcolor": "white",
             "startlinecolor": "#2a3f5f"
            },
            "type": "carpet"
           }
          ],
          "choropleth": [
           {
            "colorbar": {
             "outlinewidth": 0,
             "ticks": ""
            },
            "type": "choropleth"
           }
          ],
          "contour": [
           {
            "colorbar": {
             "outlinewidth": 0,
             "ticks": ""
            },
            "colorscale": [
             [
              0,
              "#0d0887"
             ],
             [
              0.1111111111111111,
              "#46039f"
             ],
             [
              0.2222222222222222,
              "#7201a8"
             ],
             [
              0.3333333333333333,
              "#9c179e"
             ],
             [
              0.4444444444444444,
              "#bd3786"
             ],
             [
              0.5555555555555556,
              "#d8576b"
             ],
             [
              0.6666666666666666,
              "#ed7953"
             ],
             [
              0.7777777777777778,
              "#fb9f3a"
             ],
             [
              0.8888888888888888,
              "#fdca26"
             ],
             [
              1,
              "#f0f921"
             ]
            ],
            "type": "contour"
           }
          ],
          "contourcarpet": [
           {
            "colorbar": {
             "outlinewidth": 0,
             "ticks": ""
            },
            "type": "contourcarpet"
           }
          ],
          "heatmap": [
           {
            "colorbar": {
             "outlinewidth": 0,
             "ticks": ""
            },
            "colorscale": [
             [
              0,
              "#0d0887"
             ],
             [
              0.1111111111111111,
              "#46039f"
             ],
             [
              0.2222222222222222,
              "#7201a8"
             ],
             [
              0.3333333333333333,
              "#9c179e"
             ],
             [
              0.4444444444444444,
              "#bd3786"
             ],
             [
              0.5555555555555556,
              "#d8576b"
             ],
             [
              0.6666666666666666,
              "#ed7953"
             ],
             [
              0.7777777777777778,
              "#fb9f3a"
             ],
             [
              0.8888888888888888,
              "#fdca26"
             ],
             [
              1,
              "#f0f921"
             ]
            ],
            "type": "heatmap"
           }
          ],
          "heatmapgl": [
           {
            "colorbar": {
             "outlinewidth": 0,
             "ticks": ""
            },
            "colorscale": [
             [
              0,
              "#0d0887"
             ],
             [
              0.1111111111111111,
              "#46039f"
             ],
             [
              0.2222222222222222,
              "#7201a8"
             ],
             [
              0.3333333333333333,
              "#9c179e"
             ],
             [
              0.4444444444444444,
              "#bd3786"
             ],
             [
              0.5555555555555556,
              "#d8576b"
             ],
             [
              0.6666666666666666,
              "#ed7953"
             ],
             [
              0.7777777777777778,
              "#fb9f3a"
             ],
             [
              0.8888888888888888,
              "#fdca26"
             ],
             [
              1,
              "#f0f921"
             ]
            ],
            "type": "heatmapgl"
           }
          ],
          "histogram": [
           {
            "marker": {
             "pattern": {
              "fillmode": "overlay",
              "size": 10,
              "solidity": 0.2
             }
            },
            "type": "histogram"
           }
          ],
          "histogram2d": [
           {
            "colorbar": {
             "outlinewidth": 0,
             "ticks": ""
            },
            "colorscale": [
             [
              0,
              "#0d0887"
             ],
             [
              0.1111111111111111,
              "#46039f"
             ],
             [
              0.2222222222222222,
              "#7201a8"
             ],
             [
              0.3333333333333333,
              "#9c179e"
             ],
             [
              0.4444444444444444,
              "#bd3786"
             ],
             [
              0.5555555555555556,
              "#d8576b"
             ],
             [
              0.6666666666666666,
              "#ed7953"
             ],
             [
              0.7777777777777778,
              "#fb9f3a"
             ],
             [
              0.8888888888888888,
              "#fdca26"
             ],
             [
              1,
              "#f0f921"
             ]
            ],
            "type": "histogram2d"
           }
          ],
          "histogram2dcontour": [
           {
            "colorbar": {
             "outlinewidth": 0,
             "ticks": ""
            },
            "colorscale": [
             [
              0,
              "#0d0887"
             ],
             [
              0.1111111111111111,
              "#46039f"
             ],
             [
              0.2222222222222222,
              "#7201a8"
             ],
             [
              0.3333333333333333,
              "#9c179e"
             ],
             [
              0.4444444444444444,
              "#bd3786"
             ],
             [
              0.5555555555555556,
              "#d8576b"
             ],
             [
              0.6666666666666666,
              "#ed7953"
             ],
             [
              0.7777777777777778,
              "#fb9f3a"
             ],
             [
              0.8888888888888888,
              "#fdca26"
             ],
             [
              1,
              "#f0f921"
             ]
            ],
            "type": "histogram2dcontour"
           }
          ],
          "mesh3d": [
           {
            "colorbar": {
             "outlinewidth": 0,
             "ticks": ""
            },
            "type": "mesh3d"
           }
          ],
          "parcoords": [
           {
            "line": {
             "colorbar": {
              "outlinewidth": 0,
              "ticks": ""
             }
            },
            "type": "parcoords"
           }
          ],
          "pie": [
           {
            "automargin": true,
            "type": "pie"
           }
          ],
          "scatter": [
           {
            "fillpattern": {
             "fillmode": "overlay",
             "size": 10,
             "solidity": 0.2
            },
            "type": "scatter"
           }
          ],
          "scatter3d": [
           {
            "line": {
             "colorbar": {
              "outlinewidth": 0,
              "ticks": ""
             }
            },
            "marker": {
             "colorbar": {
              "outlinewidth": 0,
              "ticks": ""
             }
            },
            "type": "scatter3d"
           }
          ],
          "scattercarpet": [
           {
            "marker": {
             "colorbar": {
              "outlinewidth": 0,
              "ticks": ""
             }
            },
            "type": "scattercarpet"
           }
          ],
          "scattergeo": [
           {
            "marker": {
             "colorbar": {
              "outlinewidth": 0,
              "ticks": ""
             }
            },
            "type": "scattergeo"
           }
          ],
          "scattergl": [
           {
            "marker": {
             "colorbar": {
              "outlinewidth": 0,
              "ticks": ""
             }
            },
            "type": "scattergl"
           }
          ],
          "scattermapbox": [
           {
            "marker": {
             "colorbar": {
              "outlinewidth": 0,
              "ticks": ""
             }
            },
            "type": "scattermapbox"
           }
          ],
          "scatterpolar": [
           {
            "marker": {
             "colorbar": {
              "outlinewidth": 0,
              "ticks": ""
             }
            },
            "type": "scatterpolar"
           }
          ],
          "scatterpolargl": [
           {
            "marker": {
             "colorbar": {
              "outlinewidth": 0,
              "ticks": ""
             }
            },
            "type": "scatterpolargl"
           }
          ],
          "scatterternary": [
           {
            "marker": {
             "colorbar": {
              "outlinewidth": 0,
              "ticks": ""
             }
            },
            "type": "scatterternary"
           }
          ],
          "surface": [
           {
            "colorbar": {
             "outlinewidth": 0,
             "ticks": ""
            },
            "colorscale": [
             [
              0,
              "#0d0887"
             ],
             [
              0.1111111111111111,
              "#46039f"
             ],
             [
              0.2222222222222222,
              "#7201a8"
             ],
             [
              0.3333333333333333,
              "#9c179e"
             ],
             [
              0.4444444444444444,
              "#bd3786"
             ],
             [
              0.5555555555555556,
              "#d8576b"
             ],
             [
              0.6666666666666666,
              "#ed7953"
             ],
             [
              0.7777777777777778,
              "#fb9f3a"
             ],
             [
              0.8888888888888888,
              "#fdca26"
             ],
             [
              1,
              "#f0f921"
             ]
            ],
            "type": "surface"
           }
          ],
          "table": [
           {
            "cells": {
             "fill": {
              "color": "#EBF0F8"
             },
             "line": {
              "color": "white"
             }
            },
            "header": {
             "fill": {
              "color": "#C8D4E3"
             },
             "line": {
              "color": "white"
             }
            },
            "type": "table"
           }
          ]
         },
         "layout": {
          "annotationdefaults": {
           "arrowcolor": "#2a3f5f",
           "arrowhead": 0,
           "arrowwidth": 1
          },
          "autotypenumbers": "strict",
          "coloraxis": {
           "colorbar": {
            "outlinewidth": 0,
            "ticks": ""
           }
          },
          "colorscale": {
           "diverging": [
            [
             0,
             "#8e0152"
            ],
            [
             0.1,
             "#c51b7d"
            ],
            [
             0.2,
             "#de77ae"
            ],
            [
             0.3,
             "#f1b6da"
            ],
            [
             0.4,
             "#fde0ef"
            ],
            [
             0.5,
             "#f7f7f7"
            ],
            [
             0.6,
             "#e6f5d0"
            ],
            [
             0.7,
             "#b8e186"
            ],
            [
             0.8,
             "#7fbc41"
            ],
            [
             0.9,
             "#4d9221"
            ],
            [
             1,
             "#276419"
            ]
           ],
           "sequential": [
            [
             0,
             "#0d0887"
            ],
            [
             0.1111111111111111,
             "#46039f"
            ],
            [
             0.2222222222222222,
             "#7201a8"
            ],
            [
             0.3333333333333333,
             "#9c179e"
            ],
            [
             0.4444444444444444,
             "#bd3786"
            ],
            [
             0.5555555555555556,
             "#d8576b"
            ],
            [
             0.6666666666666666,
             "#ed7953"
            ],
            [
             0.7777777777777778,
             "#fb9f3a"
            ],
            [
             0.8888888888888888,
             "#fdca26"
            ],
            [
             1,
             "#f0f921"
            ]
           ],
           "sequentialminus": [
            [
             0,
             "#0d0887"
            ],
            [
             0.1111111111111111,
             "#46039f"
            ],
            [
             0.2222222222222222,
             "#7201a8"
            ],
            [
             0.3333333333333333,
             "#9c179e"
            ],
            [
             0.4444444444444444,
             "#bd3786"
            ],
            [
             0.5555555555555556,
             "#d8576b"
            ],
            [
             0.6666666666666666,
             "#ed7953"
            ],
            [
             0.7777777777777778,
             "#fb9f3a"
            ],
            [
             0.8888888888888888,
             "#fdca26"
            ],
            [
             1,
             "#f0f921"
            ]
           ]
          },
          "colorway": [
           "#636efa",
           "#EF553B",
           "#00cc96",
           "#ab63fa",
           "#FFA15A",
           "#19d3f3",
           "#FF6692",
           "#B6E880",
           "#FF97FF",
           "#FECB52"
          ],
          "font": {
           "color": "#2a3f5f"
          },
          "geo": {
           "bgcolor": "white",
           "lakecolor": "white",
           "landcolor": "#E5ECF6",
           "showlakes": true,
           "showland": true,
           "subunitcolor": "white"
          },
          "hoverlabel": {
           "align": "left"
          },
          "hovermode": "closest",
          "mapbox": {
           "style": "light"
          },
          "paper_bgcolor": "white",
          "plot_bgcolor": "#E5ECF6",
          "polar": {
           "angularaxis": {
            "gridcolor": "white",
            "linecolor": "white",
            "ticks": ""
           },
           "bgcolor": "#E5ECF6",
           "radialaxis": {
            "gridcolor": "white",
            "linecolor": "white",
            "ticks": ""
           }
          },
          "scene": {
           "xaxis": {
            "backgroundcolor": "#E5ECF6",
            "gridcolor": "white",
            "gridwidth": 2,
            "linecolor": "white",
            "showbackground": true,
            "ticks": "",
            "zerolinecolor": "white"
           },
           "yaxis": {
            "backgroundcolor": "#E5ECF6",
            "gridcolor": "white",
            "gridwidth": 2,
            "linecolor": "white",
            "showbackground": true,
            "ticks": "",
            "zerolinecolor": "white"
           },
           "zaxis": {
            "backgroundcolor": "#E5ECF6",
            "gridcolor": "white",
            "gridwidth": 2,
            "linecolor": "white",
            "showbackground": true,
            "ticks": "",
            "zerolinecolor": "white"
           }
          },
          "shapedefaults": {
           "line": {
            "color": "#2a3f5f"
           }
          },
          "ternary": {
           "aaxis": {
            "gridcolor": "white",
            "linecolor": "white",
            "ticks": ""
           },
           "baxis": {
            "gridcolor": "white",
            "linecolor": "white",
            "ticks": ""
           },
           "bgcolor": "#E5ECF6",
           "caxis": {
            "gridcolor": "white",
            "linecolor": "white",
            "ticks": ""
           }
          },
          "title": {
           "x": 0.05
          },
          "xaxis": {
           "automargin": true,
           "gridcolor": "white",
           "linecolor": "white",
           "ticks": "",
           "title": {
            "standoff": 15
           },
           "zerolinecolor": "white",
           "zerolinewidth": 2
          },
          "yaxis": {
           "automargin": true,
           "gridcolor": "white",
           "linecolor": "white",
           "ticks": "",
           "title": {
            "standoff": 15
           },
           "zerolinecolor": "white",
           "zerolinewidth": 2
          }
         }
        },
        "title": {
         "text": "Ratings by sale price"
        },
        "width": 1200,
        "xaxis": {
         "anchor": "y",
         "autorange": true,
         "domain": [
          0,
          1
         ],
         "range": [
          20208.273308423315,
          149015.5451416182
         ],
         "title": {
          "text": "Sale price"
         },
         "type": "linear"
        },
        "yaxis": {
         "anchor": "x",
         "autorange": true,
         "domain": [
          0,
          1
         ],
         "range": [
          -6441.790265677933,
          103610.17665408434
         ],
         "title": {
          "text": "Rating"
         },
         "type": "linear"
        }
       }
      },
      "image/png": "[encoded data removed]",
      "text/html": [
       "<div>                            <div id=\"4cf30dce-e3ed-4deb-9099-b8f040f0ebd5\" class=\"plotly-graph-div\" style=\"height:900px; width:1200px;\"></div>            <script type=\"text/javascript\">                require([\"plotly\"], function(Plotly) {                    window.PLOTLYENV=window.PLOTLYENV || {};                                    if (document.getElementById(\"4cf30dce-e3ed-4deb-9099-b8f040f0ebd5\")) {                    Plotly.newPlot(                        \"4cf30dce-e3ed-4deb-9099-b8f040f0ebd5\",                        [{\"hovertemplate\":\"Product Name=APPLE iPhone 8 Plus (Gold, 64 GB)\\u003cbr\\u003eSale Price=%{x}\\u003cbr\\u003eNumber Of Ratings=%{y}\\u003cbr\\u003eDiscount Percentage=%{marker.size}\\u003cextra\\u003e\\u003c\\u002fextra\\u003e\",\"legendgroup\":\"APPLE iPhone 8 Plus (Gold, 64 GB)\",\"marker\":{\"color\":\"#636efa\",\"size\":[0],\"sizemode\":\"area\",\"sizeref\":0.0725,\"symbol\":\"circle\"},\"mode\":\"markers\",\"name\":\"APPLE iPhone 8 Plus (Gold, 64 GB)\",\"orientation\":\"v\",\"showlegend\":true,\"x\":[49900],\"xaxis\":\"x\",\"y\":[3431],\"yaxis\":\"y\",\"type\":\"scatter\"},{\"hovertemplate\":\"Product Name=APPLE iPhone 8 Plus (Space Grey, 256 GB)\\u003cbr\\u003eSale Price=%{x}\\u003cbr\\u003eNumber Of Ratings=%{y}\\u003cbr\\u003eDiscount Percentage=%{marker.size}\\u003cextra\\u003e\\u003c\\u002fextra\\u003e\",\"legendgroup\":\"APPLE iPhone 8 Plus (Space Grey, 256 GB)\",\"marker\":{\"color\":\"#EF553B\",\"size\":[0],\"sizemode\":\"area\",\"sizeref\":0.0725,\"symbol\":\"circle\"},\"mode\":\"markers\",\"name\":\"APPLE iPhone 8 Plus (Space Grey, 256 GB)\",\"orientation\":\"v\",\"showlegend\":true,\"x\":[84900],\"xaxis\":\"x\",\"y\":[3431],\"yaxis\":\"y\",\"type\":\"scatter\"},{\"hovertemplate\":\"Product Name=APPLE iPhone 8 Plus (Silver, 256 GB)\\u003cbr\\u003eSale Price=%{x}\\u003cbr\\u003eNumber Of Ratings=%{y}\\u003cbr\\u003eDiscount Percentage=%{marker.size}\\u003cextra\\u003e\\u003c\\u002fextra\\u003e\",\"legendgroup\":\"APPLE iPhone 8 Plus (Silver, 256 GB)\",\"marker\":{\"color\":\"#00cc96\",\"size\":[0],\"sizemode\":\"area\",\"sizeref\":0.0725,\"symbol\":\"circle\"},\"mode\":\"markers\",\"name\":\"APPLE iPhone 8 Plus (Silver, 256 GB)\",\"orientation\":\"v\",\"showlegend\":true,\"x\":[84900],\"xaxis\":\"x\",\"y\":[3431],\"yaxis\":\"y\",\"type\":\"scatter\"},{\"hovertemplate\":\"Product Name=APPLE iPhone 8 (Silver, 256 GB)\\u003cbr\\u003eSale Price=%{x}\\u003cbr\\u003eNumber Of Ratings=%{y}\\u003cbr\\u003eDiscount Percentage=%{marker.size}\\u003cextra\\u003e\\u003c\\u002fextra\\u003e\",\"legendgroup\":\"APPLE iPhone 8 (Silver, 256 GB)\",\"marker\":{\"color\":\"#ab63fa\",\"size\":[0],\"sizemode\":\"area\",\"sizeref\":0.0725,\"symbol\":\"circle\"},\"mode\":\"markers\",\"name\":\"APPLE iPhone 8 (Silver, 256 GB)\",\"orientation\":\"v\",\"showlegend\":true,\"x\":[77000],\"xaxis\":\"x\",\"y\":[11202],\"yaxis\":\"y\",\"type\":\"scatter\"},{\"hovertemplate\":\"Product Name=APPLE iPhone 8 (Gold, 256 GB)\\u003cbr\\u003eSale Price=%{x}\\u003cbr\\u003eNumber Of Ratings=%{y}\\u003cbr\\u003eDiscount Percentage=%{marker.size}\\u003cextra\\u003e\\u003c\\u002fextra\\u003e\",\"legendgroup\":\"APPLE iPhone 8 (Gold, 256 GB)\",\"marker\":{\"color\":\"#FFA15A\",\"size\":[0],\"sizemode\":\"area\",\"sizeref\":0.0725,\"symbol\":\"circle\"},\"mode\":\"markers\",\"name\":\"APPLE iPhone 8 (Gold, 256 GB)\",\"orientation\":\"v\",\"showlegend\":true,\"x\":[77000],\"xaxis\":\"x\",\"y\":[11202],\"yaxis\":\"y\",\"type\":\"scatter\"},{\"hovertemplate\":\"Product Name=APPLE iPhone 8 Plus (Silver, 64 GB)\\u003cbr\\u003eSale Price=%{x}\\u003cbr\\u003eNumber Of Ratings=%{y}\\u003cbr\\u003eDiscount Percentage=%{marker.size}\\u003cextra\\u003e\\u003c\\u002fextra\\u003e\",\"legendgroup\":\"APPLE iPhone 8 Plus (Silver, 64 GB)\",\"marker\":{\"color\":\"#19d3f3\",\"size\":[0],\"sizemode\":\"area\",\"sizeref\":0.0725,\"symbol\":\"circle\"},\"mode\":\"markers\",\"name\":\"APPLE iPhone 8 Plus (Silver, 64 GB)\",\"orientation\":\"v\",\"showlegend\":true,\"x\":[49900],\"xaxis\":\"x\",\"y\":[3431],\"yaxis\":\"y\",\"type\":\"scatter\"},{\"hovertemplate\":\"Product Name=APPLE iPhone 8 Plus (Space Grey, 64 GB)\\u003cbr\\u003eSale Price=%{x}\\u003cbr\\u003eNumber Of Ratings=%{y}\\u003cbr\\u003eDiscount Percentage=%{marker.size}\\u003cextra\\u003e\\u003c\\u002fextra\\u003e\",\"legendgroup\":\"APPLE iPhone 8 Plus (Space Grey, 64 GB)\",\"marker\":{\"color\":\"#FF6692\",\"size\":[0],\"sizemode\":\"area\",\"sizeref\":0.0725,\"symbol\":\"circle\"},\"mode\":\"markers\",\"name\":\"APPLE iPhone 8 Plus (Space Grey, 64 GB)\",\"orientation\":\"v\",\"showlegend\":true,\"x\":[49900],\"xaxis\":\"x\",\"y\":[3431],\"yaxis\":\"y\",\"type\":\"scatter\"},{\"hovertemplate\":\"Product Name=APPLE iPhone 8 (Space Grey, 256 GB)\\u003cbr\\u003eSale Price=%{x}\\u003cbr\\u003eNumber Of Ratings=%{y}\\u003cbr\\u003eDiscount Percentage=%{marker.size}\\u003cextra\\u003e\\u003c\\u002fextra\\u003e\",\"legendgroup\":\"APPLE iPhone 8 (Space Grey, 256 GB)\",\"marker\":{\"color\":\"#B6E880\",\"size\":[0],\"sizemode\":\"area\",\"sizeref\":0.0725,\"symbol\":\"circle\"},\"mode\":\"markers\",\"name\":\"APPLE iPhone 8 (Space Grey, 256 GB)\",\"orientation\":\"v\",\"showlegend\":true,\"x\":[77000],\"xaxis\":\"x\",\"y\":[11202],\"yaxis\":\"y\",\"type\":\"scatter\"},{\"hovertemplate\":\"Product Name=APPLE iPhone XS Max (Silver, 64 GB)\\u003cbr\\u003eSale Price=%{x}\\u003cbr\\u003eNumber Of Ratings=%{y}\\u003cbr\\u003eDiscount Percentage=%{marker.size}\\u003cextra\\u003e\\u003c\\u002fextra\\u003e\",\"legendgroup\":\"APPLE iPhone XS Max (Silver, 64 GB)\",\"marker\":{\"color\":\"#FF97FF\",\"size\":[0],\"sizemode\":\"area\",\"sizeref\":0.0725,\"symbol\":\"circle\"},\"mode\":\"markers\",\"name\":\"APPLE iPhone XS Max (Silver, 64 GB)\",\"orientation\":\"v\",\"showlegend\":true,\"x\":[89900],\"xaxis\":\"x\",\"y\":[1454],\"yaxis\":\"y\",\"type\":\"scatter\"},{\"hovertemplate\":\"Product Name=Apple iPhone XR ((PRODUCT)RED, 128 GB) (Includes EarPods, Power Adapter)\\u003cbr\\u003eSale Price=%{x}\\u003cbr\\u003eNumber Of Ratings=%{y}\\u003cbr\\u003eDiscount Percentage=%{marker.size}\\u003cextra\\u003e\\u003c\\u002fextra\\u003e\",\"legendgroup\":\"Apple iPhone XR ((PRODUCT)RED, 128 GB) (Includes EarPods, Power Adapter)\",\"marker\":{\"color\":\"#FECB52\",\"size\":[20],\"sizemode\":\"area\",\"sizeref\":0.0725,\"symbol\":\"circle\"},\"mode\":\"markers\",\"name\":\"Apple iPhone XR ((PRODUCT)RED, 128 GB) (Includes EarPods, Power Adapter)\",\"orientation\":\"v\",\"showlegend\":true,\"x\":[41999],\"xaxis\":\"x\",\"y\":[79512],\"yaxis\":\"y\",\"type\":\"scatter\"},{\"hovertemplate\":\"Product Name=Apple iPhone XR (Black, 64 GB) (Includes EarPods, Power Adapter)\\u003cbr\\u003eSale Price=%{x}\\u003cbr\\u003eNumber Of Ratings=%{y}\\u003cbr\\u003eDiscount Percentage=%{marker.size}\\u003cextra\\u003e\\u003c\\u002fextra\\u003e\",\"legendgroup\":\"Apple iPhone XR (Black, 64 GB) (Includes EarPods, Power Adapter)\",\"marker\":{\"color\":\"#636efa\",\"size\":[16],\"sizemode\":\"area\",\"sizeref\":0.0725,\"symbol\":\"circle\"},\"mode\":\"markers\",\"name\":\"Apple iPhone XR (Black, 64 GB) (Includes EarPods, Power Adapter)\",\"orientation\":\"v\",\"showlegend\":true,\"x\":[39999],\"xaxis\":\"x\",\"y\":[79512],\"yaxis\":\"y\",\"type\":\"scatter\"},{\"hovertemplate\":\"Product Name=Apple iPhone XR (Coral, 128 GB) (Includes EarPods, Power Adapter)\\u003cbr\\u003eSale Price=%{x}\\u003cbr\\u003eNumber Of Ratings=%{y}\\u003cbr\\u003eDiscount Percentage=%{marker.size}\\u003cextra\\u003e\\u003c\\u002fextra\\u003e\",\"legendgroup\":\"Apple iPhone XR (Coral, 128 GB) (Includes EarPods, Power Adapter)\",\"marker\":{\"color\":\"#EF553B\",\"size\":[20],\"sizemode\":\"area\",\"sizeref\":0.0725,\"symbol\":\"circle\"},\"mode\":\"markers\",\"name\":\"Apple iPhone XR (Coral, 128 GB) (Includes EarPods, Power Adapter)\",\"orientation\":\"v\",\"showlegend\":true,\"x\":[41999],\"xaxis\":\"x\",\"y\":[79582],\"yaxis\":\"y\",\"type\":\"scatter\"},{\"hovertemplate\":\"Product Name=Apple iPhone XR (Black, 128 GB) (Includes EarPods, Power Adapter)\\u003cbr\\u003eSale Price=%{x}\\u003cbr\\u003eNumber Of Ratings=%{y}\\u003cbr\\u003eDiscount Percentage=%{marker.size}\\u003cextra\\u003e\\u003c\\u002fextra\\u003e\",\"legendgroup\":\"Apple iPhone XR (Black, 128 GB) (Includes EarPods, Power Adapter)\",\"marker\":{\"color\":\"#00cc96\",\"size\":[20],\"sizemode\":\"area\",\"sizeref\":0.0725,\"symbol\":\"circle\"},\"mode\":\"markers\",\"name\":\"Apple iPhone XR (Black, 128 GB) (Includes EarPods, Power Adapter)\",\"orientation\":\"v\",\"showlegend\":true,\"x\":[41999],\"xaxis\":\"x\",\"y\":[79512],\"yaxis\":\"y\",\"type\":\"scatter\"},{\"hovertemplate\":\"Product Name=Apple iPhone XR (White, 128 GB) (Includes EarPods, Power Adapter)\\u003cbr\\u003eSale Price=%{x}\\u003cbr\\u003eNumber Of Ratings=%{y}\\u003cbr\\u003eDiscount Percentage=%{marker.size}\\u003cextra\\u003e\\u003c\\u002fextra\\u003e\",\"legendgroup\":\"Apple iPhone XR (White, 128 GB) (Includes EarPods, Power Adapter)\",\"marker\":{\"color\":\"#ab63fa\",\"size\":[20],\"sizemode\":\"area\",\"sizeref\":0.0725,\"symbol\":\"circle\"},\"mode\":\"markers\",\"name\":\"Apple iPhone XR (White, 128 GB) (Includes EarPods, Power Adapter)\",\"orientation\":\"v\",\"showlegend\":true,\"x\":[41999],\"xaxis\":\"x\",\"y\":[79512],\"yaxis\":\"y\",\"type\":\"scatter\"},{\"hovertemplate\":\"Product Name=APPLE iPhone 11 Pro Max (Gold, 256 GB)\\u003cbr\\u003eSale Price=%{x}\\u003cbr\\u003eNumber Of Ratings=%{y}\\u003cbr\\u003eDiscount Percentage=%{marker.size}\\u003cextra\\u003e\\u003c\\u002fextra\\u003e\",\"legendgroup\":\"APPLE iPhone 11 Pro Max (Gold, 256 GB)\",\"marker\":{\"color\":\"#FFA15A\",\"size\":[0],\"sizemode\":\"area\",\"sizeref\":0.0725,\"symbol\":\"circle\"},\"mode\":\"markers\",\"name\":\"APPLE iPhone 11 Pro Max (Gold, 256 GB)\",\"orientation\":\"v\",\"showlegend\":true,\"x\":[131900],\"xaxis\":\"x\",\"y\":[1078],\"yaxis\":\"y\",\"type\":\"scatter\"},{\"hovertemplate\":\"Product Name=APPLE iPhone 11 Pro Max (Gold, 64 GB)\\u003cbr\\u003eSale Price=%{x}\\u003cbr\\u003eNumber Of Ratings=%{y}\\u003cbr\\u003eDiscount Percentage=%{marker.size}\\u003cextra\\u003e\\u003c\\u002fextra\\u003e\",\"legendgroup\":\"APPLE iPhone 11 Pro Max (Gold, 64 GB)\",\"marker\":{\"color\":\"#19d3f3\",\"size\":[0],\"sizemode\":\"area\",\"sizeref\":0.0725,\"symbol\":\"circle\"},\"mode\":\"markers\",\"name\":\"APPLE iPhone 11 Pro Max (Gold, 64 GB)\",\"orientation\":\"v\",\"showlegend\":true,\"x\":[117100],\"xaxis\":\"x\",\"y\":[1078],\"yaxis\":\"y\",\"type\":\"scatter\"},{\"hovertemplate\":\"Product Name=APPLE iPhone 11 Pro Max (Midnight Green, 256 GB)\\u003cbr\\u003eSale Price=%{x}\\u003cbr\\u003eNumber Of Ratings=%{y}\\u003cbr\\u003eDiscount Percentage=%{marker.size}\\u003cextra\\u003e\\u003c\\u002fextra\\u003e\",\"legendgroup\":\"APPLE iPhone 11 Pro Max (Midnight Green, 256 GB)\",\"marker\":{\"color\":\"#FF6692\",\"size\":[0],\"sizemode\":\"area\",\"sizeref\":0.0725,\"symbol\":\"circle\"},\"mode\":\"markers\",\"name\":\"APPLE iPhone 11 Pro Max (Midnight Green, 256 GB)\",\"orientation\":\"v\",\"showlegend\":true,\"x\":[131900],\"xaxis\":\"x\",\"y\":[1078],\"yaxis\":\"y\",\"type\":\"scatter\"},{\"hovertemplate\":\"Product Name=APPLE iPhone 11 Pro Max (Space Grey, 64 GB)\\u003cbr\\u003eSale Price=%{x}\\u003cbr\\u003eNumber Of Ratings=%{y}\\u003cbr\\u003eDiscount Percentage=%{marker.size}\\u003cextra\\u003e\\u003c\\u002fextra\\u003e\",\"legendgroup\":\"APPLE iPhone 11 Pro Max (Space Grey, 64 GB)\",\"marker\":{\"color\":\"#B6E880\",\"size\":[0],\"sizemode\":\"area\",\"sizeref\":0.0725,\"symbol\":\"circle\"},\"mode\":\"markers\",\"name\":\"APPLE iPhone 11 Pro Max (Space Grey, 64 GB)\",\"orientation\":\"v\",\"showlegend\":true,\"x\":[117100],\"xaxis\":\"x\",\"y\":[1078],\"yaxis\":\"y\",\"type\":\"scatter\"},{\"hovertemplate\":\"Product Name=APPLE iPhone 11 Pro (Midnight Green, 64 GB)\\u003cbr\\u003eSale Price=%{x}\\u003cbr\\u003eNumber Of Ratings=%{y}\\u003cbr\\u003eDiscount Percentage=%{marker.size}\\u003cextra\\u003e\\u003c\\u002fextra\\u003e\",\"legendgroup\":\"APPLE iPhone 11 Pro (Midnight Green, 64 GB)\",\"marker\":{\"color\":\"#FF97FF\",\"size\":[29],\"sizemode\":\"area\",\"sizeref\":0.0725,\"symbol\":\"circle\"},\"mode\":\"markers\",\"name\":\"APPLE iPhone 11 Pro (Midnight Green, 64 GB)\",\"orientation\":\"v\",\"showlegend\":true,\"x\":[74999],\"xaxis\":\"x\",\"y\":[7088],\"yaxis\":\"y\",\"type\":\"scatter\"},{\"hovertemplate\":\"Product Name=APPLE iPhone 11 Pro (Space Grey, 512 GB)\\u003cbr\\u003eSale Price=%{x}\\u003cbr\\u003eNumber Of Ratings=%{y}\\u003cbr\\u003eDiscount Percentage=%{marker.size}\\u003cextra\\u003e\\u003c\\u002fextra\\u003e\",\"legendgroup\":\"APPLE iPhone 11 Pro (Space Grey, 512 GB)\",\"marker\":{\"color\":\"#FECB52\",\"size\":[15],\"sizemode\":\"area\",\"sizeref\":0.0725,\"symbol\":\"circle\"},\"mode\":\"markers\",\"name\":\"APPLE iPhone 11 Pro (Space Grey, 512 GB)\",\"orientation\":\"v\",\"showlegend\":true,\"x\":[117900],\"xaxis\":\"x\",\"y\":[7088],\"yaxis\":\"y\",\"type\":\"scatter\"},{\"hovertemplate\":\"Product Name=APPLE iPhone 11 Pro Max (Midnight Green, 64 GB)\\u003cbr\\u003eSale Price=%{x}\\u003cbr\\u003eNumber Of Ratings=%{y}\\u003cbr\\u003eDiscount Percentage=%{marker.size}\\u003cextra\\u003e\\u003c\\u002fextra\\u003e\",\"legendgroup\":\"APPLE iPhone 11 Pro Max (Midnight Green, 64 GB)\",\"marker\":{\"color\":\"#636efa\",\"size\":[0],\"sizemode\":\"area\",\"sizeref\":0.0725,\"symbol\":\"circle\"},\"mode\":\"markers\",\"name\":\"APPLE iPhone 11 Pro Max (Midnight Green, 64 GB)\",\"orientation\":\"v\",\"showlegend\":true,\"x\":[117100],\"xaxis\":\"x\",\"y\":[1078],\"yaxis\":\"y\",\"type\":\"scatter\"},{\"hovertemplate\":\"Product Name=APPLE iPhone 11 Pro (Midnight Green, 512 GB)\\u003cbr\\u003eSale Price=%{x}\\u003cbr\\u003eNumber Of Ratings=%{y}\\u003cbr\\u003eDiscount Percentage=%{marker.size}\\u003cextra\\u003e\\u003c\\u002fextra\\u003e\",\"legendgroup\":\"APPLE iPhone 11 Pro (Midnight Green, 512 GB)\",\"marker\":{\"color\":\"#EF553B\",\"size\":[15],\"sizemode\":\"area\",\"sizeref\":0.0725,\"symbol\":\"circle\"},\"mode\":\"markers\",\"name\":\"APPLE iPhone 11 Pro (Midnight Green, 512 GB)\",\"orientation\":\"v\",\"showlegend\":true,\"x\":[117900],\"xaxis\":\"x\",\"y\":[7088],\"yaxis\":\"y\",\"type\":\"scatter\"},{\"hovertemplate\":\"Product Name=APPLE iPhone 11 Pro (Space Grey, 256 GB)\\u003cbr\\u003eSale Price=%{x}\\u003cbr\\u003eNumber Of Ratings=%{y}\\u003cbr\\u003eDiscount Percentage=%{marker.size}\\u003cextra\\u003e\\u003c\\u002fextra\\u003e\",\"legendgroup\":\"APPLE iPhone 11 Pro (Space Grey, 256 GB)\",\"marker\":{\"color\":\"#00cc96\",\"size\":[17],\"sizemode\":\"area\",\"sizeref\":0.0725,\"symbol\":\"circle\"},\"mode\":\"markers\",\"name\":\"APPLE iPhone 11 Pro (Space Grey, 256 GB)\",\"orientation\":\"v\",\"showlegend\":true,\"x\":[99900],\"xaxis\":\"x\",\"y\":[7081],\"yaxis\":\"y\",\"type\":\"scatter\"},{\"hovertemplate\":\"Product Name=Apple iPhone SE (White, 256 GB) (Includes EarPods, Power Adapter)\\u003cbr\\u003eSale Price=%{x}\\u003cbr\\u003eNumber Of Ratings=%{y}\\u003cbr\\u003eDiscount Percentage=%{marker.size}\\u003cextra\\u003e\\u003c\\u002fextra\\u003e\",\"legendgroup\":\"Apple iPhone SE (White, 256 GB) (Includes EarPods, Power Adapter)\",\"marker\":{\"color\":\"#ab63fa\",\"size\":[18],\"sizemode\":\"area\",\"sizeref\":0.0725,\"symbol\":\"circle\"},\"mode\":\"markers\",\"name\":\"Apple iPhone SE (White, 256 GB) (Includes EarPods, Power Adapter)\",\"orientation\":\"v\",\"showlegend\":true,\"x\":[44999],\"xaxis\":\"x\",\"y\":[95909],\"yaxis\":\"y\",\"type\":\"scatter\"},{\"hovertemplate\":\"Product Name=APPLE iPhone 12 Pro (Silver, 512 GB)\\u003cbr\\u003eSale Price=%{x}\\u003cbr\\u003eNumber Of Ratings=%{y}\\u003cbr\\u003eDiscount Percentage=%{marker.size}\\u003cextra\\u003e\\u003c\\u002fextra\\u003e\",\"legendgroup\":\"APPLE iPhone 12 Pro (Silver, 512 GB)\",\"marker\":{\"color\":\"#FFA15A\",\"size\":[6],\"sizemode\":\"area\",\"sizeref\":0.0725,\"symbol\":\"circle\"},\"mode\":\"markers\",\"name\":\"APPLE iPhone 12 Pro (Silver, 512 GB)\",\"orientation\":\"v\",\"showlegend\":true,\"x\":[140900],\"xaxis\":\"x\",\"y\":[542],\"yaxis\":\"y\",\"type\":\"scatter\"},{\"hovertemplate\":\"Product Name=APPLE iPhone 12 Pro Max (Pacific Blue, 256 GB)\\u003cbr\\u003eSale Price=%{x}\\u003cbr\\u003eNumber Of Ratings=%{y}\\u003cbr\\u003eDiscount Percentage=%{marker.size}\\u003cextra\\u003e\\u003c\\u002fextra\\u003e\",\"legendgroup\":\"APPLE iPhone 12 Pro Max (Pacific Blue, 256 GB)\",\"marker\":{\"color\":\"#19d3f3\",\"size\":[6],\"sizemode\":\"area\",\"sizeref\":0.0725,\"symbol\":\"circle\"},\"mode\":\"markers\",\"name\":\"APPLE iPhone 12 Pro Max (Pacific Blue, 256 GB)\",\"orientation\":\"v\",\"showlegend\":true,\"x\":[130900],\"xaxis\":\"x\",\"y\":[580],\"yaxis\":\"y\",\"type\":\"scatter\"},{\"hovertemplate\":\"Product Name=APPLE iPhone 12 Mini (White, 128 GB)\\u003cbr\\u003eSale Price=%{x}\\u003cbr\\u003eNumber Of Ratings=%{y}\\u003cbr\\u003eDiscount Percentage=%{marker.size}\\u003cextra\\u003e\\u003c\\u002fextra\\u003e\",\"legendgroup\":\"APPLE iPhone 12 Mini (White, 128 GB)\",\"marker\":{\"color\":\"#FF6692\",\"size\":[13],\"sizemode\":\"area\",\"sizeref\":0.0725,\"symbol\":\"circle\"},\"mode\":\"markers\",\"name\":\"APPLE iPhone 12 Mini (White, 128 GB)\",\"orientation\":\"v\",\"showlegend\":true,\"x\":[64900],\"xaxis\":\"x\",\"y\":[740],\"yaxis\":\"y\",\"type\":\"scatter\"},{\"hovertemplate\":\"Product Name=APPLE iPhone 12 Pro (Graphite, 256 GB)\\u003cbr\\u003eSale Price=%{x}\\u003cbr\\u003eNumber Of Ratings=%{y}\\u003cbr\\u003eDiscount Percentage=%{marker.size}\\u003cextra\\u003e\\u003c\\u002fextra\\u003e\",\"legendgroup\":\"APPLE iPhone 12 Pro (Graphite, 256 GB)\",\"marker\":{\"color\":\"#B6E880\",\"size\":[6],\"sizemode\":\"area\",\"sizeref\":0.0725,\"symbol\":\"circle\"},\"mode\":\"markers\",\"name\":\"APPLE iPhone 12 Pro (Graphite, 256 GB)\",\"orientation\":\"v\",\"showlegend\":true,\"x\":[120900],\"xaxis\":\"x\",\"y\":[545],\"yaxis\":\"y\",\"type\":\"scatter\"},{\"hovertemplate\":\"Product Name=APPLE iPhone 12 Mini (White, 64 GB)\\u003cbr\\u003eSale Price=%{x}\\u003cbr\\u003eNumber Of Ratings=%{y}\\u003cbr\\u003eDiscount Percentage=%{marker.size}\\u003cextra\\u003e\\u003c\\u002fextra\\u003e\",\"legendgroup\":\"APPLE iPhone 12 Mini (White, 64 GB)\",\"marker\":{\"color\":\"#FF97FF\",\"size\":[14],\"sizemode\":\"area\",\"sizeref\":0.0725,\"symbol\":\"circle\"},\"mode\":\"markers\",\"name\":\"APPLE iPhone 12 Mini (White, 64 GB)\",\"orientation\":\"v\",\"showlegend\":true,\"x\":[59900],\"xaxis\":\"x\",\"y\":[740],\"yaxis\":\"y\",\"type\":\"scatter\"},{\"hovertemplate\":\"Product Name=APPLE iPhone 12 (White, 128 GB)\\u003cbr\\u003eSale Price=%{x}\\u003cbr\\u003eNumber Of Ratings=%{y}\\u003cbr\\u003eDiscount Percentage=%{marker.size}\\u003cextra\\u003e\\u003c\\u002fextra\\u003e\",\"legendgroup\":\"APPLE iPhone 12 (White, 128 GB)\",\"marker\":{\"color\":\"#FECB52\",\"size\":[10],\"sizemode\":\"area\",\"sizeref\":0.0725,\"symbol\":\"circle\"},\"mode\":\"markers\",\"name\":\"APPLE iPhone 12 (White, 128 GB)\",\"orientation\":\"v\",\"showlegend\":true,\"x\":[75900],\"xaxis\":\"x\",\"y\":[2101],\"yaxis\":\"y\",\"type\":\"scatter\"},{\"hovertemplate\":\"Product Name=APPLE iPhone 12 Pro (Graphite, 128 GB)\\u003cbr\\u003eSale Price=%{x}\\u003cbr\\u003eNumber Of Ratings=%{y}\\u003cbr\\u003eDiscount Percentage=%{marker.size}\\u003cextra\\u003e\\u003c\\u002fextra\\u003e\",\"legendgroup\":\"APPLE iPhone 12 Pro (Graphite, 128 GB)\",\"marker\":{\"color\":\"#636efa\",\"size\":[7],\"sizemode\":\"area\",\"sizeref\":0.0725,\"symbol\":\"circle\"},\"mode\":\"markers\",\"name\":\"APPLE iPhone 12 Pro (Graphite, 128 GB)\",\"orientation\":\"v\",\"showlegend\":true,\"x\":[110900],\"xaxis\":\"x\",\"y\":[545],\"yaxis\":\"y\",\"type\":\"scatter\"},{\"hovertemplate\":\"Product Name=APPLE iPhone 12 Pro Max (Graphite, 256 GB)\\u003cbr\\u003eSale Price=%{x}\\u003cbr\\u003eNumber Of Ratings=%{y}\\u003cbr\\u003eDiscount Percentage=%{marker.size}\\u003cextra\\u003e\\u003c\\u002fextra\\u003e\",\"legendgroup\":\"APPLE iPhone 12 Pro Max (Graphite, 256 GB)\",\"marker\":{\"color\":\"#EF553B\",\"size\":[6],\"sizemode\":\"area\",\"sizeref\":0.0725,\"symbol\":\"circle\"},\"mode\":\"markers\",\"name\":\"APPLE iPhone 12 Pro Max (Graphite, 256 GB)\",\"orientation\":\"v\",\"showlegend\":true,\"x\":[130900],\"xaxis\":\"x\",\"y\":[580],\"yaxis\":\"y\",\"type\":\"scatter\"},{\"hovertemplate\":\"Product Name=APPLE iPhone 12 Pro Max (Graphite, 128 GB)\\u003cbr\\u003eSale Price=%{x}\\u003cbr\\u003eNumber Of Ratings=%{y}\\u003cbr\\u003eDiscount Percentage=%{marker.size}\\u003cextra\\u003e\\u003c\\u002fextra\\u003e\",\"legendgroup\":\"APPLE iPhone 12 Pro Max (Graphite, 128 GB)\",\"marker\":{\"color\":\"#00cc96\",\"size\":[6],\"sizemode\":\"area\",\"sizeref\":0.0725,\"symbol\":\"circle\"},\"mode\":\"markers\",\"name\":\"APPLE iPhone 12 Pro Max (Graphite, 128 GB)\",\"orientation\":\"v\",\"showlegend\":true,\"x\":[120900],\"xaxis\":\"x\",\"y\":[580],\"yaxis\":\"y\",\"type\":\"scatter\"},{\"hovertemplate\":\"Product Name=APPLE iPhone 12 Mini (Black, 128 GB)\\u003cbr\\u003eSale Price=%{x}\\u003cbr\\u003eNumber Of Ratings=%{y}\\u003cbr\\u003eDiscount Percentage=%{marker.size}\\u003cextra\\u003e\\u003c\\u002fextra\\u003e\",\"legendgroup\":\"APPLE iPhone 12 Mini (Black, 128 GB)\",\"marker\":{\"color\":\"#ab63fa\",\"size\":[13],\"sizemode\":\"area\",\"sizeref\":0.0725,\"symbol\":\"circle\"},\"mode\":\"markers\",\"name\":\"APPLE iPhone 12 Mini (Black, 128 GB)\",\"orientation\":\"v\",\"showlegend\":true,\"x\":[64900],\"xaxis\":\"x\",\"y\":[730],\"yaxis\":\"y\",\"type\":\"scatter\"},{\"hovertemplate\":\"Product Name=APPLE iPhone 12 Mini (Blue, 128 GB)\\u003cbr\\u003eSale Price=%{x}\\u003cbr\\u003eNumber Of Ratings=%{y}\\u003cbr\\u003eDiscount Percentage=%{marker.size}\\u003cextra\\u003e\\u003c\\u002fextra\\u003e\",\"legendgroup\":\"APPLE iPhone 12 Mini (Blue, 128 GB)\",\"marker\":{\"color\":\"#FFA15A\",\"size\":[13],\"sizemode\":\"area\",\"sizeref\":0.0725,\"symbol\":\"circle\"},\"mode\":\"markers\",\"name\":\"APPLE iPhone 12 Mini (Blue, 128 GB)\",\"orientation\":\"v\",\"showlegend\":true,\"x\":[64900],\"xaxis\":\"x\",\"y\":[730],\"yaxis\":\"y\",\"type\":\"scatter\"},{\"hovertemplate\":\"Product Name=APPLE iPhone 12 (Black, 128 GB)\\u003cbr\\u003eSale Price=%{x}\\u003cbr\\u003eNumber Of Ratings=%{y}\\u003cbr\\u003eDiscount Percentage=%{marker.size}\\u003cextra\\u003e\\u003c\\u002fextra\\u003e\",\"legendgroup\":\"APPLE iPhone 12 (Black, 128 GB)\",\"marker\":{\"color\":\"#19d3f3\",\"size\":[10],\"sizemode\":\"area\",\"sizeref\":0.0725,\"symbol\":\"circle\"},\"mode\":\"markers\",\"name\":\"APPLE iPhone 12 (Black, 128 GB)\",\"orientation\":\"v\",\"showlegend\":true,\"x\":[75900],\"xaxis\":\"x\",\"y\":[2101],\"yaxis\":\"y\",\"type\":\"scatter\"},{\"hovertemplate\":\"Product Name=APPLE iPhone 12 (Blue, 128 GB)\\u003cbr\\u003eSale Price=%{x}\\u003cbr\\u003eNumber Of Ratings=%{y}\\u003cbr\\u003eDiscount Percentage=%{marker.size}\\u003cextra\\u003e\\u003c\\u002fextra\\u003e\",\"legendgroup\":\"APPLE iPhone 12 (Blue, 128 GB)\",\"marker\":{\"color\":\"#FF6692\",\"size\":[10],\"sizemode\":\"area\",\"sizeref\":0.0725,\"symbol\":\"circle\"},\"mode\":\"markers\",\"name\":\"APPLE iPhone 12 (Blue, 128 GB)\",\"orientation\":\"v\",\"showlegend\":true,\"x\":[75900],\"xaxis\":\"x\",\"y\":[2101],\"yaxis\":\"y\",\"type\":\"scatter\"},{\"hovertemplate\":\"Product Name=APPLE iPhone 12 Pro Max (Silver, 128 GB)\\u003cbr\\u003eSale Price=%{x}\\u003cbr\\u003eNumber Of Ratings=%{y}\\u003cbr\\u003eDiscount Percentage=%{marker.size}\\u003cextra\\u003e\\u003c\\u002fextra\\u003e\",\"legendgroup\":\"APPLE iPhone 12 Pro Max (Silver, 128 GB)\",\"marker\":{\"color\":\"#B6E880\",\"size\":[6],\"sizemode\":\"area\",\"sizeref\":0.0725,\"symbol\":\"circle\"},\"mode\":\"markers\",\"name\":\"APPLE iPhone 12 Pro Max (Silver, 128 GB)\",\"orientation\":\"v\",\"showlegend\":true,\"x\":[120900],\"xaxis\":\"x\",\"y\":[580],\"yaxis\":\"y\",\"type\":\"scatter\"},{\"hovertemplate\":\"Product Name=APPLE iPhone 12 Mini (Red, 64 GB)\\u003cbr\\u003eSale Price=%{x}\\u003cbr\\u003eNumber Of Ratings=%{y}\\u003cbr\\u003eDiscount Percentage=%{marker.size}\\u003cextra\\u003e\\u003c\\u002fextra\\u003e\",\"legendgroup\":\"APPLE iPhone 12 Mini (Red, 64 GB)\",\"marker\":{\"color\":\"#FF97FF\",\"size\":[14],\"sizemode\":\"area\",\"sizeref\":0.0725,\"symbol\":\"circle\"},\"mode\":\"markers\",\"name\":\"APPLE iPhone 12 Mini (Red, 64 GB)\",\"orientation\":\"v\",\"showlegend\":true,\"x\":[59900],\"xaxis\":\"x\",\"y\":[740],\"yaxis\":\"y\",\"type\":\"scatter\"},{\"hovertemplate\":\"Product Name=APPLE iPhone 12 Pro Max (Gold, 128 GB)\\u003cbr\\u003eSale Price=%{x}\\u003cbr\\u003eNumber Of Ratings=%{y}\\u003cbr\\u003eDiscount Percentage=%{marker.size}\\u003cextra\\u003e\\u003c\\u002fextra\\u003e\",\"legendgroup\":\"APPLE iPhone 12 Pro Max (Gold, 128 GB)\",\"marker\":{\"color\":\"#FECB52\",\"size\":[6],\"sizemode\":\"area\",\"sizeref\":0.0725,\"symbol\":\"circle\"},\"mode\":\"markers\",\"name\":\"APPLE iPhone 12 Pro Max (Gold, 128 GB)\",\"orientation\":\"v\",\"showlegend\":true,\"x\":[120900],\"xaxis\":\"x\",\"y\":[580],\"yaxis\":\"y\",\"type\":\"scatter\"},{\"hovertemplate\":\"Product Name=APPLE iPhone 12 (Green, 128 GB)\\u003cbr\\u003eSale Price=%{x}\\u003cbr\\u003eNumber Of Ratings=%{y}\\u003cbr\\u003eDiscount Percentage=%{marker.size}\\u003cextra\\u003e\\u003c\\u002fextra\\u003e\",\"legendgroup\":\"APPLE iPhone 12 (Green, 128 GB)\",\"marker\":{\"color\":\"#636efa\",\"size\":[10],\"sizemode\":\"area\",\"sizeref\":0.0725,\"symbol\":\"circle\"},\"mode\":\"markers\",\"name\":\"APPLE iPhone 12 (Green, 128 GB)\",\"orientation\":\"v\",\"showlegend\":true,\"x\":[75900],\"xaxis\":\"x\",\"y\":[2092],\"yaxis\":\"y\",\"type\":\"scatter\"},{\"hovertemplate\":\"Product Name=APPLE iPhone 12 Pro (Pacific Blue, 512 GB)\\u003cbr\\u003eSale Price=%{x}\\u003cbr\\u003eNumber Of Ratings=%{y}\\u003cbr\\u003eDiscount Percentage=%{marker.size}\\u003cextra\\u003e\\u003c\\u002fextra\\u003e\",\"legendgroup\":\"APPLE iPhone 12 Pro (Pacific Blue, 512 GB)\",\"marker\":{\"color\":\"#EF553B\",\"size\":[6],\"sizemode\":\"area\",\"sizeref\":0.0725,\"symbol\":\"circle\"},\"mode\":\"markers\",\"name\":\"APPLE iPhone 12 Pro (Pacific Blue, 512 GB)\",\"orientation\":\"v\",\"showlegend\":true,\"x\":[140900],\"xaxis\":\"x\",\"y\":[545],\"yaxis\":\"y\",\"type\":\"scatter\"},{\"hovertemplate\":\"Product Name=APPLE iPhone 12 (White, 64 GB)\\u003cbr\\u003eSale Price=%{x}\\u003cbr\\u003eNumber Of Ratings=%{y}\\u003cbr\\u003eDiscount Percentage=%{marker.size}\\u003cextra\\u003e\\u003c\\u002fextra\\u003e\",\"legendgroup\":\"APPLE iPhone 12 (White, 64 GB)\",\"marker\":{\"color\":\"#00cc96\",\"size\":[11],\"sizemode\":\"area\",\"sizeref\":0.0725,\"symbol\":\"circle\"},\"mode\":\"markers\",\"name\":\"APPLE iPhone 12 (White, 64 GB)\",\"orientation\":\"v\",\"showlegend\":true,\"x\":[70900],\"xaxis\":\"x\",\"y\":[2101],\"yaxis\":\"y\",\"type\":\"scatter\"},{\"hovertemplate\":\"Product Name=APPLE iPhone 12 (Black, 64 GB)\\u003cbr\\u003eSale Price=%{x}\\u003cbr\\u003eNumber Of Ratings=%{y}\\u003cbr\\u003eDiscount Percentage=%{marker.size}\\u003cextra\\u003e\\u003c\\u002fextra\\u003e\",\"legendgroup\":\"APPLE iPhone 12 (Black, 64 GB)\",\"marker\":{\"color\":\"#ab63fa\",\"size\":[11],\"sizemode\":\"area\",\"sizeref\":0.0725,\"symbol\":\"circle\"},\"mode\":\"markers\",\"name\":\"APPLE iPhone 12 (Black, 64 GB)\",\"orientation\":\"v\",\"showlegend\":true,\"x\":[70900],\"xaxis\":\"x\",\"y\":[2092],\"yaxis\":\"y\",\"type\":\"scatter\"},{\"hovertemplate\":\"Product Name=APPLE iPhone 12 (Red, 128 GB)\\u003cbr\\u003eSale Price=%{x}\\u003cbr\\u003eNumber Of Ratings=%{y}\\u003cbr\\u003eDiscount Percentage=%{marker.size}\\u003cextra\\u003e\\u003c\\u002fextra\\u003e\",\"legendgroup\":\"APPLE iPhone 12 (Red, 128 GB)\",\"marker\":{\"color\":\"#FFA15A\",\"size\":[10],\"sizemode\":\"area\",\"sizeref\":0.0725,\"symbol\":\"circle\"},\"mode\":\"markers\",\"name\":\"APPLE iPhone 12 (Red, 128 GB)\",\"orientation\":\"v\",\"showlegend\":true,\"x\":[75900],\"xaxis\":\"x\",\"y\":[2101],\"yaxis\":\"y\",\"type\":\"scatter\"},{\"hovertemplate\":\"Product Name=APPLE iPhone 12 Mini (Black, 64 GB)\\u003cbr\\u003eSale Price=%{x}\\u003cbr\\u003eNumber Of Ratings=%{y}\\u003cbr\\u003eDiscount Percentage=%{marker.size}\\u003cextra\\u003e\\u003c\\u002fextra\\u003e\",\"legendgroup\":\"APPLE iPhone 12 Mini (Black, 64 GB)\",\"marker\":{\"color\":\"#19d3f3\",\"size\":[14],\"sizemode\":\"area\",\"sizeref\":0.0725,\"symbol\":\"circle\"},\"mode\":\"markers\",\"name\":\"APPLE iPhone 12 Mini (Black, 64 GB)\",\"orientation\":\"v\",\"showlegend\":true,\"x\":[59900],\"xaxis\":\"x\",\"y\":[740],\"yaxis\":\"y\",\"type\":\"scatter\"},{\"hovertemplate\":\"Product Name=APPLE iPhone 12 Pro (Pacific Blue, 128 GB)\\u003cbr\\u003eSale Price=%{x}\\u003cbr\\u003eNumber Of Ratings=%{y}\\u003cbr\\u003eDiscount Percentage=%{marker.size}\\u003cextra\\u003e\\u003c\\u002fextra\\u003e\",\"legendgroup\":\"APPLE iPhone 12 Pro (Pacific Blue, 128 GB)\",\"marker\":{\"color\":\"#FF6692\",\"size\":[7],\"sizemode\":\"area\",\"sizeref\":0.0725,\"symbol\":\"circle\"},\"mode\":\"markers\",\"name\":\"APPLE iPhone 12 Pro (Pacific Blue, 128 GB)\",\"orientation\":\"v\",\"showlegend\":true,\"x\":[110900],\"xaxis\":\"x\",\"y\":[545],\"yaxis\":\"y\",\"type\":\"scatter\"},{\"hovertemplate\":\"Product Name=APPLE iPhone 12 Pro Max (Pacific Blue, 128 GB)\\u003cbr\\u003eSale Price=%{x}\\u003cbr\\u003eNumber Of Ratings=%{y}\\u003cbr\\u003eDiscount Percentage=%{marker.size}\\u003cextra\\u003e\\u003c\\u002fextra\\u003e\",\"legendgroup\":\"APPLE iPhone 12 Pro Max (Pacific Blue, 128 GB)\",\"marker\":{\"color\":\"#B6E880\",\"size\":[6],\"sizemode\":\"area\",\"sizeref\":0.0725,\"symbol\":\"circle\"},\"mode\":\"markers\",\"name\":\"APPLE iPhone 12 Pro Max (Pacific Blue, 128 GB)\",\"orientation\":\"v\",\"showlegend\":true,\"x\":[120900],\"xaxis\":\"x\",\"y\":[580],\"yaxis\":\"y\",\"type\":\"scatter\"},{\"hovertemplate\":\"Product Name=APPLE iPhone 12 Pro Max (Silver, 256 GB)\\u003cbr\\u003eSale Price=%{x}\\u003cbr\\u003eNumber Of Ratings=%{y}\\u003cbr\\u003eDiscount Percentage=%{marker.size}\\u003cextra\\u003e\\u003c\\u002fextra\\u003e\",\"legendgroup\":\"APPLE iPhone 12 Pro Max (Silver, 256 GB)\",\"marker\":{\"color\":\"#FF97FF\",\"size\":[6],\"sizemode\":\"area\",\"sizeref\":0.0725,\"symbol\":\"circle\"},\"mode\":\"markers\",\"name\":\"APPLE iPhone 12 Pro Max (Silver, 256 GB)\",\"orientation\":\"v\",\"showlegend\":true,\"x\":[130900],\"xaxis\":\"x\",\"y\":[580],\"yaxis\":\"y\",\"type\":\"scatter\"},{\"hovertemplate\":\"Product Name=APPLE iPhone 12 Pro Max (Gold, 256 GB)\\u003cbr\\u003eSale Price=%{x}\\u003cbr\\u003eNumber Of Ratings=%{y}\\u003cbr\\u003eDiscount Percentage=%{marker.size}\\u003cextra\\u003e\\u003c\\u002fextra\\u003e\",\"legendgroup\":\"APPLE iPhone 12 Pro Max (Gold, 256 GB)\",\"marker\":{\"color\":\"#FECB52\",\"size\":[6],\"sizemode\":\"area\",\"sizeref\":0.0725,\"symbol\":\"circle\"},\"mode\":\"markers\",\"name\":\"APPLE iPhone 12 Pro Max (Gold, 256 GB)\",\"orientation\":\"v\",\"showlegend\":true,\"x\":[130900],\"xaxis\":\"x\",\"y\":[580],\"yaxis\":\"y\",\"type\":\"scatter\"},{\"hovertemplate\":\"Product Name=APPLE iPhone 11 (White, 128 GB)\\u003cbr\\u003eSale Price=%{x}\\u003cbr\\u003eNumber Of Ratings=%{y}\\u003cbr\\u003eDiscount Percentage=%{marker.size}\\u003cextra\\u003e\\u003c\\u002fextra\\u003e\",\"legendgroup\":\"APPLE iPhone 11 (White, 128 GB)\",\"marker\":{\"color\":\"#636efa\",\"size\":[8],\"sizemode\":\"area\",\"sizeref\":0.0725,\"symbol\":\"circle\"},\"mode\":\"markers\",\"name\":\"APPLE iPhone 11 (White, 128 GB)\",\"orientation\":\"v\",\"showlegend\":true,\"x\":[54999],\"xaxis\":\"x\",\"y\":[43707],\"yaxis\":\"y\",\"type\":\"scatter\"},{\"hovertemplate\":\"Product Name=APPLE iPhone 11 (Red, 128 GB)\\u003cbr\\u003eSale Price=%{x}\\u003cbr\\u003eNumber Of Ratings=%{y}\\u003cbr\\u003eDiscount Percentage=%{marker.size}\\u003cextra\\u003e\\u003c\\u002fextra\\u003e\",\"legendgroup\":\"APPLE iPhone 11 (Red, 128 GB)\",\"marker\":{\"color\":\"#EF553B\",\"size\":[8],\"sizemode\":\"area\",\"sizeref\":0.0725,\"symbol\":\"circle\"},\"mode\":\"markers\",\"name\":\"APPLE iPhone 11 (Red, 128 GB)\",\"orientation\":\"v\",\"showlegend\":true,\"x\":[54999],\"xaxis\":\"x\",\"y\":[43707],\"yaxis\":\"y\",\"type\":\"scatter\"},{\"hovertemplate\":\"Product Name=APPLE iPhone SE (White, 64 GB)\\u003cbr\\u003eSale Price=%{x}\\u003cbr\\u003eNumber Of Ratings=%{y}\\u003cbr\\u003eDiscount Percentage=%{marker.size}\\u003cextra\\u003e\\u003c\\u002fextra\\u003e\",\"legendgroup\":\"APPLE iPhone SE (White, 64 GB)\",\"marker\":{\"color\":\"#00cc96\",\"size\":[24],\"sizemode\":\"area\",\"sizeref\":0.0725,\"symbol\":\"circle\"},\"mode\":\"markers\",\"name\":\"APPLE iPhone SE (White, 64 GB)\",\"orientation\":\"v\",\"showlegend\":true,\"x\":[29999],\"xaxis\":\"x\",\"y\":[95807],\"yaxis\":\"y\",\"type\":\"scatter\"},{\"hovertemplate\":\"Product Name=APPLE iPhone SE (Black, 128 GB)\\u003cbr\\u003eSale Price=%{x}\\u003cbr\\u003eNumber Of Ratings=%{y}\\u003cbr\\u003eDiscount Percentage=%{marker.size}\\u003cextra\\u003e\\u003c\\u002fextra\\u003e\",\"legendgroup\":\"APPLE iPhone SE (Black, 128 GB)\",\"marker\":{\"color\":\"#ab63fa\",\"size\":[22],\"sizemode\":\"area\",\"sizeref\":0.0725,\"symbol\":\"circle\"},\"mode\":\"markers\",\"name\":\"APPLE iPhone SE (Black, 128 GB)\",\"orientation\":\"v\",\"showlegend\":true,\"x\":[34999],\"xaxis\":\"x\",\"y\":[95909],\"yaxis\":\"y\",\"type\":\"scatter\"},{\"hovertemplate\":\"Product Name=APPLE iPhone SE (White, 128 GB)\\u003cbr\\u003eSale Price=%{x}\\u003cbr\\u003eNumber Of Ratings=%{y}\\u003cbr\\u003eDiscount Percentage=%{marker.size}\\u003cextra\\u003e\\u003c\\u002fextra\\u003e\",\"legendgroup\":\"APPLE iPhone SE (White, 128 GB)\",\"marker\":{\"color\":\"#FFA15A\",\"size\":[22],\"sizemode\":\"area\",\"sizeref\":0.0725,\"symbol\":\"circle\"},\"mode\":\"markers\",\"name\":\"APPLE iPhone SE (White, 128 GB)\",\"orientation\":\"v\",\"showlegend\":true,\"x\":[34999],\"xaxis\":\"x\",\"y\":[95807],\"yaxis\":\"y\",\"type\":\"scatter\"},{\"hovertemplate\":\"Product Name=APPLE iPhone SE (Red, 128 GB)\\u003cbr\\u003eSale Price=%{x}\\u003cbr\\u003eNumber Of Ratings=%{y}\\u003cbr\\u003eDiscount Percentage=%{marker.size}\\u003cextra\\u003e\\u003c\\u002fextra\\u003e\",\"legendgroup\":\"APPLE iPhone SE (Red, 128 GB)\",\"marker\":{\"color\":\"#19d3f3\",\"size\":[22],\"sizemode\":\"area\",\"sizeref\":0.0725,\"symbol\":\"circle\"},\"mode\":\"markers\",\"name\":\"APPLE iPhone SE (Red, 128 GB)\",\"orientation\":\"v\",\"showlegend\":true,\"x\":[34999],\"xaxis\":\"x\",\"y\":[95909],\"yaxis\":\"y\",\"type\":\"scatter\"},{\"hovertemplate\":\"Product Name=APPLE iPhone 11 (Black, 128 GB)\\u003cbr\\u003eSale Price=%{x}\\u003cbr\\u003eNumber Of Ratings=%{y}\\u003cbr\\u003eDiscount Percentage=%{marker.size}\\u003cextra\\u003e\\u003c\\u002fextra\\u003e\",\"legendgroup\":\"APPLE iPhone 11 (Black, 128 GB)\",\"marker\":{\"color\":\"#FF6692\",\"size\":[8],\"sizemode\":\"area\",\"sizeref\":0.0725,\"symbol\":\"circle\"},\"mode\":\"markers\",\"name\":\"APPLE iPhone 11 (Black, 128 GB)\",\"orientation\":\"v\",\"showlegend\":true,\"x\":[54999],\"xaxis\":\"x\",\"y\":[43470],\"yaxis\":\"y\",\"type\":\"scatter\"},{\"hovertemplate\":\"Product Name=APPLE iPhone SE (Black, 64 GB)\\u003cbr\\u003eSale Price=%{x}\\u003cbr\\u003eNumber Of Ratings=%{y}\\u003cbr\\u003eDiscount Percentage=%{marker.size}\\u003cextra\\u003e\\u003c\\u002fextra\\u003e\",\"legendgroup\":\"APPLE iPhone SE (Black, 64 GB)\",\"marker\":{\"color\":\"#B6E880\",\"size\":[24],\"sizemode\":\"area\",\"sizeref\":0.0725,\"symbol\":\"circle\"},\"mode\":\"markers\",\"name\":\"APPLE iPhone SE (Black, 64 GB)\",\"orientation\":\"v\",\"showlegend\":true,\"x\":[29999],\"xaxis\":\"x\",\"y\":[95909],\"yaxis\":\"y\",\"type\":\"scatter\"},{\"hovertemplate\":\"Product Name=APPLE iPhone 11 (Purple, 64 GB)\\u003cbr\\u003eSale Price=%{x}\\u003cbr\\u003eNumber Of Ratings=%{y}\\u003cbr\\u003eDiscount Percentage=%{marker.size}\\u003cextra\\u003e\\u003c\\u002fextra\\u003e\",\"legendgroup\":\"APPLE iPhone 11 (Purple, 64 GB)\",\"marker\":{\"color\":\"#FF97FF\",\"size\":[14],\"sizemode\":\"area\",\"sizeref\":0.0725,\"symbol\":\"circle\"},\"mode\":\"markers\",\"name\":\"APPLE iPhone 11 (Purple, 64 GB)\",\"orientation\":\"v\",\"showlegend\":true,\"x\":[46999],\"xaxis\":\"x\",\"y\":[43470],\"yaxis\":\"y\",\"type\":\"scatter\"},{\"hovertemplate\":\"Product Name=APPLE iPhone 11 (White, 64 GB)\\u003cbr\\u003eSale Price=%{x}\\u003cbr\\u003eNumber Of Ratings=%{y}\\u003cbr\\u003eDiscount Percentage=%{marker.size}\\u003cextra\\u003e\\u003c\\u002fextra\\u003e\",\"legendgroup\":\"APPLE iPhone 11 (White, 64 GB)\",\"marker\":{\"color\":\"#FECB52\",\"size\":[14],\"sizemode\":\"area\",\"sizeref\":0.0725,\"symbol\":\"circle\"},\"mode\":\"markers\",\"name\":\"APPLE iPhone 11 (White, 64 GB)\",\"orientation\":\"v\",\"showlegend\":true,\"x\":[46999],\"xaxis\":\"x\",\"y\":[43470],\"yaxis\":\"y\",\"type\":\"scatter\"},{\"hovertemplate\":\"Product Name=APPLE iPhone 11 (Black, 64 GB)\\u003cbr\\u003eSale Price=%{x}\\u003cbr\\u003eNumber Of Ratings=%{y}\\u003cbr\\u003eDiscount Percentage=%{marker.size}\\u003cextra\\u003e\\u003c\\u002fextra\\u003e\",\"legendgroup\":\"APPLE iPhone 11 (Black, 64 GB)\",\"marker\":{\"color\":\"#636efa\",\"size\":[14],\"sizemode\":\"area\",\"sizeref\":0.0725,\"symbol\":\"circle\"},\"mode\":\"markers\",\"name\":\"APPLE iPhone 11 (Black, 64 GB)\",\"orientation\":\"v\",\"showlegend\":true,\"x\":[46999],\"xaxis\":\"x\",\"y\":[43470],\"yaxis\":\"y\",\"type\":\"scatter\"},{\"hovertemplate\":\"Product Name=APPLE iPhone 11 (Red, 64 GB)\\u003cbr\\u003eSale Price=%{x}\\u003cbr\\u003eNumber Of Ratings=%{y}\\u003cbr\\u003eDiscount Percentage=%{marker.size}\\u003cextra\\u003e\\u003c\\u002fextra\\u003e\",\"legendgroup\":\"APPLE iPhone 11 (Red, 64 GB)\",\"marker\":{\"color\":\"#EF553B\",\"size\":[14],\"sizemode\":\"area\",\"sizeref\":0.0725,\"symbol\":\"circle\"},\"mode\":\"markers\",\"name\":\"APPLE iPhone 11 (Red, 64 GB)\",\"orientation\":\"v\",\"showlegend\":true,\"x\":[46999],\"xaxis\":\"x\",\"y\":[43470],\"yaxis\":\"y\",\"type\":\"scatter\"}],                        {\"template\":{\"data\":{\"histogram2dcontour\":[{\"type\":\"histogram2dcontour\",\"colorbar\":{\"outlinewidth\":0,\"ticks\":\"\"},\"colorscale\":[[0.0,\"#0d0887\"],[0.1111111111111111,\"#46039f\"],[0.2222222222222222,\"#7201a8\"],[0.3333333333333333,\"#9c179e\"],[0.4444444444444444,\"#bd3786\"],[0.5555555555555556,\"#d8576b\"],[0.6666666666666666,\"#ed7953\"],[0.7777777777777778,\"#fb9f3a\"],[0.8888888888888888,\"#fdca26\"],[1.0,\"#f0f921\"]]}],\"choropleth\":[{\"type\":\"choropleth\",\"colorbar\":{\"outlinewidth\":0,\"ticks\":\"\"}}],\"histogram2d\":[{\"type\":\"histogram2d\",\"colorbar\":{\"outlinewidth\":0,\"ticks\":\"\"},\"colorscale\":[[0.0,\"#0d0887\"],[0.1111111111111111,\"#46039f\"],[0.2222222222222222,\"#7201a8\"],[0.3333333333333333,\"#9c179e\"],[0.4444444444444444,\"#bd3786\"],[0.5555555555555556,\"#d8576b\"],[0.6666666666666666,\"#ed7953\"],[0.7777777777777778,\"#fb9f3a\"],[0.8888888888888888,\"#fdca26\"],[1.0,\"#f0f921\"]]}],\"heatmap\":[{\"type\":\"heatmap\",\"colorbar\":{\"outlinewidth\":0,\"ticks\":\"\"},\"colorscale\":[[0.0,\"#0d0887\"],[0.1111111111111111,\"#46039f\"],[0.2222222222222222,\"#7201a8\"],[0.3333333333333333,\"#9c179e\"],[0.4444444444444444,\"#bd3786\"],[0.5555555555555556,\"#d8576b\"],[0.6666666666666666,\"#ed7953\"],[0.7777777777777778,\"#fb9f3a\"],[0.8888888888888888,\"#fdca26\"],[1.0,\"#f0f921\"]]}],\"heatmapgl\":[{\"type\":\"heatmapgl\",\"colorbar\":{\"outlinewidth\":0,\"ticks\":\"\"},\"colorscale\":[[0.0,\"#0d0887\"],[0.1111111111111111,\"#46039f\"],[0.2222222222222222,\"#7201a8\"],[0.3333333333333333,\"#9c179e\"],[0.4444444444444444,\"#bd3786\"],[0.5555555555555556,\"#d8576b\"],[0.6666666666666666,\"#ed7953\"],[0.7777777777777778,\"#fb9f3a\"],[0.8888888888888888,\"#fdca26\"],[1.0,\"#f0f921\"]]}],\"contourcarpet\":[{\"type\":\"contourcarpet\",\"colorbar\":{\"outlinewidth\":0,\"ticks\":\"\"}}],\"contour\":[{\"type\":\"contour\",\"colorbar\":{\"outlinewidth\":0,\"ticks\":\"\"},\"colorscale\":[[0.0,\"#0d0887\"],[0.1111111111111111,\"#46039f\"],[0.2222222222222222,\"#7201a8\"],[0.3333333333333333,\"#9c179e\"],[0.4444444444444444,\"#bd3786\"],[0.5555555555555556,\"#d8576b\"],[0.6666666666666666,\"#ed7953\"],[0.7777777777777778,\"#fb9f3a\"],[0.8888888888888888,\"#fdca26\"],[1.0,\"#f0f921\"]]}],\"surface\":[{\"type\":\"surface\",\"colorbar\":{\"outlinewidth\":0,\"ticks\":\"\"},\"colorscale\":[[0.0,\"#0d0887\"],[0.1111111111111111,\"#46039f\"],[0.2222222222222222,\"#7201a8\"],[0.3333333333333333,\"#9c179e\"],[0.4444444444444444,\"#bd3786\"],[0.5555555555555556,\"#d8576b\"],[0.6666666666666666,\"#ed7953\"],[0.7777777777777778,\"#fb9f3a\"],[0.8888888888888888,\"#fdca26\"],[1.0,\"#f0f921\"]]}],\"mesh3d\":[{\"type\":\"mesh3d\",\"colorbar\":{\"outlinewidth\":0,\"ticks\":\"\"}}],\"scatter\":[{\"fillpattern\":{\"fillmode\":\"overlay\",\"size\":10,\"solidity\":0.2},\"type\":\"scatter\"}],\"parcoords\":[{\"type\":\"parcoords\",\"line\":{\"colorbar\":{\"outlinewidth\":0,\"ticks\":\"\"}}}],\"scatterpolargl\":[{\"type\":\"scatterpolargl\",\"marker\":{\"colorbar\":{\"outlinewidth\":0,\"ticks\":\"\"}}}],\"bar\":[{\"error_x\":{\"color\":\"#2a3f5f\"},\"error_y\":{\"color\":\"#2a3f5f\"},\"marker\":{\"line\":{\"color\":\"#E5ECF6\",\"width\":0.5},\"pattern\":{\"fillmode\":\"overlay\",\"size\":10,\"solidity\":0.2}},\"type\":\"bar\"}],\"scattergeo\":[{\"type\":\"scattergeo\",\"marker\":{\"colorbar\":{\"outlinewidth\":0,\"ticks\":\"\"}}}],\"scatterpolar\":[{\"type\":\"scatterpolar\",\"marker\":{\"colorbar\":{\"outlinewidth\":0,\"ticks\":\"\"}}}],\"histogram\":[{\"marker\":{\"pattern\":{\"fillmode\":\"overlay\",\"size\":10,\"solidity\":0.2}},\"type\":\"histogram\"}],\"scattergl\":[{\"type\":\"scattergl\",\"marker\":{\"colorbar\":{\"outlinewidth\":0,\"ticks\":\"\"}}}],\"scatter3d\":[{\"type\":\"scatter3d\",\"line\":{\"colorbar\":{\"outlinewidth\":0,\"ticks\":\"\"}},\"marker\":{\"colorbar\":{\"outlinewidth\":0,\"ticks\":\"\"}}}],\"scattermapbox\":[{\"type\":\"scattermapbox\",\"marker\":{\"colorbar\":{\"outlinewidth\":0,\"ticks\":\"\"}}}],\"scatterternary\":[{\"type\":\"scatterternary\",\"marker\":{\"colorbar\":{\"outlinewidth\":0,\"ticks\":\"\"}}}],\"scattercarpet\":[{\"type\":\"scattercarpet\",\"marker\":{\"colorbar\":{\"outlinewidth\":0,\"ticks\":\"\"}}}],\"carpet\":[{\"aaxis\":{\"endlinecolor\":\"#2a3f5f\",\"gridcolor\":\"white\",\"linecolor\":\"white\",\"minorgridcolor\":\"white\",\"startlinecolor\":\"#2a3f5f\"},\"baxis\":{\"endlinecolor\":\"#2a3f5f\",\"gridcolor\":\"white\",\"linecolor\":\"white\",\"minorgridcolor\":\"white\",\"startlinecolor\":\"#2a3f5f\"},\"type\":\"carpet\"}],\"table\":[{\"cells\":{\"fill\":{\"color\":\"#EBF0F8\"},\"line\":{\"color\":\"white\"}},\"header\":{\"fill\":{\"color\":\"#C8D4E3\"},\"line\":{\"color\":\"white\"}},\"type\":\"table\"}],\"barpolar\":[{\"marker\":{\"line\":{\"color\":\"#E5ECF6\",\"width\":0.5},\"pattern\":{\"fillmode\":\"overlay\",\"size\":10,\"solidity\":0.2}},\"type\":\"barpolar\"}],\"pie\":[{\"automargin\":true,\"type\":\"pie\"}]},\"layout\":{\"autotypenumbers\":\"strict\",\"colorway\":[\"#636efa\",\"#EF553B\",\"#00cc96\",\"#ab63fa\",\"#FFA15A\",\"#19d3f3\",\"#FF6692\",\"#B6E880\",\"#FF97FF\",\"#FECB52\"],\"font\":{\"color\":\"#2a3f5f\"},\"hovermode\":\"closest\",\"hoverlabel\":{\"align\":\"left\"},\"paper_bgcolor\":\"white\",\"plot_bgcolor\":\"#E5ECF6\",\"polar\":{\"bgcolor\":\"#E5ECF6\",\"angularaxis\":{\"gridcolor\":\"white\",\"linecolor\":\"white\",\"ticks\":\"\"},\"radialaxis\":{\"gridcolor\":\"white\",\"linecolor\":\"white\",\"ticks\":\"\"}},\"ternary\":{\"bgcolor\":\"#E5ECF6\",\"aaxis\":{\"gridcolor\":\"white\",\"linecolor\":\"white\",\"ticks\":\"\"},\"baxis\":{\"gridcolor\":\"white\",\"linecolor\":\"white\",\"ticks\":\"\"},\"caxis\":{\"gridcolor\":\"white\",\"linecolor\":\"white\",\"ticks\":\"\"}},\"coloraxis\":{\"colorbar\":{\"outlinewidth\":0,\"ticks\":\"\"}},\"colorscale\":{\"sequential\":[[0.0,\"#0d0887\"],[0.1111111111111111,\"#46039f\"],[0.2222222222222222,\"#7201a8\"],[0.3333333333333333,\"#9c179e\"],[0.4444444444444444,\"#bd3786\"],[0.5555555555555556,\"#d8576b\"],[0.6666666666666666,\"#ed7953\"],[0.7777777777777778,\"#fb9f3a\"],[0.8888888888888888,\"#fdca26\"],[1.0,\"#f0f921\"]],\"sequentialminus\":[[0.0,\"#0d0887\"],[0.1111111111111111,\"#46039f\"],[0.2222222222222222,\"#7201a8\"],[0.3333333333333333,\"#9c179e\"],[0.4444444444444444,\"#bd3786\"],[0.5555555555555556,\"#d8576b\"],[0.6666666666666666,\"#ed7953\"],[0.7777777777777778,\"#fb9f3a\"],[0.8888888888888888,\"#fdca26\"],[1.0,\"#f0f921\"]],\"diverging\":[[0,\"#8e0152\"],[0.1,\"#c51b7d\"],[0.2,\"#de77ae\"],[0.3,\"#f1b6da\"],[0.4,\"#fde0ef\"],[0.5,\"#f7f7f7\"],[0.6,\"#e6f5d0\"],[0.7,\"#b8e186\"],[0.8,\"#7fbc41\"],[0.9,\"#4d9221\"],[1,\"#276419\"]]},\"xaxis\":{\"gridcolor\":\"white\",\"linecolor\":\"white\",\"ticks\":\"\",\"title\":{\"standoff\":15},\"zerolinecolor\":\"white\",\"automargin\":true,\"zerolinewidth\":2},\"yaxis\":{\"gridcolor\":\"white\",\"linecolor\":\"white\",\"ticks\":\"\",\"title\":{\"standoff\":15},\"zerolinecolor\":\"white\",\"automargin\":true,\"zerolinewidth\":2},\"scene\":{\"xaxis\":{\"backgroundcolor\":\"#E5ECF6\",\"gridcolor\":\"white\",\"linecolor\":\"white\",\"showbackground\":true,\"ticks\":\"\",\"zerolinecolor\":\"white\",\"gridwidth\":2},\"yaxis\":{\"backgroundcolor\":\"#E5ECF6\",\"gridcolor\":\"white\",\"linecolor\":\"white\",\"showbackground\":true,\"ticks\":\"\",\"zerolinecolor\":\"white\",\"gridwidth\":2},\"zaxis\":{\"backgroundcolor\":\"#E5ECF6\",\"gridcolor\":\"white\",\"linecolor\":\"white\",\"showbackground\":true,\"ticks\":\"\",\"zerolinecolor\":\"white\",\"gridwidth\":2}},\"shapedefaults\":{\"line\":{\"color\":\"#2a3f5f\"}},\"annotationdefaults\":{\"arrowcolor\":\"#2a3f5f\",\"arrowhead\":0,\"arrowwidth\":1},\"geo\":{\"bgcolor\":\"white\",\"landcolor\":\"#E5ECF6\",\"subunitcolor\":\"white\",\"showland\":true,\"showlakes\":true,\"lakecolor\":\"white\"},\"title\":{\"x\":0.05},\"mapbox\":{\"style\":\"light\"}}},\"xaxis\":{\"anchor\":\"y\",\"domain\":[0.0,1.0],\"title\":{\"text\":\"Sale price\"}},\"yaxis\":{\"anchor\":\"x\",\"domain\":[0.0,1.0],\"title\":{\"text\":\"Rating\"}},\"legend\":{\"title\":{\"text\":\"Product Name\"},\"tracegroupgap\":0,\"itemsizing\":\"constant\"},\"title\":{\"text\":\"Ratings by sale price\"},\"width\":1200,\"height\":900},                        {\"responsive\": true}                    ).then(function(){\n",
       "                            \n",
       "var gd = document.getElementById('4cf30dce-e3ed-4deb-9099-b8f040f0ebd5');\n",
       "var x = new MutationObserver(function (mutations, observer) {{\n",
       "        var display = window.getComputedStyle(gd).display;\n",
       "        if (!display || display === 'none') {{\n",
       "            console.log([gd, 'removed!']);\n",
       "            Plotly.purge(gd);\n",
       "            observer.disconnect();\n",
       "        }}\n",
       "}});\n",
       "\n",
       "// Listen for the removal of the full notebook cells\n",
       "var notebookContainer = gd.closest('#notebook-container');\n",
       "if (notebookContainer) {{\n",
       "    x.observe(notebookContainer, {childList: true});\n",
       "}}\n",
       "\n",
       "// Listen for the clearing of the current output cell\n",
       "var outputEl = gd.closest('.output');\n",
       "if (outputEl) {{\n",
       "    x.observe(outputEl, {childList: true});\n",
       "}}\n",
       "\n",
       "                        })                };                });            </script>        </div>"
      ]
     },
     "metadata": {},
     "output_type": "display_data"
    }
   ],
   "source": [
    "\n",
    "fig= px.scatter(data_frame=df, x=\"Sale Price\",  y=\"Number Of Ratings\", \n",
    "                size=\"Discount Percentage\", title=\"Ratings by sale price\", color='Product Name')  \n",
    "fig.update_layout(width=1200, height=900, xaxis_title='Sale price', yaxis_title='Rating' ) \n",
    "fig.show()"
   ]
  },
  {
   "cell_type": "markdown",
   "id": "5391b0ce-0950-4e20-a7f0-2b78029ae973",
   "metadata": {},
   "source": [
    "## # Inference :\n",
    "\n",
    "Certain products, such as 'Apple iPhone SE (White, 64 GB)', 'Apple iPhone SE (Red, 128 GB)', 'Apple iPhone SE (White, 264 GB)', and 'Apple iPhone XR        (Black, 64 GB)', display significantly better customer ratings despite their lower price points. This suggests that these products may offer exceptional    value for money, fulfilling or exceeding customer expectations in their price segment.\n",
    "\n",
    "\n",
    "\n",
    "\n",
    "\n",
    "\n",
    "\n",
    "\n",
    "\n",
    "\n",
    "\n",
    "\n",
    "\n",
    "\n",
    "\n",
    "\n",
    "\n",
    "Conversely, higher-priced models like 'Apple iPhone 12 Pro (Pacific Blue, 512 GB)', 'Apple iPhone 12 Pro Max (Pacific Blue, 128 GB)', and 'Apple iPhone     11 Pro (Space Grey, 256 GB)' have received noticeably lower customer ratings. This indicates potential dissatisfaction despite their premium                positioning, possibly due to unmet expectations regarding features, performance, or perceived value."
   ]
  },
  {
   "cell_type": "code",
   "execution_count": null,
   "id": "8d584359-f034-47bd-8765-8566bcbb64e0",
   "metadata": {},
   "outputs": [],
   "source": []
  }
 ],
 "metadata": {
  "kernelspec": {
   "display_name": "Python 3 (ipykernel)",
   "language": "python",
   "name": "python3"
  },
  "language_info": {
   "codemirror_mode": {
    "name": "ipython",
    "version": 3
   },
   "file_extension": ".py",
   "mimetype": "text/x-python",
   "name": "python",
   "nbconvert_exporter": "python",
   "pygments_lexer": "ipython3",
   "version": "3.12.4"
  }
 },
 "nbformat": 4,
 "nbformat_minor": 5
}
